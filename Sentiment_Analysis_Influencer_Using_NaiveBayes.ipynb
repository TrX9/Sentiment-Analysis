{
  "nbformat": 4,
  "nbformat_minor": 0,
  "metadata": {
    "colab": {
      "provenance": []
    },
    "kernelspec": {
      "name": "python3",
      "display_name": "Python 3"
    },
    "language_info": {
      "name": "python"
    }
  },
  "cells": [
    {
      "cell_type": "code",
      "source": [
        "import pandas as pd\n",
        "import numpy as np\n",
        "import matplotlib as nlp\n",
        "import re\n",
        "import nltk"
      ],
      "metadata": {
        "id": "YLP2w9hRdu-g"
      },
      "execution_count": 2,
      "outputs": []
    },
    {
      "cell_type": "code",
      "source": [
        "#read file\n",
        "from google.colab import drive\n",
        "drive.mount('/content/drive')\n",
        "tweets  = pd.read_csv(\"/content/drive/MyDrive/tweets/World Cup 2022 Influencer Tweets.csv\")\n",
        "#display the first tweets\n",
        "tweets.head()"
      ],
      "metadata": {
        "id": "Co0Z3l-1Orji",
        "colab": {
          "base_uri": "https://localhost:8080/",
          "height": 224
        },
        "outputId": "0f5f8cdc-fb4f-4f28-a4ef-4e0ef2d07208"
      },
      "execution_count": 3,
      "outputs": [
        {
          "output_type": "stream",
          "name": "stdout",
          "text": [
            "Mounted at /content/drive\n"
          ]
        },
        {
          "output_type": "execute_result",
          "data": {
            "text/plain": [
              "        user_name user_location               user_created  user_followers  \\\n",
              "0  FIFA World Cup           NaN  2010-04-29 10:58:07+00:00        12329448   \n",
              "1     beIN SPORTS          MENA  2012-05-10 13:45:16+00:00         1440770   \n",
              "2  FIFA World Cup           NaN  2010-04-29 10:58:07+00:00        12329448   \n",
              "3    Road to 2022           NaN  2016-02-29 12:02:29+00:00         1296410   \n",
              "4    Road to 2022           NaN  2016-02-29 12:02:29+00:00         1298433   \n",
              "\n",
              "   user_favourites  user_verified                       date  \\\n",
              "0             2228           True  2023-01-18 16:02:30+00:00   \n",
              "1             5828           True  2023-01-18 15:39:50+00:00   \n",
              "2             2228           True  2023-01-18 11:30:30+00:00   \n",
              "3              877           True  2023-01-17 12:16:17+00:00   \n",
              "4              877           True  2023-01-17 12:16:17+00:00   \n",
              "\n",
              "                                                text                   source  \n",
              "0  The greatest final ever. \\n\\n#FIFAWorldCup | #...  Twitter for Advertisers  \n",
              "1  🗓️🏆\\n\\nOne month on from a truly 𝙪𝙣𝙛𝙤𝙧𝙜𝙚𝙩𝙩𝙖𝙗𝙡𝙚...          Twitter Web App  \n",
              "2  “Argentine Gold!” 🫶\\n\\nA month ago today, Ange...  Twitter for Advertisers  \n",
              "3  The #Qatar2022 Podium: \\n\\n🥇 @Argentina \\n🥈 @F...       Twitter for iPhone  \n",
              "4  The #Qatar2022 Podium: \\n\\n🥇 @Argentina \\n🥈 @F...       Twitter for iPhone  "
            ],
            "text/html": [
              "\n",
              "  <div id=\"df-9a793074-18b3-4a04-a209-ab92a086e5a0\">\n",
              "    <div class=\"colab-df-container\">\n",
              "      <div>\n",
              "<style scoped>\n",
              "    .dataframe tbody tr th:only-of-type {\n",
              "        vertical-align: middle;\n",
              "    }\n",
              "\n",
              "    .dataframe tbody tr th {\n",
              "        vertical-align: top;\n",
              "    }\n",
              "\n",
              "    .dataframe thead th {\n",
              "        text-align: right;\n",
              "    }\n",
              "</style>\n",
              "<table border=\"1\" class=\"dataframe\">\n",
              "  <thead>\n",
              "    <tr style=\"text-align: right;\">\n",
              "      <th></th>\n",
              "      <th>user_name</th>\n",
              "      <th>user_location</th>\n",
              "      <th>user_created</th>\n",
              "      <th>user_followers</th>\n",
              "      <th>user_favourites</th>\n",
              "      <th>user_verified</th>\n",
              "      <th>date</th>\n",
              "      <th>text</th>\n",
              "      <th>source</th>\n",
              "    </tr>\n",
              "  </thead>\n",
              "  <tbody>\n",
              "    <tr>\n",
              "      <th>0</th>\n",
              "      <td>FIFA World Cup</td>\n",
              "      <td>NaN</td>\n",
              "      <td>2010-04-29 10:58:07+00:00</td>\n",
              "      <td>12329448</td>\n",
              "      <td>2228</td>\n",
              "      <td>True</td>\n",
              "      <td>2023-01-18 16:02:30+00:00</td>\n",
              "      <td>The greatest final ever. \\n\\n#FIFAWorldCup | #...</td>\n",
              "      <td>Twitter for Advertisers</td>\n",
              "    </tr>\n",
              "    <tr>\n",
              "      <th>1</th>\n",
              "      <td>beIN SPORTS</td>\n",
              "      <td>MENA</td>\n",
              "      <td>2012-05-10 13:45:16+00:00</td>\n",
              "      <td>1440770</td>\n",
              "      <td>5828</td>\n",
              "      <td>True</td>\n",
              "      <td>2023-01-18 15:39:50+00:00</td>\n",
              "      <td>🗓️🏆\\n\\nOne month on from a truly 𝙪𝙣𝙛𝙤𝙧𝙜𝙚𝙩𝙩𝙖𝙗𝙡𝙚...</td>\n",
              "      <td>Twitter Web App</td>\n",
              "    </tr>\n",
              "    <tr>\n",
              "      <th>2</th>\n",
              "      <td>FIFA World Cup</td>\n",
              "      <td>NaN</td>\n",
              "      <td>2010-04-29 10:58:07+00:00</td>\n",
              "      <td>12329448</td>\n",
              "      <td>2228</td>\n",
              "      <td>True</td>\n",
              "      <td>2023-01-18 11:30:30+00:00</td>\n",
              "      <td>“Argentine Gold!” 🫶\\n\\nA month ago today, Ange...</td>\n",
              "      <td>Twitter for Advertisers</td>\n",
              "    </tr>\n",
              "    <tr>\n",
              "      <th>3</th>\n",
              "      <td>Road to 2022</td>\n",
              "      <td>NaN</td>\n",
              "      <td>2016-02-29 12:02:29+00:00</td>\n",
              "      <td>1296410</td>\n",
              "      <td>877</td>\n",
              "      <td>True</td>\n",
              "      <td>2023-01-17 12:16:17+00:00</td>\n",
              "      <td>The #Qatar2022 Podium: \\n\\n🥇 @Argentina \\n🥈 @F...</td>\n",
              "      <td>Twitter for iPhone</td>\n",
              "    </tr>\n",
              "    <tr>\n",
              "      <th>4</th>\n",
              "      <td>Road to 2022</td>\n",
              "      <td>NaN</td>\n",
              "      <td>2016-02-29 12:02:29+00:00</td>\n",
              "      <td>1298433</td>\n",
              "      <td>877</td>\n",
              "      <td>True</td>\n",
              "      <td>2023-01-17 12:16:17+00:00</td>\n",
              "      <td>The #Qatar2022 Podium: \\n\\n🥇 @Argentina \\n🥈 @F...</td>\n",
              "      <td>Twitter for iPhone</td>\n",
              "    </tr>\n",
              "  </tbody>\n",
              "</table>\n",
              "</div>\n",
              "      <button class=\"colab-df-convert\" onclick=\"convertToInteractive('df-9a793074-18b3-4a04-a209-ab92a086e5a0')\"\n",
              "              title=\"Convert this dataframe to an interactive table.\"\n",
              "              style=\"display:none;\">\n",
              "        \n",
              "  <svg xmlns=\"http://www.w3.org/2000/svg\" height=\"24px\"viewBox=\"0 0 24 24\"\n",
              "       width=\"24px\">\n",
              "    <path d=\"M0 0h24v24H0V0z\" fill=\"none\"/>\n",
              "    <path d=\"M18.56 5.44l.94 2.06.94-2.06 2.06-.94-2.06-.94-.94-2.06-.94 2.06-2.06.94zm-11 1L8.5 8.5l.94-2.06 2.06-.94-2.06-.94L8.5 2.5l-.94 2.06-2.06.94zm10 10l.94 2.06.94-2.06 2.06-.94-2.06-.94-.94-2.06-.94 2.06-2.06.94z\"/><path d=\"M17.41 7.96l-1.37-1.37c-.4-.4-.92-.59-1.43-.59-.52 0-1.04.2-1.43.59L10.3 9.45l-7.72 7.72c-.78.78-.78 2.05 0 2.83L4 21.41c.39.39.9.59 1.41.59.51 0 1.02-.2 1.41-.59l7.78-7.78 2.81-2.81c.8-.78.8-2.07 0-2.86zM5.41 20L4 18.59l7.72-7.72 1.47 1.35L5.41 20z\"/>\n",
              "  </svg>\n",
              "      </button>\n",
              "      \n",
              "  <style>\n",
              "    .colab-df-container {\n",
              "      display:flex;\n",
              "      flex-wrap:wrap;\n",
              "      gap: 12px;\n",
              "    }\n",
              "\n",
              "    .colab-df-convert {\n",
              "      background-color: #E8F0FE;\n",
              "      border: none;\n",
              "      border-radius: 50%;\n",
              "      cursor: pointer;\n",
              "      display: none;\n",
              "      fill: #1967D2;\n",
              "      height: 32px;\n",
              "      padding: 0 0 0 0;\n",
              "      width: 32px;\n",
              "    }\n",
              "\n",
              "    .colab-df-convert:hover {\n",
              "      background-color: #E2EBFA;\n",
              "      box-shadow: 0px 1px 2px rgba(60, 64, 67, 0.3), 0px 1px 3px 1px rgba(60, 64, 67, 0.15);\n",
              "      fill: #174EA6;\n",
              "    }\n",
              "\n",
              "    [theme=dark] .colab-df-convert {\n",
              "      background-color: #3B4455;\n",
              "      fill: #D2E3FC;\n",
              "    }\n",
              "\n",
              "    [theme=dark] .colab-df-convert:hover {\n",
              "      background-color: #434B5C;\n",
              "      box-shadow: 0px 1px 3px 1px rgba(0, 0, 0, 0.15);\n",
              "      filter: drop-shadow(0px 1px 2px rgba(0, 0, 0, 0.3));\n",
              "      fill: #FFFFFF;\n",
              "    }\n",
              "  </style>\n",
              "\n",
              "      <script>\n",
              "        const buttonEl =\n",
              "          document.querySelector('#df-9a793074-18b3-4a04-a209-ab92a086e5a0 button.colab-df-convert');\n",
              "        buttonEl.style.display =\n",
              "          google.colab.kernel.accessAllowed ? 'block' : 'none';\n",
              "\n",
              "        async function convertToInteractive(key) {\n",
              "          const element = document.querySelector('#df-9a793074-18b3-4a04-a209-ab92a086e5a0');\n",
              "          const dataTable =\n",
              "            await google.colab.kernel.invokeFunction('convertToInteractive',\n",
              "                                                     [key], {});\n",
              "          if (!dataTable) return;\n",
              "\n",
              "          const docLinkHtml = 'Like what you see? Visit the ' +\n",
              "            '<a target=\"_blank\" href=https://colab.research.google.com/notebooks/data_table.ipynb>data table notebook</a>'\n",
              "            + ' to learn more about interactive tables.';\n",
              "          element.innerHTML = '';\n",
              "          dataTable['output_type'] = 'display_data';\n",
              "          await google.colab.output.renderOutput(dataTable, element);\n",
              "          const docLink = document.createElement('div');\n",
              "          docLink.innerHTML = docLinkHtml;\n",
              "          element.appendChild(docLink);\n",
              "        }\n",
              "      </script>\n",
              "    </div>\n",
              "  </div>\n",
              "  "
            ]
          },
          "metadata": {},
          "execution_count": 3
        }
      ]
    },
    {
      "cell_type": "markdown",
      "source": [
        "clearing duplicates"
      ],
      "metadata": {
        "id": "UROuVHCXPcv6"
      }
    },
    {
      "cell_type": "code",
      "source": [
        "tweets.drop_duplicates(subset='text',inplace=True)\n",
        "tweets.info()"
      ],
      "metadata": {
        "colab": {
          "base_uri": "https://localhost:8080/"
        },
        "id": "Nah2kZ6JPUyi",
        "outputId": "6c651911-5c59-4753-d23f-81e64389f09e"
      },
      "execution_count": 4,
      "outputs": [
        {
          "output_type": "stream",
          "name": "stdout",
          "text": [
            "<class 'pandas.core.frame.DataFrame'>\n",
            "Int64Index: 987 entries, 0 to 987\n",
            "Data columns (total 9 columns):\n",
            " #   Column           Non-Null Count  Dtype \n",
            "---  ------           --------------  ----- \n",
            " 0   user_name        987 non-null    object\n",
            " 1   user_location    724 non-null    object\n",
            " 2   user_created     987 non-null    object\n",
            " 3   user_followers   987 non-null    int64 \n",
            " 4   user_favourites  987 non-null    int64 \n",
            " 5   user_verified    987 non-null    bool  \n",
            " 6   date             987 non-null    object\n",
            " 7   text             987 non-null    object\n",
            " 8   source           987 non-null    object\n",
            "dtypes: bool(1), int64(2), object(6)\n",
            "memory usage: 70.4+ KB\n"
          ]
        }
      ]
    },
    {
      "cell_type": "markdown",
      "source": [
        "deep cleaning"
      ],
      "metadata": {
        "id": "V1Nl8CytPttn"
      }
    },
    {
      "cell_type": "code",
      "source": [
        "#replace all NaN values wit an empty string\n",
        "tweets = tweets.replace(np.nan, '')\n",
        "tweets.shape\n",
        "# function for twitter text cleaning\n",
        "def tweet_cleaner(text):\n",
        "    #remove RT\n",
        "    text = re.sub(\"RT @[\\w]*:\",\"\",text)\n",
        "    #remove twitter handles (@user)\n",
        "    text = re.sub(\"(@[A-Za-z0-9_]+)\",\"\", text)\n",
        "    #remove url links\n",
        "    text = re.sub(\"https?://[A-Za-z0-9./]*\",\"\",text)\n",
        "    # remove whitespaces\n",
        "    text = ' '.join(text.split())\n",
        "    return text\n",
        "#Apply text cleaning function to text column in tweets dataframe\n",
        "tweets['text'] = tweets['text'].apply(lambda x:tweet_cleaner(x))\n",
        "tweets.shape"
      ],
      "metadata": {
        "colab": {
          "base_uri": "https://localhost:8080/"
        },
        "id": "SeSRn7TJP1Eb",
        "outputId": "768cfb24-fd06-4822-8977-bfacfa9f7b99"
      },
      "execution_count": 5,
      "outputs": [
        {
          "output_type": "execute_result",
          "data": {
            "text/plain": [
              "(987, 9)"
            ]
          },
          "metadata": {},
          "execution_count": 5
        }
      ]
    },
    {
      "cell_type": "code",
      "source": [
        "tweets = tweets.sample(frac=1)\n",
        "tweets = tweets[:200000]\n",
        "print(\"Dataset shape:\", tweets.shape)"
      ],
      "metadata": {
        "colab": {
          "base_uri": "https://localhost:8080/"
        },
        "id": "ud3ZpKF0eR31",
        "outputId": "724d2a89-2e8f-4afc-ecd9-36eff6edcd2c"
      },
      "execution_count": 6,
      "outputs": [
        {
          "output_type": "stream",
          "name": "stdout",
          "text": [
            "Dataset shape: (987, 9)\n"
          ]
        }
      ]
    },
    {
      "cell_type": "code",
      "source": [
        "#downloading the vader lexicon from nltk\n",
        "!pip install vaderSentiment\n",
        "!pip install twython\n",
        "nltk.download('vader_lexicon')#importing sentimentintensityanaylzer\n",
        "from nltk.sentiment.vader import SentimentIntensityAnalyzer\n",
        "sid = SentimentIntensityAnalyzer()"
      ],
      "metadata": {
        "id": "Eh-75iU6edVQ",
        "colab": {
          "base_uri": "https://localhost:8080/"
        },
        "outputId": "33e335df-c8ba-431c-c913-05f9d571d000"
      },
      "execution_count": 7,
      "outputs": [
        {
          "output_type": "stream",
          "name": "stdout",
          "text": [
            "Looking in indexes: https://pypi.org/simple, https://us-python.pkg.dev/colab-wheels/public/simple/\n",
            "Collecting vaderSentiment\n",
            "  Downloading vaderSentiment-3.3.2-py2.py3-none-any.whl (125 kB)\n",
            "\u001b[2K     \u001b[90m━━━━━━━━━━━━━━━━━━━━━━━━━━━━━━━━━━━━━━━\u001b[0m \u001b[32m126.0/126.0 kB\u001b[0m \u001b[31m4.6 MB/s\u001b[0m eta \u001b[36m0:00:00\u001b[0m\n",
            "\u001b[?25hRequirement already satisfied: requests in /usr/local/lib/python3.10/dist-packages (from vaderSentiment) (2.27.1)\n",
            "Requirement already satisfied: urllib3<1.27,>=1.21.1 in /usr/local/lib/python3.10/dist-packages (from requests->vaderSentiment) (1.26.15)\n",
            "Requirement already satisfied: idna<4,>=2.5 in /usr/local/lib/python3.10/dist-packages (from requests->vaderSentiment) (3.4)\n",
            "Requirement already satisfied: charset-normalizer~=2.0.0 in /usr/local/lib/python3.10/dist-packages (from requests->vaderSentiment) (2.0.12)\n",
            "Requirement already satisfied: certifi>=2017.4.17 in /usr/local/lib/python3.10/dist-packages (from requests->vaderSentiment) (2022.12.7)\n",
            "Installing collected packages: vaderSentiment\n",
            "Successfully installed vaderSentiment-3.3.2\n",
            "Looking in indexes: https://pypi.org/simple, https://us-python.pkg.dev/colab-wheels/public/simple/\n",
            "Collecting twython\n",
            "  Downloading twython-3.9.1-py3-none-any.whl (33 kB)\n",
            "Requirement already satisfied: requests-oauthlib>=0.4.0 in /usr/local/lib/python3.10/dist-packages (from twython) (1.3.1)\n",
            "Requirement already satisfied: requests>=2.1.0 in /usr/local/lib/python3.10/dist-packages (from twython) (2.27.1)\n",
            "Requirement already satisfied: charset-normalizer~=2.0.0 in /usr/local/lib/python3.10/dist-packages (from requests>=2.1.0->twython) (2.0.12)\n",
            "Requirement already satisfied: idna<4,>=2.5 in /usr/local/lib/python3.10/dist-packages (from requests>=2.1.0->twython) (3.4)\n",
            "Requirement already satisfied: certifi>=2017.4.17 in /usr/local/lib/python3.10/dist-packages (from requests>=2.1.0->twython) (2022.12.7)\n",
            "Requirement already satisfied: urllib3<1.27,>=1.21.1 in /usr/local/lib/python3.10/dist-packages (from requests>=2.1.0->twython) (1.26.15)\n",
            "Requirement already satisfied: oauthlib>=3.0.0 in /usr/local/lib/python3.10/dist-packages (from requests-oauthlib>=0.4.0->twython) (3.2.2)\n",
            "Installing collected packages: twython\n",
            "Successfully installed twython-3.9.1\n"
          ]
        },
        {
          "output_type": "stream",
          "name": "stderr",
          "text": [
            "[nltk_data] Downloading package vader_lexicon to /root/nltk_data...\n"
          ]
        }
      ]
    },
    {
      "cell_type": "code",
      "source": [
        "tweets['scores'] = tweets['text'].apply(lambda text: sid.polarity_scores(text))\n",
        "tweets.head(5)"
      ],
      "metadata": {
        "colab": {
          "base_uri": "https://localhost:8080/",
          "height": 206
        },
        "id": "YYjKXS7Bef0W",
        "outputId": "c729a3ac-b836-482b-cede-ba375814529d"
      },
      "execution_count": 8,
      "outputs": [
        {
          "output_type": "execute_result",
          "data": {
            "text/plain": [
              "          user_name         user_location               user_created  \\\n",
              "603    GistReel.Com                        2012-10-20 00:43:50+00:00   \n",
              "108   WhoScored.com                London  2009-12-27 23:22:45+00:00   \n",
              "498  The Daily Star            Bangladesh  2009-09-27 08:54:28+00:00   \n",
              "453   Khaleej Times  United Arab Emirates  2009-01-11 07:56:56+00:00   \n",
              "41     Road to 2022                        2016-02-29 12:02:29+00:00   \n",
              "\n",
              "     user_followers  user_favourites  user_verified  \\\n",
              "603          352200              100           True   \n",
              "108          899499             3721           True   \n",
              "498         1452666              469           True   \n",
              "453          962809               30           True   \n",
              "41          1301906              876           True   \n",
              "\n",
              "                          date  \\\n",
              "603  2022-12-10 19:02:26+00:00   \n",
              "108  2022-12-22 16:49:37+00:00   \n",
              "498  2022-12-13 03:35:26+00:00   \n",
              "453  2022-12-15 11:42:00+00:00   \n",
              "41   2022-12-29 14:04:19+00:00   \n",
              "\n",
              "                                                  text               source  \\\n",
              "603  Celebration after Morocco defeated Portugal at...  Twitter for Android   \n",
              "108  🔝 Top rated player at #Qatar2022: 🥇 Lionel Mes...            TweetDeck   \n",
              "498  #LionelMessi wasn't available at the pre-match...      Twitter Web App   \n",
              "453  #FifaWorldCup: #Mbappe, #Messi top contenders ...      Twitter Web App   \n",
              "41   🎨 Explore the Museum of Islamic Art in all its...   Twitter for iPhone   \n",
              "\n",
              "                                                scores  \n",
              "603  {'neg': 0.22, 'neu': 0.78, 'pos': 0.0, 'compou...  \n",
              "108  {'neg': 0.0, 'neu': 0.778, 'pos': 0.222, 'comp...  \n",
              "498  {'neg': 0.0, 'neu': 1.0, 'pos': 0.0, 'compound...  \n",
              "453  {'neg': 0.0, 'neu': 0.904, 'pos': 0.096, 'comp...  \n",
              "41   {'neg': 0.0, 'neu': 0.725, 'pos': 0.275, 'comp...  "
            ],
            "text/html": [
              "\n",
              "  <div id=\"df-1206751e-7166-4743-9545-9ddee4a3c38d\">\n",
              "    <div class=\"colab-df-container\">\n",
              "      <div>\n",
              "<style scoped>\n",
              "    .dataframe tbody tr th:only-of-type {\n",
              "        vertical-align: middle;\n",
              "    }\n",
              "\n",
              "    .dataframe tbody tr th {\n",
              "        vertical-align: top;\n",
              "    }\n",
              "\n",
              "    .dataframe thead th {\n",
              "        text-align: right;\n",
              "    }\n",
              "</style>\n",
              "<table border=\"1\" class=\"dataframe\">\n",
              "  <thead>\n",
              "    <tr style=\"text-align: right;\">\n",
              "      <th></th>\n",
              "      <th>user_name</th>\n",
              "      <th>user_location</th>\n",
              "      <th>user_created</th>\n",
              "      <th>user_followers</th>\n",
              "      <th>user_favourites</th>\n",
              "      <th>user_verified</th>\n",
              "      <th>date</th>\n",
              "      <th>text</th>\n",
              "      <th>source</th>\n",
              "      <th>scores</th>\n",
              "    </tr>\n",
              "  </thead>\n",
              "  <tbody>\n",
              "    <tr>\n",
              "      <th>603</th>\n",
              "      <td>GistReel.Com</td>\n",
              "      <td></td>\n",
              "      <td>2012-10-20 00:43:50+00:00</td>\n",
              "      <td>352200</td>\n",
              "      <td>100</td>\n",
              "      <td>True</td>\n",
              "      <td>2022-12-10 19:02:26+00:00</td>\n",
              "      <td>Celebration after Morocco defeated Portugal at...</td>\n",
              "      <td>Twitter for Android</td>\n",
              "      <td>{'neg': 0.22, 'neu': 0.78, 'pos': 0.0, 'compou...</td>\n",
              "    </tr>\n",
              "    <tr>\n",
              "      <th>108</th>\n",
              "      <td>WhoScored.com</td>\n",
              "      <td>London</td>\n",
              "      <td>2009-12-27 23:22:45+00:00</td>\n",
              "      <td>899499</td>\n",
              "      <td>3721</td>\n",
              "      <td>True</td>\n",
              "      <td>2022-12-22 16:49:37+00:00</td>\n",
              "      <td>🔝 Top rated player at #Qatar2022: 🥇 Lionel Mes...</td>\n",
              "      <td>TweetDeck</td>\n",
              "      <td>{'neg': 0.0, 'neu': 0.778, 'pos': 0.222, 'comp...</td>\n",
              "    </tr>\n",
              "    <tr>\n",
              "      <th>498</th>\n",
              "      <td>The Daily Star</td>\n",
              "      <td>Bangladesh</td>\n",
              "      <td>2009-09-27 08:54:28+00:00</td>\n",
              "      <td>1452666</td>\n",
              "      <td>469</td>\n",
              "      <td>True</td>\n",
              "      <td>2022-12-13 03:35:26+00:00</td>\n",
              "      <td>#LionelMessi wasn't available at the pre-match...</td>\n",
              "      <td>Twitter Web App</td>\n",
              "      <td>{'neg': 0.0, 'neu': 1.0, 'pos': 0.0, 'compound...</td>\n",
              "    </tr>\n",
              "    <tr>\n",
              "      <th>453</th>\n",
              "      <td>Khaleej Times</td>\n",
              "      <td>United Arab Emirates</td>\n",
              "      <td>2009-01-11 07:56:56+00:00</td>\n",
              "      <td>962809</td>\n",
              "      <td>30</td>\n",
              "      <td>True</td>\n",
              "      <td>2022-12-15 11:42:00+00:00</td>\n",
              "      <td>#FifaWorldCup: #Mbappe, #Messi top contenders ...</td>\n",
              "      <td>Twitter Web App</td>\n",
              "      <td>{'neg': 0.0, 'neu': 0.904, 'pos': 0.096, 'comp...</td>\n",
              "    </tr>\n",
              "    <tr>\n",
              "      <th>41</th>\n",
              "      <td>Road to 2022</td>\n",
              "      <td></td>\n",
              "      <td>2016-02-29 12:02:29+00:00</td>\n",
              "      <td>1301906</td>\n",
              "      <td>876</td>\n",
              "      <td>True</td>\n",
              "      <td>2022-12-29 14:04:19+00:00</td>\n",
              "      <td>🎨 Explore the Museum of Islamic Art in all its...</td>\n",
              "      <td>Twitter for iPhone</td>\n",
              "      <td>{'neg': 0.0, 'neu': 0.725, 'pos': 0.275, 'comp...</td>\n",
              "    </tr>\n",
              "  </tbody>\n",
              "</table>\n",
              "</div>\n",
              "      <button class=\"colab-df-convert\" onclick=\"convertToInteractive('df-1206751e-7166-4743-9545-9ddee4a3c38d')\"\n",
              "              title=\"Convert this dataframe to an interactive table.\"\n",
              "              style=\"display:none;\">\n",
              "        \n",
              "  <svg xmlns=\"http://www.w3.org/2000/svg\" height=\"24px\"viewBox=\"0 0 24 24\"\n",
              "       width=\"24px\">\n",
              "    <path d=\"M0 0h24v24H0V0z\" fill=\"none\"/>\n",
              "    <path d=\"M18.56 5.44l.94 2.06.94-2.06 2.06-.94-2.06-.94-.94-2.06-.94 2.06-2.06.94zm-11 1L8.5 8.5l.94-2.06 2.06-.94-2.06-.94L8.5 2.5l-.94 2.06-2.06.94zm10 10l.94 2.06.94-2.06 2.06-.94-2.06-.94-.94-2.06-.94 2.06-2.06.94z\"/><path d=\"M17.41 7.96l-1.37-1.37c-.4-.4-.92-.59-1.43-.59-.52 0-1.04.2-1.43.59L10.3 9.45l-7.72 7.72c-.78.78-.78 2.05 0 2.83L4 21.41c.39.39.9.59 1.41.59.51 0 1.02-.2 1.41-.59l7.78-7.78 2.81-2.81c.8-.78.8-2.07 0-2.86zM5.41 20L4 18.59l7.72-7.72 1.47 1.35L5.41 20z\"/>\n",
              "  </svg>\n",
              "      </button>\n",
              "      \n",
              "  <style>\n",
              "    .colab-df-container {\n",
              "      display:flex;\n",
              "      flex-wrap:wrap;\n",
              "      gap: 12px;\n",
              "    }\n",
              "\n",
              "    .colab-df-convert {\n",
              "      background-color: #E8F0FE;\n",
              "      border: none;\n",
              "      border-radius: 50%;\n",
              "      cursor: pointer;\n",
              "      display: none;\n",
              "      fill: #1967D2;\n",
              "      height: 32px;\n",
              "      padding: 0 0 0 0;\n",
              "      width: 32px;\n",
              "    }\n",
              "\n",
              "    .colab-df-convert:hover {\n",
              "      background-color: #E2EBFA;\n",
              "      box-shadow: 0px 1px 2px rgba(60, 64, 67, 0.3), 0px 1px 3px 1px rgba(60, 64, 67, 0.15);\n",
              "      fill: #174EA6;\n",
              "    }\n",
              "\n",
              "    [theme=dark] .colab-df-convert {\n",
              "      background-color: #3B4455;\n",
              "      fill: #D2E3FC;\n",
              "    }\n",
              "\n",
              "    [theme=dark] .colab-df-convert:hover {\n",
              "      background-color: #434B5C;\n",
              "      box-shadow: 0px 1px 3px 1px rgba(0, 0, 0, 0.15);\n",
              "      filter: drop-shadow(0px 1px 2px rgba(0, 0, 0, 0.3));\n",
              "      fill: #FFFFFF;\n",
              "    }\n",
              "  </style>\n",
              "\n",
              "      <script>\n",
              "        const buttonEl =\n",
              "          document.querySelector('#df-1206751e-7166-4743-9545-9ddee4a3c38d button.colab-df-convert');\n",
              "        buttonEl.style.display =\n",
              "          google.colab.kernel.accessAllowed ? 'block' : 'none';\n",
              "\n",
              "        async function convertToInteractive(key) {\n",
              "          const element = document.querySelector('#df-1206751e-7166-4743-9545-9ddee4a3c38d');\n",
              "          const dataTable =\n",
              "            await google.colab.kernel.invokeFunction('convertToInteractive',\n",
              "                                                     [key], {});\n",
              "          if (!dataTable) return;\n",
              "\n",
              "          const docLinkHtml = 'Like what you see? Visit the ' +\n",
              "            '<a target=\"_blank\" href=https://colab.research.google.com/notebooks/data_table.ipynb>data table notebook</a>'\n",
              "            + ' to learn more about interactive tables.';\n",
              "          element.innerHTML = '';\n",
              "          dataTable['output_type'] = 'display_data';\n",
              "          await google.colab.output.renderOutput(dataTable, element);\n",
              "          const docLink = document.createElement('div');\n",
              "          docLink.innerHTML = docLinkHtml;\n",
              "          element.appendChild(docLink);\n",
              "        }\n",
              "      </script>\n",
              "    </div>\n",
              "  </div>\n",
              "  "
            ]
          },
          "metadata": {},
          "execution_count": 8
        }
      ]
    },
    {
      "cell_type": "code",
      "source": [
        "def sentimentPredict(sentiment):\n",
        "    if sentiment['compound'] >= 0.05:\n",
        "      return \"Positive\"\n",
        "    elif sentiment['compound'] <= -0.05: \n",
        "      return \"Negative\"\n",
        "    else:\n",
        "      return \"Neutral\"\n",
        "final_df = tweets\n",
        "tweets['sentiment'] = final_df['scores'].apply(lambda x: sentimentPredict(x))\n",
        "tweets.head(5)"
      ],
      "metadata": {
        "colab": {
          "base_uri": "https://localhost:8080/",
          "height": 206
        },
        "id": "QRHit6MyfYe1",
        "outputId": "3864ecfd-f048-45c1-d263-e1a6c515033a"
      },
      "execution_count": 9,
      "outputs": [
        {
          "output_type": "execute_result",
          "data": {
            "text/plain": [
              "          user_name         user_location               user_created  \\\n",
              "603    GistReel.Com                        2012-10-20 00:43:50+00:00   \n",
              "108   WhoScored.com                London  2009-12-27 23:22:45+00:00   \n",
              "498  The Daily Star            Bangladesh  2009-09-27 08:54:28+00:00   \n",
              "453   Khaleej Times  United Arab Emirates  2009-01-11 07:56:56+00:00   \n",
              "41     Road to 2022                        2016-02-29 12:02:29+00:00   \n",
              "\n",
              "     user_followers  user_favourites  user_verified  \\\n",
              "603          352200              100           True   \n",
              "108          899499             3721           True   \n",
              "498         1452666              469           True   \n",
              "453          962809               30           True   \n",
              "41          1301906              876           True   \n",
              "\n",
              "                          date  \\\n",
              "603  2022-12-10 19:02:26+00:00   \n",
              "108  2022-12-22 16:49:37+00:00   \n",
              "498  2022-12-13 03:35:26+00:00   \n",
              "453  2022-12-15 11:42:00+00:00   \n",
              "41   2022-12-29 14:04:19+00:00   \n",
              "\n",
              "                                                  text               source  \\\n",
              "603  Celebration after Morocco defeated Portugal at...  Twitter for Android   \n",
              "108  🔝 Top rated player at #Qatar2022: 🥇 Lionel Mes...            TweetDeck   \n",
              "498  #LionelMessi wasn't available at the pre-match...      Twitter Web App   \n",
              "453  #FifaWorldCup: #Mbappe, #Messi top contenders ...      Twitter Web App   \n",
              "41   🎨 Explore the Museum of Islamic Art in all its...   Twitter for iPhone   \n",
              "\n",
              "                                                scores sentiment  \n",
              "603  {'neg': 0.22, 'neu': 0.78, 'pos': 0.0, 'compou...  Negative  \n",
              "108  {'neg': 0.0, 'neu': 0.778, 'pos': 0.222, 'comp...  Positive  \n",
              "498  {'neg': 0.0, 'neu': 1.0, 'pos': 0.0, 'compound...   Neutral  \n",
              "453  {'neg': 0.0, 'neu': 0.904, 'pos': 0.096, 'comp...  Positive  \n",
              "41   {'neg': 0.0, 'neu': 0.725, 'pos': 0.275, 'comp...  Positive  "
            ],
            "text/html": [
              "\n",
              "  <div id=\"df-0d1bafbd-8407-4d81-a557-142e66d990d6\">\n",
              "    <div class=\"colab-df-container\">\n",
              "      <div>\n",
              "<style scoped>\n",
              "    .dataframe tbody tr th:only-of-type {\n",
              "        vertical-align: middle;\n",
              "    }\n",
              "\n",
              "    .dataframe tbody tr th {\n",
              "        vertical-align: top;\n",
              "    }\n",
              "\n",
              "    .dataframe thead th {\n",
              "        text-align: right;\n",
              "    }\n",
              "</style>\n",
              "<table border=\"1\" class=\"dataframe\">\n",
              "  <thead>\n",
              "    <tr style=\"text-align: right;\">\n",
              "      <th></th>\n",
              "      <th>user_name</th>\n",
              "      <th>user_location</th>\n",
              "      <th>user_created</th>\n",
              "      <th>user_followers</th>\n",
              "      <th>user_favourites</th>\n",
              "      <th>user_verified</th>\n",
              "      <th>date</th>\n",
              "      <th>text</th>\n",
              "      <th>source</th>\n",
              "      <th>scores</th>\n",
              "      <th>sentiment</th>\n",
              "    </tr>\n",
              "  </thead>\n",
              "  <tbody>\n",
              "    <tr>\n",
              "      <th>603</th>\n",
              "      <td>GistReel.Com</td>\n",
              "      <td></td>\n",
              "      <td>2012-10-20 00:43:50+00:00</td>\n",
              "      <td>352200</td>\n",
              "      <td>100</td>\n",
              "      <td>True</td>\n",
              "      <td>2022-12-10 19:02:26+00:00</td>\n",
              "      <td>Celebration after Morocco defeated Portugal at...</td>\n",
              "      <td>Twitter for Android</td>\n",
              "      <td>{'neg': 0.22, 'neu': 0.78, 'pos': 0.0, 'compou...</td>\n",
              "      <td>Negative</td>\n",
              "    </tr>\n",
              "    <tr>\n",
              "      <th>108</th>\n",
              "      <td>WhoScored.com</td>\n",
              "      <td>London</td>\n",
              "      <td>2009-12-27 23:22:45+00:00</td>\n",
              "      <td>899499</td>\n",
              "      <td>3721</td>\n",
              "      <td>True</td>\n",
              "      <td>2022-12-22 16:49:37+00:00</td>\n",
              "      <td>🔝 Top rated player at #Qatar2022: 🥇 Lionel Mes...</td>\n",
              "      <td>TweetDeck</td>\n",
              "      <td>{'neg': 0.0, 'neu': 0.778, 'pos': 0.222, 'comp...</td>\n",
              "      <td>Positive</td>\n",
              "    </tr>\n",
              "    <tr>\n",
              "      <th>498</th>\n",
              "      <td>The Daily Star</td>\n",
              "      <td>Bangladesh</td>\n",
              "      <td>2009-09-27 08:54:28+00:00</td>\n",
              "      <td>1452666</td>\n",
              "      <td>469</td>\n",
              "      <td>True</td>\n",
              "      <td>2022-12-13 03:35:26+00:00</td>\n",
              "      <td>#LionelMessi wasn't available at the pre-match...</td>\n",
              "      <td>Twitter Web App</td>\n",
              "      <td>{'neg': 0.0, 'neu': 1.0, 'pos': 0.0, 'compound...</td>\n",
              "      <td>Neutral</td>\n",
              "    </tr>\n",
              "    <tr>\n",
              "      <th>453</th>\n",
              "      <td>Khaleej Times</td>\n",
              "      <td>United Arab Emirates</td>\n",
              "      <td>2009-01-11 07:56:56+00:00</td>\n",
              "      <td>962809</td>\n",
              "      <td>30</td>\n",
              "      <td>True</td>\n",
              "      <td>2022-12-15 11:42:00+00:00</td>\n",
              "      <td>#FifaWorldCup: #Mbappe, #Messi top contenders ...</td>\n",
              "      <td>Twitter Web App</td>\n",
              "      <td>{'neg': 0.0, 'neu': 0.904, 'pos': 0.096, 'comp...</td>\n",
              "      <td>Positive</td>\n",
              "    </tr>\n",
              "    <tr>\n",
              "      <th>41</th>\n",
              "      <td>Road to 2022</td>\n",
              "      <td></td>\n",
              "      <td>2016-02-29 12:02:29+00:00</td>\n",
              "      <td>1301906</td>\n",
              "      <td>876</td>\n",
              "      <td>True</td>\n",
              "      <td>2022-12-29 14:04:19+00:00</td>\n",
              "      <td>🎨 Explore the Museum of Islamic Art in all its...</td>\n",
              "      <td>Twitter for iPhone</td>\n",
              "      <td>{'neg': 0.0, 'neu': 0.725, 'pos': 0.275, 'comp...</td>\n",
              "      <td>Positive</td>\n",
              "    </tr>\n",
              "  </tbody>\n",
              "</table>\n",
              "</div>\n",
              "      <button class=\"colab-df-convert\" onclick=\"convertToInteractive('df-0d1bafbd-8407-4d81-a557-142e66d990d6')\"\n",
              "              title=\"Convert this dataframe to an interactive table.\"\n",
              "              style=\"display:none;\">\n",
              "        \n",
              "  <svg xmlns=\"http://www.w3.org/2000/svg\" height=\"24px\"viewBox=\"0 0 24 24\"\n",
              "       width=\"24px\">\n",
              "    <path d=\"M0 0h24v24H0V0z\" fill=\"none\"/>\n",
              "    <path d=\"M18.56 5.44l.94 2.06.94-2.06 2.06-.94-2.06-.94-.94-2.06-.94 2.06-2.06.94zm-11 1L8.5 8.5l.94-2.06 2.06-.94-2.06-.94L8.5 2.5l-.94 2.06-2.06.94zm10 10l.94 2.06.94-2.06 2.06-.94-2.06-.94-.94-2.06-.94 2.06-2.06.94z\"/><path d=\"M17.41 7.96l-1.37-1.37c-.4-.4-.92-.59-1.43-.59-.52 0-1.04.2-1.43.59L10.3 9.45l-7.72 7.72c-.78.78-.78 2.05 0 2.83L4 21.41c.39.39.9.59 1.41.59.51 0 1.02-.2 1.41-.59l7.78-7.78 2.81-2.81c.8-.78.8-2.07 0-2.86zM5.41 20L4 18.59l7.72-7.72 1.47 1.35L5.41 20z\"/>\n",
              "  </svg>\n",
              "      </button>\n",
              "      \n",
              "  <style>\n",
              "    .colab-df-container {\n",
              "      display:flex;\n",
              "      flex-wrap:wrap;\n",
              "      gap: 12px;\n",
              "    }\n",
              "\n",
              "    .colab-df-convert {\n",
              "      background-color: #E8F0FE;\n",
              "      border: none;\n",
              "      border-radius: 50%;\n",
              "      cursor: pointer;\n",
              "      display: none;\n",
              "      fill: #1967D2;\n",
              "      height: 32px;\n",
              "      padding: 0 0 0 0;\n",
              "      width: 32px;\n",
              "    }\n",
              "\n",
              "    .colab-df-convert:hover {\n",
              "      background-color: #E2EBFA;\n",
              "      box-shadow: 0px 1px 2px rgba(60, 64, 67, 0.3), 0px 1px 3px 1px rgba(60, 64, 67, 0.15);\n",
              "      fill: #174EA6;\n",
              "    }\n",
              "\n",
              "    [theme=dark] .colab-df-convert {\n",
              "      background-color: #3B4455;\n",
              "      fill: #D2E3FC;\n",
              "    }\n",
              "\n",
              "    [theme=dark] .colab-df-convert:hover {\n",
              "      background-color: #434B5C;\n",
              "      box-shadow: 0px 1px 3px 1px rgba(0, 0, 0, 0.15);\n",
              "      filter: drop-shadow(0px 1px 2px rgba(0, 0, 0, 0.3));\n",
              "      fill: #FFFFFF;\n",
              "    }\n",
              "  </style>\n",
              "\n",
              "      <script>\n",
              "        const buttonEl =\n",
              "          document.querySelector('#df-0d1bafbd-8407-4d81-a557-142e66d990d6 button.colab-df-convert');\n",
              "        buttonEl.style.display =\n",
              "          google.colab.kernel.accessAllowed ? 'block' : 'none';\n",
              "\n",
              "        async function convertToInteractive(key) {\n",
              "          const element = document.querySelector('#df-0d1bafbd-8407-4d81-a557-142e66d990d6');\n",
              "          const dataTable =\n",
              "            await google.colab.kernel.invokeFunction('convertToInteractive',\n",
              "                                                     [key], {});\n",
              "          if (!dataTable) return;\n",
              "\n",
              "          const docLinkHtml = 'Like what you see? Visit the ' +\n",
              "            '<a target=\"_blank\" href=https://colab.research.google.com/notebooks/data_table.ipynb>data table notebook</a>'\n",
              "            + ' to learn more about interactive tables.';\n",
              "          element.innerHTML = '';\n",
              "          dataTable['output_type'] = 'display_data';\n",
              "          await google.colab.output.renderOutput(dataTable, element);\n",
              "          const docLink = document.createElement('div');\n",
              "          docLink.innerHTML = docLinkHtml;\n",
              "          element.appendChild(docLink);\n",
              "        }\n",
              "      </script>\n",
              "    </div>\n",
              "  </div>\n",
              "  "
            ]
          },
          "metadata": {},
          "execution_count": 9
        }
      ]
    },
    {
      "cell_type": "code",
      "source": [
        "tweets = tweets.replace(['Positive','Neutral','Negative'],[2, 1, 0])"
      ],
      "metadata": {
        "id": "aONE9tCWe_KA"
      },
      "execution_count": 10,
      "outputs": []
    },
    {
      "cell_type": "code",
      "source": [
        "tweets.head(5)"
      ],
      "metadata": {
        "colab": {
          "base_uri": "https://localhost:8080/",
          "height": 206
        },
        "id": "dzZfS1Ihfi1c",
        "outputId": "4e64cf4a-e3c0-4003-d802-ae4ab1602840"
      },
      "execution_count": 11,
      "outputs": [
        {
          "output_type": "execute_result",
          "data": {
            "text/plain": [
              "          user_name         user_location               user_created  \\\n",
              "603    GistReel.Com                        2012-10-20 00:43:50+00:00   \n",
              "108   WhoScored.com                London  2009-12-27 23:22:45+00:00   \n",
              "498  The Daily Star            Bangladesh  2009-09-27 08:54:28+00:00   \n",
              "453   Khaleej Times  United Arab Emirates  2009-01-11 07:56:56+00:00   \n",
              "41     Road to 2022                        2016-02-29 12:02:29+00:00   \n",
              "\n",
              "     user_followers  user_favourites  user_verified  \\\n",
              "603          352200              100           True   \n",
              "108          899499             3721           True   \n",
              "498         1452666              469           True   \n",
              "453          962809               30           True   \n",
              "41          1301906              876           True   \n",
              "\n",
              "                          date  \\\n",
              "603  2022-12-10 19:02:26+00:00   \n",
              "108  2022-12-22 16:49:37+00:00   \n",
              "498  2022-12-13 03:35:26+00:00   \n",
              "453  2022-12-15 11:42:00+00:00   \n",
              "41   2022-12-29 14:04:19+00:00   \n",
              "\n",
              "                                                  text               source  \\\n",
              "603  Celebration after Morocco defeated Portugal at...  Twitter for Android   \n",
              "108  🔝 Top rated player at #Qatar2022: 🥇 Lionel Mes...            TweetDeck   \n",
              "498  #LionelMessi wasn't available at the pre-match...      Twitter Web App   \n",
              "453  #FifaWorldCup: #Mbappe, #Messi top contenders ...      Twitter Web App   \n",
              "41   🎨 Explore the Museum of Islamic Art in all its...   Twitter for iPhone   \n",
              "\n",
              "                                                scores  sentiment  \n",
              "603  {'neg': 0.22, 'neu': 0.78, 'pos': 0.0, 'compou...          0  \n",
              "108  {'neg': 0.0, 'neu': 0.778, 'pos': 0.222, 'comp...          2  \n",
              "498  {'neg': 0.0, 'neu': 1.0, 'pos': 0.0, 'compound...          1  \n",
              "453  {'neg': 0.0, 'neu': 0.904, 'pos': 0.096, 'comp...          2  \n",
              "41   {'neg': 0.0, 'neu': 0.725, 'pos': 0.275, 'comp...          2  "
            ],
            "text/html": [
              "\n",
              "  <div id=\"df-637d06ef-8bbc-48e8-aef9-85369e0cb0b1\">\n",
              "    <div class=\"colab-df-container\">\n",
              "      <div>\n",
              "<style scoped>\n",
              "    .dataframe tbody tr th:only-of-type {\n",
              "        vertical-align: middle;\n",
              "    }\n",
              "\n",
              "    .dataframe tbody tr th {\n",
              "        vertical-align: top;\n",
              "    }\n",
              "\n",
              "    .dataframe thead th {\n",
              "        text-align: right;\n",
              "    }\n",
              "</style>\n",
              "<table border=\"1\" class=\"dataframe\">\n",
              "  <thead>\n",
              "    <tr style=\"text-align: right;\">\n",
              "      <th></th>\n",
              "      <th>user_name</th>\n",
              "      <th>user_location</th>\n",
              "      <th>user_created</th>\n",
              "      <th>user_followers</th>\n",
              "      <th>user_favourites</th>\n",
              "      <th>user_verified</th>\n",
              "      <th>date</th>\n",
              "      <th>text</th>\n",
              "      <th>source</th>\n",
              "      <th>scores</th>\n",
              "      <th>sentiment</th>\n",
              "    </tr>\n",
              "  </thead>\n",
              "  <tbody>\n",
              "    <tr>\n",
              "      <th>603</th>\n",
              "      <td>GistReel.Com</td>\n",
              "      <td></td>\n",
              "      <td>2012-10-20 00:43:50+00:00</td>\n",
              "      <td>352200</td>\n",
              "      <td>100</td>\n",
              "      <td>True</td>\n",
              "      <td>2022-12-10 19:02:26+00:00</td>\n",
              "      <td>Celebration after Morocco defeated Portugal at...</td>\n",
              "      <td>Twitter for Android</td>\n",
              "      <td>{'neg': 0.22, 'neu': 0.78, 'pos': 0.0, 'compou...</td>\n",
              "      <td>0</td>\n",
              "    </tr>\n",
              "    <tr>\n",
              "      <th>108</th>\n",
              "      <td>WhoScored.com</td>\n",
              "      <td>London</td>\n",
              "      <td>2009-12-27 23:22:45+00:00</td>\n",
              "      <td>899499</td>\n",
              "      <td>3721</td>\n",
              "      <td>True</td>\n",
              "      <td>2022-12-22 16:49:37+00:00</td>\n",
              "      <td>🔝 Top rated player at #Qatar2022: 🥇 Lionel Mes...</td>\n",
              "      <td>TweetDeck</td>\n",
              "      <td>{'neg': 0.0, 'neu': 0.778, 'pos': 0.222, 'comp...</td>\n",
              "      <td>2</td>\n",
              "    </tr>\n",
              "    <tr>\n",
              "      <th>498</th>\n",
              "      <td>The Daily Star</td>\n",
              "      <td>Bangladesh</td>\n",
              "      <td>2009-09-27 08:54:28+00:00</td>\n",
              "      <td>1452666</td>\n",
              "      <td>469</td>\n",
              "      <td>True</td>\n",
              "      <td>2022-12-13 03:35:26+00:00</td>\n",
              "      <td>#LionelMessi wasn't available at the pre-match...</td>\n",
              "      <td>Twitter Web App</td>\n",
              "      <td>{'neg': 0.0, 'neu': 1.0, 'pos': 0.0, 'compound...</td>\n",
              "      <td>1</td>\n",
              "    </tr>\n",
              "    <tr>\n",
              "      <th>453</th>\n",
              "      <td>Khaleej Times</td>\n",
              "      <td>United Arab Emirates</td>\n",
              "      <td>2009-01-11 07:56:56+00:00</td>\n",
              "      <td>962809</td>\n",
              "      <td>30</td>\n",
              "      <td>True</td>\n",
              "      <td>2022-12-15 11:42:00+00:00</td>\n",
              "      <td>#FifaWorldCup: #Mbappe, #Messi top contenders ...</td>\n",
              "      <td>Twitter Web App</td>\n",
              "      <td>{'neg': 0.0, 'neu': 0.904, 'pos': 0.096, 'comp...</td>\n",
              "      <td>2</td>\n",
              "    </tr>\n",
              "    <tr>\n",
              "      <th>41</th>\n",
              "      <td>Road to 2022</td>\n",
              "      <td></td>\n",
              "      <td>2016-02-29 12:02:29+00:00</td>\n",
              "      <td>1301906</td>\n",
              "      <td>876</td>\n",
              "      <td>True</td>\n",
              "      <td>2022-12-29 14:04:19+00:00</td>\n",
              "      <td>🎨 Explore the Museum of Islamic Art in all its...</td>\n",
              "      <td>Twitter for iPhone</td>\n",
              "      <td>{'neg': 0.0, 'neu': 0.725, 'pos': 0.275, 'comp...</td>\n",
              "      <td>2</td>\n",
              "    </tr>\n",
              "  </tbody>\n",
              "</table>\n",
              "</div>\n",
              "      <button class=\"colab-df-convert\" onclick=\"convertToInteractive('df-637d06ef-8bbc-48e8-aef9-85369e0cb0b1')\"\n",
              "              title=\"Convert this dataframe to an interactive table.\"\n",
              "              style=\"display:none;\">\n",
              "        \n",
              "  <svg xmlns=\"http://www.w3.org/2000/svg\" height=\"24px\"viewBox=\"0 0 24 24\"\n",
              "       width=\"24px\">\n",
              "    <path d=\"M0 0h24v24H0V0z\" fill=\"none\"/>\n",
              "    <path d=\"M18.56 5.44l.94 2.06.94-2.06 2.06-.94-2.06-.94-.94-2.06-.94 2.06-2.06.94zm-11 1L8.5 8.5l.94-2.06 2.06-.94-2.06-.94L8.5 2.5l-.94 2.06-2.06.94zm10 10l.94 2.06.94-2.06 2.06-.94-2.06-.94-.94-2.06-.94 2.06-2.06.94z\"/><path d=\"M17.41 7.96l-1.37-1.37c-.4-.4-.92-.59-1.43-.59-.52 0-1.04.2-1.43.59L10.3 9.45l-7.72 7.72c-.78.78-.78 2.05 0 2.83L4 21.41c.39.39.9.59 1.41.59.51 0 1.02-.2 1.41-.59l7.78-7.78 2.81-2.81c.8-.78.8-2.07 0-2.86zM5.41 20L4 18.59l7.72-7.72 1.47 1.35L5.41 20z\"/>\n",
              "  </svg>\n",
              "      </button>\n",
              "      \n",
              "  <style>\n",
              "    .colab-df-container {\n",
              "      display:flex;\n",
              "      flex-wrap:wrap;\n",
              "      gap: 12px;\n",
              "    }\n",
              "\n",
              "    .colab-df-convert {\n",
              "      background-color: #E8F0FE;\n",
              "      border: none;\n",
              "      border-radius: 50%;\n",
              "      cursor: pointer;\n",
              "      display: none;\n",
              "      fill: #1967D2;\n",
              "      height: 32px;\n",
              "      padding: 0 0 0 0;\n",
              "      width: 32px;\n",
              "    }\n",
              "\n",
              "    .colab-df-convert:hover {\n",
              "      background-color: #E2EBFA;\n",
              "      box-shadow: 0px 1px 2px rgba(60, 64, 67, 0.3), 0px 1px 3px 1px rgba(60, 64, 67, 0.15);\n",
              "      fill: #174EA6;\n",
              "    }\n",
              "\n",
              "    [theme=dark] .colab-df-convert {\n",
              "      background-color: #3B4455;\n",
              "      fill: #D2E3FC;\n",
              "    }\n",
              "\n",
              "    [theme=dark] .colab-df-convert:hover {\n",
              "      background-color: #434B5C;\n",
              "      box-shadow: 0px 1px 3px 1px rgba(0, 0, 0, 0.15);\n",
              "      filter: drop-shadow(0px 1px 2px rgba(0, 0, 0, 0.3));\n",
              "      fill: #FFFFFF;\n",
              "    }\n",
              "  </style>\n",
              "\n",
              "      <script>\n",
              "        const buttonEl =\n",
              "          document.querySelector('#df-637d06ef-8bbc-48e8-aef9-85369e0cb0b1 button.colab-df-convert');\n",
              "        buttonEl.style.display =\n",
              "          google.colab.kernel.accessAllowed ? 'block' : 'none';\n",
              "\n",
              "        async function convertToInteractive(key) {\n",
              "          const element = document.querySelector('#df-637d06ef-8bbc-48e8-aef9-85369e0cb0b1');\n",
              "          const dataTable =\n",
              "            await google.colab.kernel.invokeFunction('convertToInteractive',\n",
              "                                                     [key], {});\n",
              "          if (!dataTable) return;\n",
              "\n",
              "          const docLinkHtml = 'Like what you see? Visit the ' +\n",
              "            '<a target=\"_blank\" href=https://colab.research.google.com/notebooks/data_table.ipynb>data table notebook</a>'\n",
              "            + ' to learn more about interactive tables.';\n",
              "          element.innerHTML = '';\n",
              "          dataTable['output_type'] = 'display_data';\n",
              "          await google.colab.output.renderOutput(dataTable, element);\n",
              "          const docLink = document.createElement('div');\n",
              "          docLink.innerHTML = docLinkHtml;\n",
              "          element.appendChild(docLink);\n",
              "        }\n",
              "      </script>\n",
              "    </div>\n",
              "  </div>\n",
              "  "
            ]
          },
          "metadata": {},
          "execution_count": 11
        }
      ]
    },
    {
      "cell_type": "code",
      "source": [
        "tweets.drop(['user_name','user_location','user_created','user_followers','user_favourites','user_verified','date','source','scores'], axis=1, inplace=True)"
      ],
      "metadata": {
        "id": "flDBMcNwf7tf"
      },
      "execution_count": 12,
      "outputs": []
    },
    {
      "cell_type": "code",
      "source": [
        "tweets['text'] = tweets['text'].astype('str')"
      ],
      "metadata": {
        "id": "Tn5latjVgtm7"
      },
      "execution_count": 13,
      "outputs": []
    },
    {
      "cell_type": "markdown",
      "source": [
        "\n",
        "Check the number of positive vs. negative tagged sentences"
      ],
      "metadata": {
        "id": "AOPqrswSg8r8"
      }
    },
    {
      "cell_type": "code",
      "source": [
        "positives = tweets['sentiment'][tweets.sentiment == 2 ]\n",
        "negatives = tweets['sentiment'][tweets.sentiment == 0 ]\n",
        "\n",
        "print('Total length of the data is:         {}'.format(tweets.shape[0]))\n",
        "print('No. of positve tagged sentences is:  {}'.format(len(positives)))\n",
        "print('No. of negative tagged sentences is: {}'.format(len(negatives)))"
      ],
      "metadata": {
        "colab": {
          "base_uri": "https://localhost:8080/"
        },
        "id": "Q4Iz7Ak7g128",
        "outputId": "31476cf9-4c6d-4bec-becf-c57f5c198b3d"
      },
      "execution_count": 14,
      "outputs": [
        {
          "output_type": "stream",
          "name": "stdout",
          "text": [
            "Total length of the data is:         987\n",
            "No. of positve tagged sentences is:  472\n",
            "No. of negative tagged sentences is: 137\n"
          ]
        }
      ]
    },
    {
      "cell_type": "code",
      "source": [
        "from nltk.stem import WordNetLemmatizer\n",
        "from nltk.corpus import stopwords\n",
        "from nltk.tokenize import word_tokenize\n",
        "\n",
        "nltk.download('stopwords')\n",
        "stopword = set(stopwords.words('english'))"
      ],
      "metadata": {
        "colab": {
          "base_uri": "https://localhost:8080/"
        },
        "id": "m6EvRyCPhBYo",
        "outputId": "50d56e20-2d79-4a5a-8516-d892ff330d8c"
      },
      "execution_count": 15,
      "outputs": [
        {
          "output_type": "stream",
          "name": "stderr",
          "text": [
            "[nltk_data] Downloading package stopwords to /root/nltk_data...\n",
            "[nltk_data]   Unzipping corpora/stopwords.zip.\n"
          ]
        }
      ]
    },
    {
      "cell_type": "code",
      "source": [
        "#removing shortwords\n",
        "tweets['text']=tweets['text'].apply(lambda x: \" \".join([w for w in x.split() if len(w)>3]))\n",
        "tweets.head(5)"
      ],
      "metadata": {
        "colab": {
          "base_uri": "https://localhost:8080/",
          "height": 206
        },
        "id": "Jik6EVzliI7g",
        "outputId": "ac2dae41-f143-4183-df51-91fd7a4c5807"
      },
      "execution_count": 16,
      "outputs": [
        {
          "output_type": "execute_result",
          "data": {
            "text/plain": [
              "                                                  text  sentiment\n",
              "603  Celebration after Morocco defeated Portugal Qu...          0\n",
              "108  rated player #Qatar2022: Lionel Messi 8.25 rat...          2\n",
              "498  #LionelMessi wasn't available pre-match press ...          1\n",
              "453  #FifaWorldCup: #Mbappe, #Messi contenders #Gol...          2\n",
              "41            Explore Museum Islamic beauty #Qatar2022          2"
            ],
            "text/html": [
              "\n",
              "  <div id=\"df-db1d48cc-c9a1-4771-a6b9-9fec5b93f032\">\n",
              "    <div class=\"colab-df-container\">\n",
              "      <div>\n",
              "<style scoped>\n",
              "    .dataframe tbody tr th:only-of-type {\n",
              "        vertical-align: middle;\n",
              "    }\n",
              "\n",
              "    .dataframe tbody tr th {\n",
              "        vertical-align: top;\n",
              "    }\n",
              "\n",
              "    .dataframe thead th {\n",
              "        text-align: right;\n",
              "    }\n",
              "</style>\n",
              "<table border=\"1\" class=\"dataframe\">\n",
              "  <thead>\n",
              "    <tr style=\"text-align: right;\">\n",
              "      <th></th>\n",
              "      <th>text</th>\n",
              "      <th>sentiment</th>\n",
              "    </tr>\n",
              "  </thead>\n",
              "  <tbody>\n",
              "    <tr>\n",
              "      <th>603</th>\n",
              "      <td>Celebration after Morocco defeated Portugal Qu...</td>\n",
              "      <td>0</td>\n",
              "    </tr>\n",
              "    <tr>\n",
              "      <th>108</th>\n",
              "      <td>rated player #Qatar2022: Lionel Messi 8.25 rat...</td>\n",
              "      <td>2</td>\n",
              "    </tr>\n",
              "    <tr>\n",
              "      <th>498</th>\n",
              "      <td>#LionelMessi wasn't available pre-match press ...</td>\n",
              "      <td>1</td>\n",
              "    </tr>\n",
              "    <tr>\n",
              "      <th>453</th>\n",
              "      <td>#FifaWorldCup: #Mbappe, #Messi contenders #Gol...</td>\n",
              "      <td>2</td>\n",
              "    </tr>\n",
              "    <tr>\n",
              "      <th>41</th>\n",
              "      <td>Explore Museum Islamic beauty #Qatar2022</td>\n",
              "      <td>2</td>\n",
              "    </tr>\n",
              "  </tbody>\n",
              "</table>\n",
              "</div>\n",
              "      <button class=\"colab-df-convert\" onclick=\"convertToInteractive('df-db1d48cc-c9a1-4771-a6b9-9fec5b93f032')\"\n",
              "              title=\"Convert this dataframe to an interactive table.\"\n",
              "              style=\"display:none;\">\n",
              "        \n",
              "  <svg xmlns=\"http://www.w3.org/2000/svg\" height=\"24px\"viewBox=\"0 0 24 24\"\n",
              "       width=\"24px\">\n",
              "    <path d=\"M0 0h24v24H0V0z\" fill=\"none\"/>\n",
              "    <path d=\"M18.56 5.44l.94 2.06.94-2.06 2.06-.94-2.06-.94-.94-2.06-.94 2.06-2.06.94zm-11 1L8.5 8.5l.94-2.06 2.06-.94-2.06-.94L8.5 2.5l-.94 2.06-2.06.94zm10 10l.94 2.06.94-2.06 2.06-.94-2.06-.94-.94-2.06-.94 2.06-2.06.94z\"/><path d=\"M17.41 7.96l-1.37-1.37c-.4-.4-.92-.59-1.43-.59-.52 0-1.04.2-1.43.59L10.3 9.45l-7.72 7.72c-.78.78-.78 2.05 0 2.83L4 21.41c.39.39.9.59 1.41.59.51 0 1.02-.2 1.41-.59l7.78-7.78 2.81-2.81c.8-.78.8-2.07 0-2.86zM5.41 20L4 18.59l7.72-7.72 1.47 1.35L5.41 20z\"/>\n",
              "  </svg>\n",
              "      </button>\n",
              "      \n",
              "  <style>\n",
              "    .colab-df-container {\n",
              "      display:flex;\n",
              "      flex-wrap:wrap;\n",
              "      gap: 12px;\n",
              "    }\n",
              "\n",
              "    .colab-df-convert {\n",
              "      background-color: #E8F0FE;\n",
              "      border: none;\n",
              "      border-radius: 50%;\n",
              "      cursor: pointer;\n",
              "      display: none;\n",
              "      fill: #1967D2;\n",
              "      height: 32px;\n",
              "      padding: 0 0 0 0;\n",
              "      width: 32px;\n",
              "    }\n",
              "\n",
              "    .colab-df-convert:hover {\n",
              "      background-color: #E2EBFA;\n",
              "      box-shadow: 0px 1px 2px rgba(60, 64, 67, 0.3), 0px 1px 3px 1px rgba(60, 64, 67, 0.15);\n",
              "      fill: #174EA6;\n",
              "    }\n",
              "\n",
              "    [theme=dark] .colab-df-convert {\n",
              "      background-color: #3B4455;\n",
              "      fill: #D2E3FC;\n",
              "    }\n",
              "\n",
              "    [theme=dark] .colab-df-convert:hover {\n",
              "      background-color: #434B5C;\n",
              "      box-shadow: 0px 1px 3px 1px rgba(0, 0, 0, 0.15);\n",
              "      filter: drop-shadow(0px 1px 2px rgba(0, 0, 0, 0.3));\n",
              "      fill: #FFFFFF;\n",
              "    }\n",
              "  </style>\n",
              "\n",
              "      <script>\n",
              "        const buttonEl =\n",
              "          document.querySelector('#df-db1d48cc-c9a1-4771-a6b9-9fec5b93f032 button.colab-df-convert');\n",
              "        buttonEl.style.display =\n",
              "          google.colab.kernel.accessAllowed ? 'block' : 'none';\n",
              "\n",
              "        async function convertToInteractive(key) {\n",
              "          const element = document.querySelector('#df-db1d48cc-c9a1-4771-a6b9-9fec5b93f032');\n",
              "          const dataTable =\n",
              "            await google.colab.kernel.invokeFunction('convertToInteractive',\n",
              "                                                     [key], {});\n",
              "          if (!dataTable) return;\n",
              "\n",
              "          const docLinkHtml = 'Like what you see? Visit the ' +\n",
              "            '<a target=\"_blank\" href=https://colab.research.google.com/notebooks/data_table.ipynb>data table notebook</a>'\n",
              "            + ' to learn more about interactive tables.';\n",
              "          element.innerHTML = '';\n",
              "          dataTable['output_type'] = 'display_data';\n",
              "          await google.colab.output.renderOutput(dataTable, element);\n",
              "          const docLink = document.createElement('div');\n",
              "          docLink.innerHTML = docLinkHtml;\n",
              "          element.appendChild(docLink);\n",
              "        }\n",
              "      </script>\n",
              "    </div>\n",
              "  </div>\n",
              "  "
            ]
          },
          "metadata": {},
          "execution_count": 16
        }
      ]
    },
    {
      "cell_type": "code",
      "source": [
        "from sklearn.utils import shuffle\n",
        "tweets =  shuffle(tweets).reset_index(drop=True)"
      ],
      "metadata": {
        "id": "ZGlARmUJiPfg"
      },
      "execution_count": 17,
      "outputs": []
    },
    {
      "cell_type": "code",
      "source": [
        "tokenized_tweet=tweets['text'].apply(lambda x: x.split())\n",
        "tokenized_tweet.head(5)"
      ],
      "metadata": {
        "colab": {
          "base_uri": "https://localhost:8080/"
        },
        "id": "pscnZyR4iRdO",
        "outputId": "dfd421fd-1303-44b2-f566-fe964dffa362"
      },
      "execution_count": 18,
      "outputs": [
        {
          "output_type": "execute_result",
          "data": {
            "text/plain": [
              "0    [Qatar, Worldcup, 2022, Round, Match, results,...\n",
              "1    [Fernando, Santos, been, sacked, head, coach, ...\n",
              "2    [This, been, 𝗲𝘃𝗲𝗿𝘆𝘄𝗵𝗲𝗿𝗲, What, tournament, Ant...\n",
              "3    [WATCH:, #BNNQatar, Reports, Let's, take, look...\n",
              "4    [\"What, looking, fool?, lost!\", #LionelMessi's...\n",
              "Name: text, dtype: object"
            ]
          },
          "metadata": {},
          "execution_count": 18
        }
      ]
    },
    {
      "cell_type": "code",
      "source": [
        "from sklearn.feature_extraction.text import CountVectorizer\n",
        "from nltk.tokenize import RegexpTokenizer\n",
        "token = RegexpTokenizer(r'[a-zA-Z0-9]+')\n",
        "cv = CountVectorizer(stop_words='english',ngram_range = (1,1),tokenizer = token.tokenize)\n",
        "text_counts = cv.fit_transform(tweets['text'].values.astype('U'))"
      ],
      "metadata": {
        "id": "sUXa1WG2iVt6",
        "colab": {
          "base_uri": "https://localhost:8080/"
        },
        "outputId": "479a2328-64a1-449f-9244-f7e495150e8e"
      },
      "execution_count": 19,
      "outputs": [
        {
          "output_type": "stream",
          "name": "stderr",
          "text": [
            "/usr/local/lib/python3.10/dist-packages/sklearn/feature_extraction/text.py:528: UserWarning: The parameter 'token_pattern' will not be used since 'tokenizer' is not None'\n",
            "  warnings.warn(\n"
          ]
        }
      ]
    },
    {
      "cell_type": "markdown",
      "source": [
        "\n",
        "Train/Test Split¶\n"
      ],
      "metadata": {
        "id": "_QN6lbFyiesu"
      }
    },
    {
      "cell_type": "code",
      "source": [
        "from sklearn.model_selection import train_test_split\n",
        "X=text_counts\n",
        "y=tweets['sentiment']\n",
        "X_train, X_test, y_train, y_test = train_test_split(X, y, test_size=0.20,random_state=19)"
      ],
      "metadata": {
        "id": "KGDOFvFxicYV"
      },
      "execution_count": 20,
      "outputs": []
    },
    {
      "cell_type": "markdown",
      "source": [
        "\n",
        "Naive Bayes"
      ],
      "metadata": {
        "id": "C9AnPUFCifl7"
      }
    },
    {
      "cell_type": "code",
      "source": [
        "from sklearn.naive_bayes import ComplementNB\n",
        "from sklearn.model_selection import GridSearchCV\n",
        "from sklearn.model_selection import cross_val_score\n",
        "from sklearn import metrics\n",
        "from math import *\n",
        "cnb = ComplementNB()\n",
        "cnb.fit(X_train, y_train)\n",
        "cross_cnb = cross_val_score(cnb, X, y,n_jobs = -1)\n",
        "print(\"Cross Validation score = \",cross_cnb)                \n",
        "print (\"Train accuracy ={:.2f}%\".format(cnb.score(X_train,y_train)*100))\n",
        "print (\"Test accuracy ={:.2f}%\".format(cnb.score(X_test,y_test)*100))\n",
        "train_acc_cnb=cnb.score(X_train,y_train)\n",
        "test_acc_cnb=cnb.score(X_test,y_test)"
      ],
      "metadata": {
        "colab": {
          "base_uri": "https://localhost:8080/"
        },
        "id": "CEIPCavlig_8",
        "outputId": "674a1b2b-d0a1-4c4d-9701-f9d107029292"
      },
      "execution_count": 21,
      "outputs": [
        {
          "output_type": "stream",
          "name": "stdout",
          "text": [
            "Cross Validation score =  [0.55050505 0.55050505 0.59390863 0.61928934 0.6142132 ]\n",
            "Train accuracy =95.31%\n",
            "Test accuracy =57.58%\n"
          ]
        }
      ]
    },
    {
      "cell_type": "code",
      "source": [
        "#plotting the best parameters\n",
        "import matplotlib.patches as mpatches\n",
        "import numpy as np\n",
        "import pandas as pd\n",
        "from pandas import Series, DataFrame\n",
        "import matplotlib.pyplot as plt\n",
        "data_cnb = [train_acc_cnb,test_acc_cnb]\n",
        "labels = ['Train Accuracy','Test Accuracy']\n",
        "plt.xticks(range(len(data_cnb)), labels)\n",
        "plt.ylabel('Accuracy')\n",
        "plt.title('Accuracy plot with best parameters')\n",
        "plt.bar(range(len(data_cnb)), data_cnb,color=['blue','darkorange']) \n",
        "Train_acc = mpatches.Patch(color='blue', label='Train_acc')\n",
        "Test_acc = mpatches.Patch(color='darkorange', label='Test_acc')\n",
        "plt.legend(handles=[Train_acc, Test_acc],loc='best')\n",
        "plt.gcf().set_size_inches(8, 8)\n",
        "plt.show()"
      ],
      "metadata": {
        "colab": {
          "base_uri": "https://localhost:8080/",
          "height": 699
        },
        "id": "A1ID-o4Iipt_",
        "outputId": "3ecf590d-fdc7-4df7-ec9a-1b9b9253ea13"
      },
      "execution_count": 22,
      "outputs": [
        {
          "output_type": "display_data",
          "data": {
            "text/plain": [
              "<Figure size 800x800 with 1 Axes>"
            ],
            "image/png": "[encoded data removed]"
          },
          "metadata": {}
        }
      ]
    },
    {
      "cell_type": "markdown",
      "source": [
        "\n",
        "Confusion Matrix"
      ],
      "metadata": {
        "id": "W4MrwWSUitz9"
      }
    },
    {
      "cell_type": "code",
      "source": [
        "from sklearn.metrics import *\n",
        "#Predict test data set\n",
        "y_pred_cnb =cnb.predict(X_test)\n",
        "\n",
        "#This is the confusion matrix :\n",
        "from sklearn.metrics import confusion_matrix\n",
        "print(confusion_matrix(y_test,y_pred_cnb))"
      ],
      "metadata": {
        "colab": {
          "base_uri": "https://localhost:8080/"
        },
        "id": "Ojq0Kgc_iuaf",
        "outputId": "31e96ff7-acda-40ab-ffd5-9b8d3f2f8996"
      },
      "execution_count": 23,
      "outputs": [
        {
          "output_type": "stream",
          "name": "stdout",
          "text": [
            "[[14 10  9]\n",
            " [ 8 38 17]\n",
            " [14 26 62]]\n"
          ]
        }
      ]
    },
    {
      "cell_type": "code",
      "source": [
        "#Checking performance our model with classification report\n",
        "print(classification_report(y_test, y_pred_cnb))"
      ],
      "metadata": {
        "colab": {
          "base_uri": "https://localhost:8080/"
        },
        "id": "wAy-325kiz5b",
        "outputId": "8f4f0b00-1eca-4f96-fee2-4f983c857149"
      },
      "execution_count": 24,
      "outputs": [
        {
          "output_type": "stream",
          "name": "stdout",
          "text": [
            "              precision    recall  f1-score   support\n",
            "\n",
            "           0       0.39      0.42      0.41        33\n",
            "           1       0.51      0.60      0.55        63\n",
            "           2       0.70      0.61      0.65       102\n",
            "\n",
            "    accuracy                           0.58       198\n",
            "   macro avg       0.54      0.55      0.54       198\n",
            "weighted avg       0.59      0.58      0.58       198\n",
            "\n"
          ]
        }
      ]
    },
    {
      "cell_type": "markdown",
      "source": [
        "\n",
        "Calculating F1, prescision and recall scores"
      ],
      "metadata": {
        "id": "upDfNL4IjUxP"
      }
    },
    {
      "cell_type": "code",
      "source": [
        "from sklearn.metrics import *\n",
        "\n",
        "print(\"F1 score ={:.2f}%\".format(f1_score(y_test, y_pred_cnb, average=\"macro\")*100))\n",
        "f1_cnb=f1_score(y_test, y_pred_cnb, average=\"macro\")\n",
        "print(\"Precision score ={:.2f}%\".format(precision_score(y_test, y_pred_cnb, average=\"macro\")*100))\n",
        "precision_cnb=precision_score(y_test, y_pred_cnb, average=\"macro\")\n",
        "print(\"Recall score ={:.2f}%\".format(recall_score(y_test, y_pred_cnb, average=\"macro\")*100))  \n",
        "recall_cnb=recall_score(y_test, y_pred_cnb, average=\"macro\")"
      ],
      "metadata": {
        "colab": {
          "base_uri": "https://localhost:8080/"
        },
        "id": "ehHvPQqKjVSS",
        "outputId": "5156b528-f26f-4d27-8729-9494de604fce"
      },
      "execution_count": 25,
      "outputs": [
        {
          "output_type": "stream",
          "name": "stdout",
          "text": [
            "F1 score =53.77%\n",
            "Precision score =53.56%\n",
            "Recall score =54.51%\n"
          ]
        }
      ]
    },
    {
      "cell_type": "code",
      "source": [
        "tweets = tweets.replace([2,1,0],['Positive', 'Neutral','Negative'])\n",
        "tweets.head()"
      ],
      "metadata": {
        "colab": {
          "base_uri": "https://localhost:8080/",
          "height": 206
        },
        "id": "ECK5tQCh7YGA",
        "outputId": "013c50a0-b7f6-459f-962c-724b3f66f7c9"
      },
      "execution_count": 26,
      "outputs": [
        {
          "output_type": "execute_result",
          "data": {
            "text/plain": [
              "                                                text sentiment\n",
              "0  Qatar Worldcup 2022 Round Match results today ...   Neutral\n",
              "1  Fernando Santos been sacked head coach Portuga...   Neutral\n",
              "2  This been 𝗲𝘃𝗲𝗿𝘆𝘄𝗵𝗲𝗿𝗲 What tournament Antoine G...   Neutral\n",
              "3  WATCH: #BNNQatar Reports Let's take look Lione...  Positive\n",
              "4  \"What looking fool? lost!\" #LionelMessi's #Qat...  Positive"
            ],
            "text/html": [
              "\n",
              "  <div id=\"df-3eb84945-12d8-429b-a620-0c4461ad79d6\">\n",
              "    <div class=\"colab-df-container\">\n",
              "      <div>\n",
              "<style scoped>\n",
              "    .dataframe tbody tr th:only-of-type {\n",
              "        vertical-align: middle;\n",
              "    }\n",
              "\n",
              "    .dataframe tbody tr th {\n",
              "        vertical-align: top;\n",
              "    }\n",
              "\n",
              "    .dataframe thead th {\n",
              "        text-align: right;\n",
              "    }\n",
              "</style>\n",
              "<table border=\"1\" class=\"dataframe\">\n",
              "  <thead>\n",
              "    <tr style=\"text-align: right;\">\n",
              "      <th></th>\n",
              "      <th>text</th>\n",
              "      <th>sentiment</th>\n",
              "    </tr>\n",
              "  </thead>\n",
              "  <tbody>\n",
              "    <tr>\n",
              "      <th>0</th>\n",
              "      <td>Qatar Worldcup 2022 Round Match results today ...</td>\n",
              "      <td>Neutral</td>\n",
              "    </tr>\n",
              "    <tr>\n",
              "      <th>1</th>\n",
              "      <td>Fernando Santos been sacked head coach Portuga...</td>\n",
              "      <td>Neutral</td>\n",
              "    </tr>\n",
              "    <tr>\n",
              "      <th>2</th>\n",
              "      <td>This been 𝗲𝘃𝗲𝗿𝘆𝘄𝗵𝗲𝗿𝗲 What tournament Antoine G...</td>\n",
              "      <td>Neutral</td>\n",
              "    </tr>\n",
              "    <tr>\n",
              "      <th>3</th>\n",
              "      <td>WATCH: #BNNQatar Reports Let's take look Lione...</td>\n",
              "      <td>Positive</td>\n",
              "    </tr>\n",
              "    <tr>\n",
              "      <th>4</th>\n",
              "      <td>\"What looking fool? lost!\" #LionelMessi's #Qat...</td>\n",
              "      <td>Positive</td>\n",
              "    </tr>\n",
              "  </tbody>\n",
              "</table>\n",
              "</div>\n",
              "      <button class=\"colab-df-convert\" onclick=\"convertToInteractive('df-3eb84945-12d8-429b-a620-0c4461ad79d6')\"\n",
              "              title=\"Convert this dataframe to an interactive table.\"\n",
              "              style=\"display:none;\">\n",
              "        \n",
              "  <svg xmlns=\"http://www.w3.org/2000/svg\" height=\"24px\"viewBox=\"0 0 24 24\"\n",
              "       width=\"24px\">\n",
              "    <path d=\"M0 0h24v24H0V0z\" fill=\"none\"/>\n",
              "    <path d=\"M18.56 5.44l.94 2.06.94-2.06 2.06-.94-2.06-.94-.94-2.06-.94 2.06-2.06.94zm-11 1L8.5 8.5l.94-2.06 2.06-.94-2.06-.94L8.5 2.5l-.94 2.06-2.06.94zm10 10l.94 2.06.94-2.06 2.06-.94-2.06-.94-.94-2.06-.94 2.06-2.06.94z\"/><path d=\"M17.41 7.96l-1.37-1.37c-.4-.4-.92-.59-1.43-.59-.52 0-1.04.2-1.43.59L10.3 9.45l-7.72 7.72c-.78.78-.78 2.05 0 2.83L4 21.41c.39.39.9.59 1.41.59.51 0 1.02-.2 1.41-.59l7.78-7.78 2.81-2.81c.8-.78.8-2.07 0-2.86zM5.41 20L4 18.59l7.72-7.72 1.47 1.35L5.41 20z\"/>\n",
              "  </svg>\n",
              "      </button>\n",
              "      \n",
              "  <style>\n",
              "    .colab-df-container {\n",
              "      display:flex;\n",
              "      flex-wrap:wrap;\n",
              "      gap: 12px;\n",
              "    }\n",
              "\n",
              "    .colab-df-convert {\n",
              "      background-color: #E8F0FE;\n",
              "      border: none;\n",
              "      border-radius: 50%;\n",
              "      cursor: pointer;\n",
              "      display: none;\n",
              "      fill: #1967D2;\n",
              "      height: 32px;\n",
              "      padding: 0 0 0 0;\n",
              "      width: 32px;\n",
              "    }\n",
              "\n",
              "    .colab-df-convert:hover {\n",
              "      background-color: #E2EBFA;\n",
              "      box-shadow: 0px 1px 2px rgba(60, 64, 67, 0.3), 0px 1px 3px 1px rgba(60, 64, 67, 0.15);\n",
              "      fill: #174EA6;\n",
              "    }\n",
              "\n",
              "    [theme=dark] .colab-df-convert {\n",
              "      background-color: #3B4455;\n",
              "      fill: #D2E3FC;\n",
              "    }\n",
              "\n",
              "    [theme=dark] .colab-df-convert:hover {\n",
              "      background-color: #434B5C;\n",
              "      box-shadow: 0px 1px 3px 1px rgba(0, 0, 0, 0.15);\n",
              "      filter: drop-shadow(0px 1px 2px rgba(0, 0, 0, 0.3));\n",
              "      fill: #FFFFFF;\n",
              "    }\n",
              "  </style>\n",
              "\n",
              "      <script>\n",
              "        const buttonEl =\n",
              "          document.querySelector('#df-3eb84945-12d8-429b-a620-0c4461ad79d6 button.colab-df-convert');\n",
              "        buttonEl.style.display =\n",
              "          google.colab.kernel.accessAllowed ? 'block' : 'none';\n",
              "\n",
              "        async function convertToInteractive(key) {\n",
              "          const element = document.querySelector('#df-3eb84945-12d8-429b-a620-0c4461ad79d6');\n",
              "          const dataTable =\n",
              "            await google.colab.kernel.invokeFunction('convertToInteractive',\n",
              "                                                     [key], {});\n",
              "          if (!dataTable) return;\n",
              "\n",
              "          const docLinkHtml = 'Like what you see? Visit the ' +\n",
              "            '<a target=\"_blank\" href=https://colab.research.google.com/notebooks/data_table.ipynb>data table notebook</a>'\n",
              "            + ' to learn more about interactive tables.';\n",
              "          element.innerHTML = '';\n",
              "          dataTable['output_type'] = 'display_data';\n",
              "          await google.colab.output.renderOutput(dataTable, element);\n",
              "          const docLink = document.createElement('div');\n",
              "          docLink.innerHTML = docLinkHtml;\n",
              "          element.appendChild(docLink);\n",
              "        }\n",
              "      </script>\n",
              "    </div>\n",
              "  </div>\n",
              "  "
            ]
          },
          "metadata": {},
          "execution_count": 26
        }
      ]
    },
    {
      "cell_type": "code",
      "source": [
        "temp = tweets.groupby('sentiment').count()['text'].reset_index().sort_values(by='text',ascending=False)\n",
        "temp.style.background_gradient(cmap='Purples')"
      ],
      "metadata": {
        "colab": {
          "base_uri": "https://localhost:8080/",
          "height": 144
        },
        "id": "BQudLq737Z5B",
        "outputId": "f1deed2c-d0cc-41ba-eeeb-545c493bc67f"
      },
      "execution_count": 27,
      "outputs": [
        {
          "output_type": "execute_result",
          "data": {
            "text/plain": [
              "<pandas.io.formats.style.Styler at 0x7f12caeb1600>"
            ],
            "text/html": [
              "<style type=\"text/css\">\n",
              "#T_b726f_row0_col1 {\n",
              "  background-color: #3f007d;\n",
              "  color: #f1f1f1;\n",
              "}\n",
              "#T_b726f_row1_col1 {\n",
              "  background-color: #6f5ba8;\n",
              "  color: #f1f1f1;\n",
              "}\n",
              "#T_b726f_row2_col1 {\n",
              "  background-color: #fcfbfd;\n",
              "  color: #000000;\n",
              "}\n",
              "</style>\n",
              "<table id=\"T_b726f\" class=\"dataframe\">\n",
              "  <thead>\n",
              "    <tr>\n",
              "      <th class=\"blank level0\" >&nbsp;</th>\n",
              "      <th id=\"T_b726f_level0_col0\" class=\"col_heading level0 col0\" >sentiment</th>\n",
              "      <th id=\"T_b726f_level0_col1\" class=\"col_heading level0 col1\" >text</th>\n",
              "    </tr>\n",
              "  </thead>\n",
              "  <tbody>\n",
              "    <tr>\n",
              "      <th id=\"T_b726f_level0_row0\" class=\"row_heading level0 row0\" >2</th>\n",
              "      <td id=\"T_b726f_row0_col0\" class=\"data row0 col0\" >Positive</td>\n",
              "      <td id=\"T_b726f_row0_col1\" class=\"data row0 col1\" >472</td>\n",
              "    </tr>\n",
              "    <tr>\n",
              "      <th id=\"T_b726f_level0_row1\" class=\"row_heading level0 row1\" >1</th>\n",
              "      <td id=\"T_b726f_row1_col0\" class=\"data row1 col0\" >Neutral</td>\n",
              "      <td id=\"T_b726f_row1_col1\" class=\"data row1 col1\" >378</td>\n",
              "    </tr>\n",
              "    <tr>\n",
              "      <th id=\"T_b726f_level0_row2\" class=\"row_heading level0 row2\" >0</th>\n",
              "      <td id=\"T_b726f_row2_col0\" class=\"data row2 col0\" >Negative</td>\n",
              "      <td id=\"T_b726f_row2_col1\" class=\"data row2 col1\" >137</td>\n",
              "    </tr>\n",
              "  </tbody>\n",
              "</table>\n"
            ]
          },
          "metadata": {},
          "execution_count": 27
        }
      ]
    }
  ]
}