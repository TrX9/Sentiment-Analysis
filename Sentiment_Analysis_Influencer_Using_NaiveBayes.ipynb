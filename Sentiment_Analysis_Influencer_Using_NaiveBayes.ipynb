{
  "nbformat": 4,
  "nbformat_minor": 0,
  "metadata": {
    "colab": {
      "provenance": []
    },
    "kernelspec": {
      "name": "python3",
      "display_name": "Python 3"
    },
    "language_info": {
      "name": "python"
    }
  },
  "cells": [
    {
      "cell_type": "code",
      "source": [
        "import pandas as pd\n",
        "import numpy as np\n",
        "import matplotlib as nlp\n",
        "import re\n",
        "import nltk"
      ],
      "metadata": {
        "id": "YLP2w9hRdu-g"
      },
      "execution_count": 32,
      "outputs": []
    },
    {
      "cell_type": "code",
      "source": [
        "#read file\n",
        "from google.colab import drive\n",
        "drive.mount('/content/drive')\n",
        "tweets  = pd.read_csv(\"/content/drive/MyDrive/tweets/World Cup 2022 Influencer Tweets.csv\")\n",
        "#display the first tweets\n",
        "tweets.head()"
      ],
      "metadata": {
        "id": "Co0Z3l-1Orji"
      },
      "execution_count": null,
      "outputs": []
    },
    {
      "cell_type": "markdown",
      "source": [
        "clearing duplicates"
      ],
      "metadata": {
        "id": "UROuVHCXPcv6"
      }
    },
    {
      "cell_type": "code",
      "source": [
        "tweets.drop_duplicates(subset='text',inplace=True)\n",
        "tweets.info()"
      ],
      "metadata": {
        "colab": {
          "base_uri": "https://localhost:8080/"
        },
        "id": "Nah2kZ6JPUyi",
        "outputId": "1042c2e7-7ba5-4127-a49d-62f2333faab7"
      },
      "execution_count": 34,
      "outputs": [
        {
          "output_type": "stream",
          "name": "stdout",
          "text": [
            "<class 'pandas.core.frame.DataFrame'>\n",
            "Int64Index: 987 entries, 0 to 987\n",
            "Data columns (total 9 columns):\n",
            " #   Column           Non-Null Count  Dtype \n",
            "---  ------           --------------  ----- \n",
            " 0   user_name        987 non-null    object\n",
            " 1   user_location    724 non-null    object\n",
            " 2   user_created     987 non-null    object\n",
            " 3   user_followers   987 non-null    int64 \n",
            " 4   user_favourites  987 non-null    int64 \n",
            " 5   user_verified    987 non-null    bool  \n",
            " 6   date             987 non-null    object\n",
            " 7   text             987 non-null    object\n",
            " 8   source           987 non-null    object\n",
            "dtypes: bool(1), int64(2), object(6)\n",
            "memory usage: 70.4+ KB\n"
          ]
        }
      ]
    },
    {
      "cell_type": "markdown",
      "source": [
        "deep cleaning"
      ],
      "metadata": {
        "id": "V1Nl8CytPttn"
      }
    },
    {
      "cell_type": "code",
      "source": [
        "#replace all NaN values wit an empty string\n",
        "tweets = tweets.replace(np.nan, '')\n",
        "tweets.shape\n",
        "# function for twitter text cleaning\n",
        "def tweet_cleaner(text):\n",
        "    #remove RT\n",
        "    text = re.sub(\"RT @[\\w]*:\",\"\",text)\n",
        "    #remove twitter handles (@user)\n",
        "    text = re.sub(\"(@[A-Za-z0-9_]+)\",\"\", text)\n",
        "    #remove url links\n",
        "    text = re.sub(\"https?://[A-Za-z0-9./]*\",\"\",text)\n",
        "    # remove whitespaces\n",
        "    text = ' '.join(text.split())\n",
        "    return text\n",
        "#Apply text cleaning function to text column in tweets dataframe\n",
        "tweets['text'] = tweets['text'].apply(lambda x:tweet_cleaner(x))\n",
        "tweets.shape"
      ],
      "metadata": {
        "colab": {
          "base_uri": "https://localhost:8080/"
        },
        "id": "SeSRn7TJP1Eb",
        "outputId": "bd93581c-c02b-46ec-ca64-fde19b437967"
      },
      "execution_count": 35,
      "outputs": [
        {
          "output_type": "execute_result",
          "data": {
            "text/plain": [
              "(987, 9)"
            ]
          },
          "metadata": {},
          "execution_count": 35
        }
      ]
    },
    {
      "cell_type": "code",
      "source": [
        "tweets = tweets.sample(frac=1)\n",
        "tweets = tweets[:200000]\n",
        "print(\"Dataset shape:\", tweets.shape)"
      ],
      "metadata": {
        "colab": {
          "base_uri": "https://localhost:8080/"
        },
        "id": "ud3ZpKF0eR31",
        "outputId": "c9ed925c-cb2e-493d-eaa8-b014946969bf"
      },
      "execution_count": 36,
      "outputs": [
        {
          "output_type": "stream",
          "name": "stdout",
          "text": [
            "Dataset shape: (987, 9)\n"
          ]
        }
      ]
    },
    {
      "cell_type": "code",
      "source": [
        "#downloading the vader lexicon from nltk\n",
        "!pip install vaderSentiment\n",
        "!pip install twython\n",
        "nltk.download('vader_lexicon')#importing sentimentintensityanaylzer\n",
        "from nltk.sentiment.vader import SentimentIntensityAnalyzer\n",
        "sid = SentimentIntensityAnalyzer()"
      ],
      "metadata": {
        "id": "Eh-75iU6edVQ",
        "colab": {
          "base_uri": "https://localhost:8080/"
        },
        "outputId": "5cff683a-7966-474b-e245-32744c45e507"
      },
      "execution_count": 37,
      "outputs": [
        {
          "output_type": "stream",
          "name": "stdout",
          "text": [
            "Looking in indexes: https://pypi.org/simple, https://us-python.pkg.dev/colab-wheels/public/simple/\n",
            "Requirement already satisfied: vaderSentiment in /usr/local/lib/python3.10/dist-packages (3.3.2)\n",
            "Requirement already satisfied: requests in /usr/local/lib/python3.10/dist-packages (from vaderSentiment) (2.27.1)\n",
            "Requirement already satisfied: urllib3<1.27,>=1.21.1 in /usr/local/lib/python3.10/dist-packages (from requests->vaderSentiment) (1.26.15)\n",
            "Requirement already satisfied: certifi>=2017.4.17 in /usr/local/lib/python3.10/dist-packages (from requests->vaderSentiment) (2022.12.7)\n",
            "Requirement already satisfied: charset-normalizer~=2.0.0 in /usr/local/lib/python3.10/dist-packages (from requests->vaderSentiment) (2.0.12)\n",
            "Requirement already satisfied: idna<4,>=2.5 in /usr/local/lib/python3.10/dist-packages (from requests->vaderSentiment) (3.4)\n",
            "Looking in indexes: https://pypi.org/simple, https://us-python.pkg.dev/colab-wheels/public/simple/\n",
            "Requirement already satisfied: twython in /usr/local/lib/python3.10/dist-packages (3.9.1)\n",
            "Requirement already satisfied: requests-oauthlib>=0.4.0 in /usr/local/lib/python3.10/dist-packages (from twython) (1.3.1)\n",
            "Requirement already satisfied: requests>=2.1.0 in /usr/local/lib/python3.10/dist-packages (from twython) (2.27.1)\n",
            "Requirement already satisfied: charset-normalizer~=2.0.0 in /usr/local/lib/python3.10/dist-packages (from requests>=2.1.0->twython) (2.0.12)\n",
            "Requirement already satisfied: idna<4,>=2.5 in /usr/local/lib/python3.10/dist-packages (from requests>=2.1.0->twython) (3.4)\n",
            "Requirement already satisfied: certifi>=2017.4.17 in /usr/local/lib/python3.10/dist-packages (from requests>=2.1.0->twython) (2022.12.7)\n",
            "Requirement already satisfied: urllib3<1.27,>=1.21.1 in /usr/local/lib/python3.10/dist-packages (from requests>=2.1.0->twython) (1.26.15)\n",
            "Requirement already satisfied: oauthlib>=3.0.0 in /usr/local/lib/python3.10/dist-packages (from requests-oauthlib>=0.4.0->twython) (3.2.2)\n"
          ]
        },
        {
          "output_type": "stream",
          "name": "stderr",
          "text": [
            "[nltk_data] Downloading package vader_lexicon to /root/nltk_data...\n",
            "[nltk_data]   Package vader_lexicon is already up-to-date!\n"
          ]
        }
      ]
    },
    {
      "cell_type": "code",
      "source": [
        "tweets['scores'] = tweets['text'].apply(lambda text: sid.polarity_scores(text))\n",
        "tweets.head(5)"
      ],
      "metadata": {
        "colab": {
          "base_uri": "https://localhost:8080/",
          "height": 206
        },
        "id": "YYjKXS7Bef0W",
        "outputId": "686413ea-b28f-46c9-80a0-5f26334073e2"
      },
      "execution_count": 38,
      "outputs": [
        {
          "output_type": "execute_result",
          "data": {
            "text/plain": [
              "                 user_name              user_location  \\\n",
              "902    Mzilikazi wa Afrika  Bushbuckridge, Mpumalanga   \n",
              "91   عبدالله بن حمد العذبة                Doha, Qatar   \n",
              "939              Gulf News       United Arab Emirates   \n",
              "655               Demba Ba                              \n",
              "82           The Telegraph             Kolkata, India   \n",
              "\n",
              "                  user_created  user_followers  user_favourites  \\\n",
              "902  2011-02-09 12:03:52+00:00          522132             3809   \n",
              "91   2009-06-21 07:14:21+00:00          826225              357   \n",
              "939  2009-02-11 08:21:32+00:00         1460695             1009   \n",
              "655  2009-08-09 10:36:19+00:00         1350809             3661   \n",
              "82   2010-05-07 04:10:03+00:00          317799              272   \n",
              "\n",
              "     user_verified                       date  \\\n",
              "902           True  2022-11-28 16:56:16+00:00   \n",
              "91            True  2022-12-23 17:41:50+00:00   \n",
              "939           True  2022-11-21 08:00:02+00:00   \n",
              "655           True  2022-12-09 22:29:34+00:00   \n",
              "82            True  2022-12-23 12:55:43+00:00   \n",
              "\n",
              "                                                  text               source  \\\n",
              "902  ANOTHER ONE: More players behaving badly and a...   Twitter for iPhone   \n",
              "91   New mural of Lionel Messi in Buenos Aires with...   Twitter for iPhone   \n",
              "939  #FIFAWorldCup #Qatar 2022: With #BenzemaOut #G...            TweetDeck   \n",
              "655  One simple rule in the penalty shootout... YOU...  Twitter for Android   \n",
              "82   He was also photographed holding the World Cup...            TweetDeck   \n",
              "\n",
              "                                                scores  \n",
              "902  {'neg': 0.154, 'neu': 0.732, 'pos': 0.114, 'co...  \n",
              "91   {'neg': 0.0, 'neu': 0.871, 'pos': 0.129, 'comp...  \n",
              "939  {'neg': 0.1, 'neu': 0.836, 'pos': 0.064, 'comp...  \n",
              "655  {'neg': 0.283, 'neu': 0.5, 'pos': 0.217, 'comp...  \n",
              "82   {'neg': 0.0, 'neu': 1.0, 'pos': 0.0, 'compound...  "
            ],
            "text/html": [
              "\n",
              "  <div id=\"df-2c3dba90-60d7-4df2-b220-f3a15967a598\">\n",
              "    <div class=\"colab-df-container\">\n",
              "      <div>\n",
              "<style scoped>\n",
              "    .dataframe tbody tr th:only-of-type {\n",
              "        vertical-align: middle;\n",
              "    }\n",
              "\n",
              "    .dataframe tbody tr th {\n",
              "        vertical-align: top;\n",
              "    }\n",
              "\n",
              "    .dataframe thead th {\n",
              "        text-align: right;\n",
              "    }\n",
              "</style>\n",
              "<table border=\"1\" class=\"dataframe\">\n",
              "  <thead>\n",
              "    <tr style=\"text-align: right;\">\n",
              "      <th></th>\n",
              "      <th>user_name</th>\n",
              "      <th>user_location</th>\n",
              "      <th>user_created</th>\n",
              "      <th>user_followers</th>\n",
              "      <th>user_favourites</th>\n",
              "      <th>user_verified</th>\n",
              "      <th>date</th>\n",
              "      <th>text</th>\n",
              "      <th>source</th>\n",
              "      <th>scores</th>\n",
              "    </tr>\n",
              "  </thead>\n",
              "  <tbody>\n",
              "    <tr>\n",
              "      <th>902</th>\n",
              "      <td>Mzilikazi wa Afrika</td>\n",
              "      <td>Bushbuckridge, Mpumalanga</td>\n",
              "      <td>2011-02-09 12:03:52+00:00</td>\n",
              "      <td>522132</td>\n",
              "      <td>3809</td>\n",
              "      <td>True</td>\n",
              "      <td>2022-11-28 16:56:16+00:00</td>\n",
              "      <td>ANOTHER ONE: More players behaving badly and a...</td>\n",
              "      <td>Twitter for iPhone</td>\n",
              "      <td>{'neg': 0.154, 'neu': 0.732, 'pos': 0.114, 'co...</td>\n",
              "    </tr>\n",
              "    <tr>\n",
              "      <th>91</th>\n",
              "      <td>عبدالله بن حمد العذبة</td>\n",
              "      <td>Doha, Qatar</td>\n",
              "      <td>2009-06-21 07:14:21+00:00</td>\n",
              "      <td>826225</td>\n",
              "      <td>357</td>\n",
              "      <td>True</td>\n",
              "      <td>2022-12-23 17:41:50+00:00</td>\n",
              "      <td>New mural of Lionel Messi in Buenos Aires with...</td>\n",
              "      <td>Twitter for iPhone</td>\n",
              "      <td>{'neg': 0.0, 'neu': 0.871, 'pos': 0.129, 'comp...</td>\n",
              "    </tr>\n",
              "    <tr>\n",
              "      <th>939</th>\n",
              "      <td>Gulf News</td>\n",
              "      <td>United Arab Emirates</td>\n",
              "      <td>2009-02-11 08:21:32+00:00</td>\n",
              "      <td>1460695</td>\n",
              "      <td>1009</td>\n",
              "      <td>True</td>\n",
              "      <td>2022-11-21 08:00:02+00:00</td>\n",
              "      <td>#FIFAWorldCup #Qatar 2022: With #BenzemaOut #G...</td>\n",
              "      <td>TweetDeck</td>\n",
              "      <td>{'neg': 0.1, 'neu': 0.836, 'pos': 0.064, 'comp...</td>\n",
              "    </tr>\n",
              "    <tr>\n",
              "      <th>655</th>\n",
              "      <td>Demba Ba</td>\n",
              "      <td></td>\n",
              "      <td>2009-08-09 10:36:19+00:00</td>\n",
              "      <td>1350809</td>\n",
              "      <td>3661</td>\n",
              "      <td>True</td>\n",
              "      <td>2022-12-09 22:29:34+00:00</td>\n",
              "      <td>One simple rule in the penalty shootout... YOU...</td>\n",
              "      <td>Twitter for Android</td>\n",
              "      <td>{'neg': 0.283, 'neu': 0.5, 'pos': 0.217, 'comp...</td>\n",
              "    </tr>\n",
              "    <tr>\n",
              "      <th>82</th>\n",
              "      <td>The Telegraph</td>\n",
              "      <td>Kolkata, India</td>\n",
              "      <td>2010-05-07 04:10:03+00:00</td>\n",
              "      <td>317799</td>\n",
              "      <td>272</td>\n",
              "      <td>True</td>\n",
              "      <td>2022-12-23 12:55:43+00:00</td>\n",
              "      <td>He was also photographed holding the World Cup...</td>\n",
              "      <td>TweetDeck</td>\n",
              "      <td>{'neg': 0.0, 'neu': 1.0, 'pos': 0.0, 'compound...</td>\n",
              "    </tr>\n",
              "  </tbody>\n",
              "</table>\n",
              "</div>\n",
              "      <button class=\"colab-df-convert\" onclick=\"convertToInteractive('df-2c3dba90-60d7-4df2-b220-f3a15967a598')\"\n",
              "              title=\"Convert this dataframe to an interactive table.\"\n",
              "              style=\"display:none;\">\n",
              "        \n",
              "  <svg xmlns=\"http://www.w3.org/2000/svg\" height=\"24px\"viewBox=\"0 0 24 24\"\n",
              "       width=\"24px\">\n",
              "    <path d=\"M0 0h24v24H0V0z\" fill=\"none\"/>\n",
              "    <path d=\"M18.56 5.44l.94 2.06.94-2.06 2.06-.94-2.06-.94-.94-2.06-.94 2.06-2.06.94zm-11 1L8.5 8.5l.94-2.06 2.06-.94-2.06-.94L8.5 2.5l-.94 2.06-2.06.94zm10 10l.94 2.06.94-2.06 2.06-.94-2.06-.94-.94-2.06-.94 2.06-2.06.94z\"/><path d=\"M17.41 7.96l-1.37-1.37c-.4-.4-.92-.59-1.43-.59-.52 0-1.04.2-1.43.59L10.3 9.45l-7.72 7.72c-.78.78-.78 2.05 0 2.83L4 21.41c.39.39.9.59 1.41.59.51 0 1.02-.2 1.41-.59l7.78-7.78 2.81-2.81c.8-.78.8-2.07 0-2.86zM5.41 20L4 18.59l7.72-7.72 1.47 1.35L5.41 20z\"/>\n",
              "  </svg>\n",
              "      </button>\n",
              "      \n",
              "  <style>\n",
              "    .colab-df-container {\n",
              "      display:flex;\n",
              "      flex-wrap:wrap;\n",
              "      gap: 12px;\n",
              "    }\n",
              "\n",
              "    .colab-df-convert {\n",
              "      background-color: #E8F0FE;\n",
              "      border: none;\n",
              "      border-radius: 50%;\n",
              "      cursor: pointer;\n",
              "      display: none;\n",
              "      fill: #1967D2;\n",
              "      height: 32px;\n",
              "      padding: 0 0 0 0;\n",
              "      width: 32px;\n",
              "    }\n",
              "\n",
              "    .colab-df-convert:hover {\n",
              "      background-color: #E2EBFA;\n",
              "      box-shadow: 0px 1px 2px rgba(60, 64, 67, 0.3), 0px 1px 3px 1px rgba(60, 64, 67, 0.15);\n",
              "      fill: #174EA6;\n",
              "    }\n",
              "\n",
              "    [theme=dark] .colab-df-convert {\n",
              "      background-color: #3B4455;\n",
              "      fill: #D2E3FC;\n",
              "    }\n",
              "\n",
              "    [theme=dark] .colab-df-convert:hover {\n",
              "      background-color: #434B5C;\n",
              "      box-shadow: 0px 1px 3px 1px rgba(0, 0, 0, 0.15);\n",
              "      filter: drop-shadow(0px 1px 2px rgba(0, 0, 0, 0.3));\n",
              "      fill: #FFFFFF;\n",
              "    }\n",
              "  </style>\n",
              "\n",
              "      <script>\n",
              "        const buttonEl =\n",
              "          document.querySelector('#df-2c3dba90-60d7-4df2-b220-f3a15967a598 button.colab-df-convert');\n",
              "        buttonEl.style.display =\n",
              "          google.colab.kernel.accessAllowed ? 'block' : 'none';\n",
              "\n",
              "        async function convertToInteractive(key) {\n",
              "          const element = document.querySelector('#df-2c3dba90-60d7-4df2-b220-f3a15967a598');\n",
              "          const dataTable =\n",
              "            await google.colab.kernel.invokeFunction('convertToInteractive',\n",
              "                                                     [key], {});\n",
              "          if (!dataTable) return;\n",
              "\n",
              "          const docLinkHtml = 'Like what you see? Visit the ' +\n",
              "            '<a target=\"_blank\" href=https://colab.research.google.com/notebooks/data_table.ipynb>data table notebook</a>'\n",
              "            + ' to learn more about interactive tables.';\n",
              "          element.innerHTML = '';\n",
              "          dataTable['output_type'] = 'display_data';\n",
              "          await google.colab.output.renderOutput(dataTable, element);\n",
              "          const docLink = document.createElement('div');\n",
              "          docLink.innerHTML = docLinkHtml;\n",
              "          element.appendChild(docLink);\n",
              "        }\n",
              "      </script>\n",
              "    </div>\n",
              "  </div>\n",
              "  "
            ]
          },
          "metadata": {},
          "execution_count": 38
        }
      ]
    },
    {
      "cell_type": "code",
      "source": [
        "def sentimentPredict(sentiment):\n",
        "    if sentiment['compound'] >= 0.05:\n",
        "      return \"Positive\"\n",
        "    elif sentiment['compound'] <= -0.05: \n",
        "      return \"Negative\"\n",
        "    else:\n",
        "      return \"Neutral\"\n",
        "final_df = tweets\n",
        "tweets['sentiment'] = final_df['scores'].apply(lambda x: sentimentPredict(x))\n",
        "tweets.head(5)"
      ],
      "metadata": {
        "colab": {
          "base_uri": "https://localhost:8080/",
          "height": 250
        },
        "id": "QRHit6MyfYe1",
        "outputId": "159eae99-ee6e-4154-e96b-2dd97eb3c6b3"
      },
      "execution_count": 39,
      "outputs": [
        {
          "output_type": "execute_result",
          "data": {
            "text/plain": [
              "                 user_name              user_location  \\\n",
              "902    Mzilikazi wa Afrika  Bushbuckridge, Mpumalanga   \n",
              "91   عبدالله بن حمد العذبة                Doha, Qatar   \n",
              "939              Gulf News       United Arab Emirates   \n",
              "655               Demba Ba                              \n",
              "82           The Telegraph             Kolkata, India   \n",
              "\n",
              "                  user_created  user_followers  user_favourites  \\\n",
              "902  2011-02-09 12:03:52+00:00          522132             3809   \n",
              "91   2009-06-21 07:14:21+00:00          826225              357   \n",
              "939  2009-02-11 08:21:32+00:00         1460695             1009   \n",
              "655  2009-08-09 10:36:19+00:00         1350809             3661   \n",
              "82   2010-05-07 04:10:03+00:00          317799              272   \n",
              "\n",
              "     user_verified                       date  \\\n",
              "902           True  2022-11-28 16:56:16+00:00   \n",
              "91            True  2022-12-23 17:41:50+00:00   \n",
              "939           True  2022-11-21 08:00:02+00:00   \n",
              "655           True  2022-12-09 22:29:34+00:00   \n",
              "82            True  2022-12-23 12:55:43+00:00   \n",
              "\n",
              "                                                  text               source  \\\n",
              "902  ANOTHER ONE: More players behaving badly and a...   Twitter for iPhone   \n",
              "91   New mural of Lionel Messi in Buenos Aires with...   Twitter for iPhone   \n",
              "939  #FIFAWorldCup #Qatar 2022: With #BenzemaOut #G...            TweetDeck   \n",
              "655  One simple rule in the penalty shootout... YOU...  Twitter for Android   \n",
              "82   He was also photographed holding the World Cup...            TweetDeck   \n",
              "\n",
              "                                                scores sentiment  \n",
              "902  {'neg': 0.154, 'neu': 0.732, 'pos': 0.114, 'co...  Negative  \n",
              "91   {'neg': 0.0, 'neu': 0.871, 'pos': 0.129, 'comp...  Positive  \n",
              "939  {'neg': 0.1, 'neu': 0.836, 'pos': 0.064, 'comp...  Negative  \n",
              "655  {'neg': 0.283, 'neu': 0.5, 'pos': 0.217, 'comp...  Negative  \n",
              "82   {'neg': 0.0, 'neu': 1.0, 'pos': 0.0, 'compound...   Neutral  "
            ],
            "text/html": [
              "\n",
              "  <div id=\"df-0eb76346-78d0-449b-b4a6-190df8aa4127\">\n",
              "    <div class=\"colab-df-container\">\n",
              "      <div>\n",
              "<style scoped>\n",
              "    .dataframe tbody tr th:only-of-type {\n",
              "        vertical-align: middle;\n",
              "    }\n",
              "\n",
              "    .dataframe tbody tr th {\n",
              "        vertical-align: top;\n",
              "    }\n",
              "\n",
              "    .dataframe thead th {\n",
              "        text-align: right;\n",
              "    }\n",
              "</style>\n",
              "<table border=\"1\" class=\"dataframe\">\n",
              "  <thead>\n",
              "    <tr style=\"text-align: right;\">\n",
              "      <th></th>\n",
              "      <th>user_name</th>\n",
              "      <th>user_location</th>\n",
              "      <th>user_created</th>\n",
              "      <th>user_followers</th>\n",
              "      <th>user_favourites</th>\n",
              "      <th>user_verified</th>\n",
              "      <th>date</th>\n",
              "      <th>text</th>\n",
              "      <th>source</th>\n",
              "      <th>scores</th>\n",
              "      <th>sentiment</th>\n",
              "    </tr>\n",
              "  </thead>\n",
              "  <tbody>\n",
              "    <tr>\n",
              "      <th>902</th>\n",
              "      <td>Mzilikazi wa Afrika</td>\n",
              "      <td>Bushbuckridge, Mpumalanga</td>\n",
              "      <td>2011-02-09 12:03:52+00:00</td>\n",
              "      <td>522132</td>\n",
              "      <td>3809</td>\n",
              "      <td>True</td>\n",
              "      <td>2022-11-28 16:56:16+00:00</td>\n",
              "      <td>ANOTHER ONE: More players behaving badly and a...</td>\n",
              "      <td>Twitter for iPhone</td>\n",
              "      <td>{'neg': 0.154, 'neu': 0.732, 'pos': 0.114, 'co...</td>\n",
              "      <td>Negative</td>\n",
              "    </tr>\n",
              "    <tr>\n",
              "      <th>91</th>\n",
              "      <td>عبدالله بن حمد العذبة</td>\n",
              "      <td>Doha, Qatar</td>\n",
              "      <td>2009-06-21 07:14:21+00:00</td>\n",
              "      <td>826225</td>\n",
              "      <td>357</td>\n",
              "      <td>True</td>\n",
              "      <td>2022-12-23 17:41:50+00:00</td>\n",
              "      <td>New mural of Lionel Messi in Buenos Aires with...</td>\n",
              "      <td>Twitter for iPhone</td>\n",
              "      <td>{'neg': 0.0, 'neu': 0.871, 'pos': 0.129, 'comp...</td>\n",
              "      <td>Positive</td>\n",
              "    </tr>\n",
              "    <tr>\n",
              "      <th>939</th>\n",
              "      <td>Gulf News</td>\n",
              "      <td>United Arab Emirates</td>\n",
              "      <td>2009-02-11 08:21:32+00:00</td>\n",
              "      <td>1460695</td>\n",
              "      <td>1009</td>\n",
              "      <td>True</td>\n",
              "      <td>2022-11-21 08:00:02+00:00</td>\n",
              "      <td>#FIFAWorldCup #Qatar 2022: With #BenzemaOut #G...</td>\n",
              "      <td>TweetDeck</td>\n",
              "      <td>{'neg': 0.1, 'neu': 0.836, 'pos': 0.064, 'comp...</td>\n",
              "      <td>Negative</td>\n",
              "    </tr>\n",
              "    <tr>\n",
              "      <th>655</th>\n",
              "      <td>Demba Ba</td>\n",
              "      <td></td>\n",
              "      <td>2009-08-09 10:36:19+00:00</td>\n",
              "      <td>1350809</td>\n",
              "      <td>3661</td>\n",
              "      <td>True</td>\n",
              "      <td>2022-12-09 22:29:34+00:00</td>\n",
              "      <td>One simple rule in the penalty shootout... YOU...</td>\n",
              "      <td>Twitter for Android</td>\n",
              "      <td>{'neg': 0.283, 'neu': 0.5, 'pos': 0.217, 'comp...</td>\n",
              "      <td>Negative</td>\n",
              "    </tr>\n",
              "    <tr>\n",
              "      <th>82</th>\n",
              "      <td>The Telegraph</td>\n",
              "      <td>Kolkata, India</td>\n",
              "      <td>2010-05-07 04:10:03+00:00</td>\n",
              "      <td>317799</td>\n",
              "      <td>272</td>\n",
              "      <td>True</td>\n",
              "      <td>2022-12-23 12:55:43+00:00</td>\n",
              "      <td>He was also photographed holding the World Cup...</td>\n",
              "      <td>TweetDeck</td>\n",
              "      <td>{'neg': 0.0, 'neu': 1.0, 'pos': 0.0, 'compound...</td>\n",
              "      <td>Neutral</td>\n",
              "    </tr>\n",
              "  </tbody>\n",
              "</table>\n",
              "</div>\n",
              "      <button class=\"colab-df-convert\" onclick=\"convertToInteractive('df-0eb76346-78d0-449b-b4a6-190df8aa4127')\"\n",
              "              title=\"Convert this dataframe to an interactive table.\"\n",
              "              style=\"display:none;\">\n",
              "        \n",
              "  <svg xmlns=\"http://www.w3.org/2000/svg\" height=\"24px\"viewBox=\"0 0 24 24\"\n",
              "       width=\"24px\">\n",
              "    <path d=\"M0 0h24v24H0V0z\" fill=\"none\"/>\n",
              "    <path d=\"M18.56 5.44l.94 2.06.94-2.06 2.06-.94-2.06-.94-.94-2.06-.94 2.06-2.06.94zm-11 1L8.5 8.5l.94-2.06 2.06-.94-2.06-.94L8.5 2.5l-.94 2.06-2.06.94zm10 10l.94 2.06.94-2.06 2.06-.94-2.06-.94-.94-2.06-.94 2.06-2.06.94z\"/><path d=\"M17.41 7.96l-1.37-1.37c-.4-.4-.92-.59-1.43-.59-.52 0-1.04.2-1.43.59L10.3 9.45l-7.72 7.72c-.78.78-.78 2.05 0 2.83L4 21.41c.39.39.9.59 1.41.59.51 0 1.02-.2 1.41-.59l7.78-7.78 2.81-2.81c.8-.78.8-2.07 0-2.86zM5.41 20L4 18.59l7.72-7.72 1.47 1.35L5.41 20z\"/>\n",
              "  </svg>\n",
              "      </button>\n",
              "      \n",
              "  <style>\n",
              "    .colab-df-container {\n",
              "      display:flex;\n",
              "      flex-wrap:wrap;\n",
              "      gap: 12px;\n",
              "    }\n",
              "\n",
              "    .colab-df-convert {\n",
              "      background-color: #E8F0FE;\n",
              "      border: none;\n",
              "      border-radius: 50%;\n",
              "      cursor: pointer;\n",
              "      display: none;\n",
              "      fill: #1967D2;\n",
              "      height: 32px;\n",
              "      padding: 0 0 0 0;\n",
              "      width: 32px;\n",
              "    }\n",
              "\n",
              "    .colab-df-convert:hover {\n",
              "      background-color: #E2EBFA;\n",
              "      box-shadow: 0px 1px 2px rgba(60, 64, 67, 0.3), 0px 1px 3px 1px rgba(60, 64, 67, 0.15);\n",
              "      fill: #174EA6;\n",
              "    }\n",
              "\n",
              "    [theme=dark] .colab-df-convert {\n",
              "      background-color: #3B4455;\n",
              "      fill: #D2E3FC;\n",
              "    }\n",
              "\n",
              "    [theme=dark] .colab-df-convert:hover {\n",
              "      background-color: #434B5C;\n",
              "      box-shadow: 0px 1px 3px 1px rgba(0, 0, 0, 0.15);\n",
              "      filter: drop-shadow(0px 1px 2px rgba(0, 0, 0, 0.3));\n",
              "      fill: #FFFFFF;\n",
              "    }\n",
              "  </style>\n",
              "\n",
              "      <script>\n",
              "        const buttonEl =\n",
              "          document.querySelector('#df-0eb76346-78d0-449b-b4a6-190df8aa4127 button.colab-df-convert');\n",
              "        buttonEl.style.display =\n",
              "          google.colab.kernel.accessAllowed ? 'block' : 'none';\n",
              "\n",
              "        async function convertToInteractive(key) {\n",
              "          const element = document.querySelector('#df-0eb76346-78d0-449b-b4a6-190df8aa4127');\n",
              "          const dataTable =\n",
              "            await google.colab.kernel.invokeFunction('convertToInteractive',\n",
              "                                                     [key], {});\n",
              "          if (!dataTable) return;\n",
              "\n",
              "          const docLinkHtml = 'Like what you see? Visit the ' +\n",
              "            '<a target=\"_blank\" href=https://colab.research.google.com/notebooks/data_table.ipynb>data table notebook</a>'\n",
              "            + ' to learn more about interactive tables.';\n",
              "          element.innerHTML = '';\n",
              "          dataTable['output_type'] = 'display_data';\n",
              "          await google.colab.output.renderOutput(dataTable, element);\n",
              "          const docLink = document.createElement('div');\n",
              "          docLink.innerHTML = docLinkHtml;\n",
              "          element.appendChild(docLink);\n",
              "        }\n",
              "      </script>\n",
              "    </div>\n",
              "  </div>\n",
              "  "
            ]
          },
          "metadata": {},
          "execution_count": 39
        }
      ]
    },
    {
      "cell_type": "code",
      "source": [
        "tweets = tweets.replace(['Positive','Neutral','Negative'],[2, 1, 0])"
      ],
      "metadata": {
        "id": "aONE9tCWe_KA"
      },
      "execution_count": 40,
      "outputs": []
    },
    {
      "cell_type": "code",
      "source": [
        "tweets.head(5)"
      ],
      "metadata": {
        "colab": {
          "base_uri": "https://localhost:8080/",
          "height": 250
        },
        "id": "dzZfS1Ihfi1c",
        "outputId": "d73c9d2a-699b-457b-cb2e-937fa5197f6b"
      },
      "execution_count": 41,
      "outputs": [
        {
          "output_type": "execute_result",
          "data": {
            "text/plain": [
              "                 user_name              user_location  \\\n",
              "902    Mzilikazi wa Afrika  Bushbuckridge, Mpumalanga   \n",
              "91   عبدالله بن حمد العذبة                Doha, Qatar   \n",
              "939              Gulf News       United Arab Emirates   \n",
              "655               Demba Ba                              \n",
              "82           The Telegraph             Kolkata, India   \n",
              "\n",
              "                  user_created  user_followers  user_favourites  \\\n",
              "902  2011-02-09 12:03:52+00:00          522132             3809   \n",
              "91   2009-06-21 07:14:21+00:00          826225              357   \n",
              "939  2009-02-11 08:21:32+00:00         1460695             1009   \n",
              "655  2009-08-09 10:36:19+00:00         1350809             3661   \n",
              "82   2010-05-07 04:10:03+00:00          317799              272   \n",
              "\n",
              "     user_verified                       date  \\\n",
              "902           True  2022-11-28 16:56:16+00:00   \n",
              "91            True  2022-12-23 17:41:50+00:00   \n",
              "939           True  2022-11-21 08:00:02+00:00   \n",
              "655           True  2022-12-09 22:29:34+00:00   \n",
              "82            True  2022-12-23 12:55:43+00:00   \n",
              "\n",
              "                                                  text               source  \\\n",
              "902  ANOTHER ONE: More players behaving badly and a...   Twitter for iPhone   \n",
              "91   New mural of Lionel Messi in Buenos Aires with...   Twitter for iPhone   \n",
              "939  #FIFAWorldCup #Qatar 2022: With #BenzemaOut #G...            TweetDeck   \n",
              "655  One simple rule in the penalty shootout... YOU...  Twitter for Android   \n",
              "82   He was also photographed holding the World Cup...            TweetDeck   \n",
              "\n",
              "                                                scores  sentiment  \n",
              "902  {'neg': 0.154, 'neu': 0.732, 'pos': 0.114, 'co...          0  \n",
              "91   {'neg': 0.0, 'neu': 0.871, 'pos': 0.129, 'comp...          2  \n",
              "939  {'neg': 0.1, 'neu': 0.836, 'pos': 0.064, 'comp...          0  \n",
              "655  {'neg': 0.283, 'neu': 0.5, 'pos': 0.217, 'comp...          0  \n",
              "82   {'neg': 0.0, 'neu': 1.0, 'pos': 0.0, 'compound...          1  "
            ],
            "text/html": [
              "\n",
              "  <div id=\"df-21336d06-d072-4229-ae76-27714e0fcebc\">\n",
              "    <div class=\"colab-df-container\">\n",
              "      <div>\n",
              "<style scoped>\n",
              "    .dataframe tbody tr th:only-of-type {\n",
              "        vertical-align: middle;\n",
              "    }\n",
              "\n",
              "    .dataframe tbody tr th {\n",
              "        vertical-align: top;\n",
              "    }\n",
              "\n",
              "    .dataframe thead th {\n",
              "        text-align: right;\n",
              "    }\n",
              "</style>\n",
              "<table border=\"1\" class=\"dataframe\">\n",
              "  <thead>\n",
              "    <tr style=\"text-align: right;\">\n",
              "      <th></th>\n",
              "      <th>user_name</th>\n",
              "      <th>user_location</th>\n",
              "      <th>user_created</th>\n",
              "      <th>user_followers</th>\n",
              "      <th>user_favourites</th>\n",
              "      <th>user_verified</th>\n",
              "      <th>date</th>\n",
              "      <th>text</th>\n",
              "      <th>source</th>\n",
              "      <th>scores</th>\n",
              "      <th>sentiment</th>\n",
              "    </tr>\n",
              "  </thead>\n",
              "  <tbody>\n",
              "    <tr>\n",
              "      <th>902</th>\n",
              "      <td>Mzilikazi wa Afrika</td>\n",
              "      <td>Bushbuckridge, Mpumalanga</td>\n",
              "      <td>2011-02-09 12:03:52+00:00</td>\n",
              "      <td>522132</td>\n",
              "      <td>3809</td>\n",
              "      <td>True</td>\n",
              "      <td>2022-11-28 16:56:16+00:00</td>\n",
              "      <td>ANOTHER ONE: More players behaving badly and a...</td>\n",
              "      <td>Twitter for iPhone</td>\n",
              "      <td>{'neg': 0.154, 'neu': 0.732, 'pos': 0.114, 'co...</td>\n",
              "      <td>0</td>\n",
              "    </tr>\n",
              "    <tr>\n",
              "      <th>91</th>\n",
              "      <td>عبدالله بن حمد العذبة</td>\n",
              "      <td>Doha, Qatar</td>\n",
              "      <td>2009-06-21 07:14:21+00:00</td>\n",
              "      <td>826225</td>\n",
              "      <td>357</td>\n",
              "      <td>True</td>\n",
              "      <td>2022-12-23 17:41:50+00:00</td>\n",
              "      <td>New mural of Lionel Messi in Buenos Aires with...</td>\n",
              "      <td>Twitter for iPhone</td>\n",
              "      <td>{'neg': 0.0, 'neu': 0.871, 'pos': 0.129, 'comp...</td>\n",
              "      <td>2</td>\n",
              "    </tr>\n",
              "    <tr>\n",
              "      <th>939</th>\n",
              "      <td>Gulf News</td>\n",
              "      <td>United Arab Emirates</td>\n",
              "      <td>2009-02-11 08:21:32+00:00</td>\n",
              "      <td>1460695</td>\n",
              "      <td>1009</td>\n",
              "      <td>True</td>\n",
              "      <td>2022-11-21 08:00:02+00:00</td>\n",
              "      <td>#FIFAWorldCup #Qatar 2022: With #BenzemaOut #G...</td>\n",
              "      <td>TweetDeck</td>\n",
              "      <td>{'neg': 0.1, 'neu': 0.836, 'pos': 0.064, 'comp...</td>\n",
              "      <td>0</td>\n",
              "    </tr>\n",
              "    <tr>\n",
              "      <th>655</th>\n",
              "      <td>Demba Ba</td>\n",
              "      <td></td>\n",
              "      <td>2009-08-09 10:36:19+00:00</td>\n",
              "      <td>1350809</td>\n",
              "      <td>3661</td>\n",
              "      <td>True</td>\n",
              "      <td>2022-12-09 22:29:34+00:00</td>\n",
              "      <td>One simple rule in the penalty shootout... YOU...</td>\n",
              "      <td>Twitter for Android</td>\n",
              "      <td>{'neg': 0.283, 'neu': 0.5, 'pos': 0.217, 'comp...</td>\n",
              "      <td>0</td>\n",
              "    </tr>\n",
              "    <tr>\n",
              "      <th>82</th>\n",
              "      <td>The Telegraph</td>\n",
              "      <td>Kolkata, India</td>\n",
              "      <td>2010-05-07 04:10:03+00:00</td>\n",
              "      <td>317799</td>\n",
              "      <td>272</td>\n",
              "      <td>True</td>\n",
              "      <td>2022-12-23 12:55:43+00:00</td>\n",
              "      <td>He was also photographed holding the World Cup...</td>\n",
              "      <td>TweetDeck</td>\n",
              "      <td>{'neg': 0.0, 'neu': 1.0, 'pos': 0.0, 'compound...</td>\n",
              "      <td>1</td>\n",
              "    </tr>\n",
              "  </tbody>\n",
              "</table>\n",
              "</div>\n",
              "      <button class=\"colab-df-convert\" onclick=\"convertToInteractive('df-21336d06-d072-4229-ae76-27714e0fcebc')\"\n",
              "              title=\"Convert this dataframe to an interactive table.\"\n",
              "              style=\"display:none;\">\n",
              "        \n",
              "  <svg xmlns=\"http://www.w3.org/2000/svg\" height=\"24px\"viewBox=\"0 0 24 24\"\n",
              "       width=\"24px\">\n",
              "    <path d=\"M0 0h24v24H0V0z\" fill=\"none\"/>\n",
              "    <path d=\"M18.56 5.44l.94 2.06.94-2.06 2.06-.94-2.06-.94-.94-2.06-.94 2.06-2.06.94zm-11 1L8.5 8.5l.94-2.06 2.06-.94-2.06-.94L8.5 2.5l-.94 2.06-2.06.94zm10 10l.94 2.06.94-2.06 2.06-.94-2.06-.94-.94-2.06-.94 2.06-2.06.94z\"/><path d=\"M17.41 7.96l-1.37-1.37c-.4-.4-.92-.59-1.43-.59-.52 0-1.04.2-1.43.59L10.3 9.45l-7.72 7.72c-.78.78-.78 2.05 0 2.83L4 21.41c.39.39.9.59 1.41.59.51 0 1.02-.2 1.41-.59l7.78-7.78 2.81-2.81c.8-.78.8-2.07 0-2.86zM5.41 20L4 18.59l7.72-7.72 1.47 1.35L5.41 20z\"/>\n",
              "  </svg>\n",
              "      </button>\n",
              "      \n",
              "  <style>\n",
              "    .colab-df-container {\n",
              "      display:flex;\n",
              "      flex-wrap:wrap;\n",
              "      gap: 12px;\n",
              "    }\n",
              "\n",
              "    .colab-df-convert {\n",
              "      background-color: #E8F0FE;\n",
              "      border: none;\n",
              "      border-radius: 50%;\n",
              "      cursor: pointer;\n",
              "      display: none;\n",
              "      fill: #1967D2;\n",
              "      height: 32px;\n",
              "      padding: 0 0 0 0;\n",
              "      width: 32px;\n",
              "    }\n",
              "\n",
              "    .colab-df-convert:hover {\n",
              "      background-color: #E2EBFA;\n",
              "      box-shadow: 0px 1px 2px rgba(60, 64, 67, 0.3), 0px 1px 3px 1px rgba(60, 64, 67, 0.15);\n",
              "      fill: #174EA6;\n",
              "    }\n",
              "\n",
              "    [theme=dark] .colab-df-convert {\n",
              "      background-color: #3B4455;\n",
              "      fill: #D2E3FC;\n",
              "    }\n",
              "\n",
              "    [theme=dark] .colab-df-convert:hover {\n",
              "      background-color: #434B5C;\n",
              "      box-shadow: 0px 1px 3px 1px rgba(0, 0, 0, 0.15);\n",
              "      filter: drop-shadow(0px 1px 2px rgba(0, 0, 0, 0.3));\n",
              "      fill: #FFFFFF;\n",
              "    }\n",
              "  </style>\n",
              "\n",
              "      <script>\n",
              "        const buttonEl =\n",
              "          document.querySelector('#df-21336d06-d072-4229-ae76-27714e0fcebc button.colab-df-convert');\n",
              "        buttonEl.style.display =\n",
              "          google.colab.kernel.accessAllowed ? 'block' : 'none';\n",
              "\n",
              "        async function convertToInteractive(key) {\n",
              "          const element = document.querySelector('#df-21336d06-d072-4229-ae76-27714e0fcebc');\n",
              "          const dataTable =\n",
              "            await google.colab.kernel.invokeFunction('convertToInteractive',\n",
              "                                                     [key], {});\n",
              "          if (!dataTable) return;\n",
              "\n",
              "          const docLinkHtml = 'Like what you see? Visit the ' +\n",
              "            '<a target=\"_blank\" href=https://colab.research.google.com/notebooks/data_table.ipynb>data table notebook</a>'\n",
              "            + ' to learn more about interactive tables.';\n",
              "          element.innerHTML = '';\n",
              "          dataTable['output_type'] = 'display_data';\n",
              "          await google.colab.output.renderOutput(dataTable, element);\n",
              "          const docLink = document.createElement('div');\n",
              "          docLink.innerHTML = docLinkHtml;\n",
              "          element.appendChild(docLink);\n",
              "        }\n",
              "      </script>\n",
              "    </div>\n",
              "  </div>\n",
              "  "
            ]
          },
          "metadata": {},
          "execution_count": 41
        }
      ]
    },
    {
      "cell_type": "code",
      "source": [
        "tweets.drop(['user_name','user_location','user_created','user_followers','user_favourites','user_verified','date','source','scores'], axis=1, inplace=True)"
      ],
      "metadata": {
        "id": "flDBMcNwf7tf"
      },
      "execution_count": 42,
      "outputs": []
    },
    {
      "cell_type": "code",
      "source": [
        "tweets['text'] = tweets['text'].astype('str')"
      ],
      "metadata": {
        "id": "Tn5latjVgtm7"
      },
      "execution_count": 43,
      "outputs": []
    },
    {
      "cell_type": "markdown",
      "source": [
        "\n",
        "Check the number of positive vs. negative tagged sentences"
      ],
      "metadata": {
        "id": "AOPqrswSg8r8"
      }
    },
    {
      "cell_type": "code",
      "source": [
        "positives = tweets['sentiment'][tweets.sentiment == 2 ]\n",
        "negatives = tweets['sentiment'][tweets.sentiment == 0 ]\n",
        "\n",
        "print('Total length of the data is:         {}'.format(tweets.shape[0]))\n",
        "print('No. of positve tagged sentences is:  {}'.format(len(positives)))\n",
        "print('No. of negative tagged sentences is: {}'.format(len(negatives)))"
      ],
      "metadata": {
        "colab": {
          "base_uri": "https://localhost:8080/"
        },
        "id": "Q4Iz7Ak7g128",
        "outputId": "93eb1460-e561-4e6f-e866-3c6f469c69b1"
      },
      "execution_count": 44,
      "outputs": [
        {
          "output_type": "stream",
          "name": "stdout",
          "text": [
            "Total length of the data is:         987\n",
            "No. of positve tagged sentences is:  462\n",
            "No. of negative tagged sentences is: 129\n"
          ]
        }
      ]
    },
    {
      "cell_type": "code",
      "source": [
        "from nltk.stem import WordNetLemmatizer\n",
        "from nltk.corpus import stopwords\n",
        "from nltk.tokenize import word_tokenize\n",
        "\n",
        "nltk.download('stopwords')\n",
        "stopword = set(stopwords.words('english'))"
      ],
      "metadata": {
        "colab": {
          "base_uri": "https://localhost:8080/"
        },
        "id": "m6EvRyCPhBYo",
        "outputId": "3adb2e8a-ac96-4459-9aa3-5d4e2ac2bbcd"
      },
      "execution_count": 45,
      "outputs": [
        {
          "output_type": "stream",
          "name": "stderr",
          "text": [
            "[nltk_data] Downloading package stopwords to /root/nltk_data...\n",
            "[nltk_data]   Package stopwords is already up-to-date!\n"
          ]
        }
      ]
    },
    {
      "cell_type": "code",
      "source": [
        "#removing shortwords\n",
        "tweets['text']=tweets['text'].apply(lambda x: \" \".join([w for w in x.split() if len(w)>3]))\n",
        "tweets.head(5)"
      ],
      "metadata": {
        "colab": {
          "base_uri": "https://localhost:8080/",
          "height": 206
        },
        "id": "Jik6EVzliI7g",
        "outputId": "6d2b8653-03ef-43c5-b6d4-9b306315f429"
      },
      "execution_count": 46,
      "outputs": [
        {
          "output_type": "execute_result",
          "data": {
            "text/plain": [
              "                                                  text  sentiment\n",
              "902  ANOTHER ONE: More players behaving badly actin...          0\n",
              "91   mural Lionel Messi Buenos Aires with Qatari Ar...          2\n",
              "939  #FIFAWorldCup #Qatar 2022: With #BenzemaOut #G...          0\n",
              "655  simple rule penalty shootout... YOUR BEST PENA...          0\n",
              "82   also photographed holding World trophy. Accord...          1"
            ],
            "text/html": [
              "\n",
              "  <div id=\"df-e87f46f5-67aa-4608-9755-6d7eada3112b\">\n",
              "    <div class=\"colab-df-container\">\n",
              "      <div>\n",
              "<style scoped>\n",
              "    .dataframe tbody tr th:only-of-type {\n",
              "        vertical-align: middle;\n",
              "    }\n",
              "\n",
              "    .dataframe tbody tr th {\n",
              "        vertical-align: top;\n",
              "    }\n",
              "\n",
              "    .dataframe thead th {\n",
              "        text-align: right;\n",
              "    }\n",
              "</style>\n",
              "<table border=\"1\" class=\"dataframe\">\n",
              "  <thead>\n",
              "    <tr style=\"text-align: right;\">\n",
              "      <th></th>\n",
              "      <th>text</th>\n",
              "      <th>sentiment</th>\n",
              "    </tr>\n",
              "  </thead>\n",
              "  <tbody>\n",
              "    <tr>\n",
              "      <th>902</th>\n",
              "      <td>ANOTHER ONE: More players behaving badly actin...</td>\n",
              "      <td>0</td>\n",
              "    </tr>\n",
              "    <tr>\n",
              "      <th>91</th>\n",
              "      <td>mural Lionel Messi Buenos Aires with Qatari Ar...</td>\n",
              "      <td>2</td>\n",
              "    </tr>\n",
              "    <tr>\n",
              "      <th>939</th>\n",
              "      <td>#FIFAWorldCup #Qatar 2022: With #BenzemaOut #G...</td>\n",
              "      <td>0</td>\n",
              "    </tr>\n",
              "    <tr>\n",
              "      <th>655</th>\n",
              "      <td>simple rule penalty shootout... YOUR BEST PENA...</td>\n",
              "      <td>0</td>\n",
              "    </tr>\n",
              "    <tr>\n",
              "      <th>82</th>\n",
              "      <td>also photographed holding World trophy. Accord...</td>\n",
              "      <td>1</td>\n",
              "    </tr>\n",
              "  </tbody>\n",
              "</table>\n",
              "</div>\n",
              "      <button class=\"colab-df-convert\" onclick=\"convertToInteractive('df-e87f46f5-67aa-4608-9755-6d7eada3112b')\"\n",
              "              title=\"Convert this dataframe to an interactive table.\"\n",
              "              style=\"display:none;\">\n",
              "        \n",
              "  <svg xmlns=\"http://www.w3.org/2000/svg\" height=\"24px\"viewBox=\"0 0 24 24\"\n",
              "       width=\"24px\">\n",
              "    <path d=\"M0 0h24v24H0V0z\" fill=\"none\"/>\n",
              "    <path d=\"M18.56 5.44l.94 2.06.94-2.06 2.06-.94-2.06-.94-.94-2.06-.94 2.06-2.06.94zm-11 1L8.5 8.5l.94-2.06 2.06-.94-2.06-.94L8.5 2.5l-.94 2.06-2.06.94zm10 10l.94 2.06.94-2.06 2.06-.94-2.06-.94-.94-2.06-.94 2.06-2.06.94z\"/><path d=\"M17.41 7.96l-1.37-1.37c-.4-.4-.92-.59-1.43-.59-.52 0-1.04.2-1.43.59L10.3 9.45l-7.72 7.72c-.78.78-.78 2.05 0 2.83L4 21.41c.39.39.9.59 1.41.59.51 0 1.02-.2 1.41-.59l7.78-7.78 2.81-2.81c.8-.78.8-2.07 0-2.86zM5.41 20L4 18.59l7.72-7.72 1.47 1.35L5.41 20z\"/>\n",
              "  </svg>\n",
              "      </button>\n",
              "      \n",
              "  <style>\n",
              "    .colab-df-container {\n",
              "      display:flex;\n",
              "      flex-wrap:wrap;\n",
              "      gap: 12px;\n",
              "    }\n",
              "\n",
              "    .colab-df-convert {\n",
              "      background-color: #E8F0FE;\n",
              "      border: none;\n",
              "      border-radius: 50%;\n",
              "      cursor: pointer;\n",
              "      display: none;\n",
              "      fill: #1967D2;\n",
              "      height: 32px;\n",
              "      padding: 0 0 0 0;\n",
              "      width: 32px;\n",
              "    }\n",
              "\n",
              "    .colab-df-convert:hover {\n",
              "      background-color: #E2EBFA;\n",
              "      box-shadow: 0px 1px 2px rgba(60, 64, 67, 0.3), 0px 1px 3px 1px rgba(60, 64, 67, 0.15);\n",
              "      fill: #174EA6;\n",
              "    }\n",
              "\n",
              "    [theme=dark] .colab-df-convert {\n",
              "      background-color: #3B4455;\n",
              "      fill: #D2E3FC;\n",
              "    }\n",
              "\n",
              "    [theme=dark] .colab-df-convert:hover {\n",
              "      background-color: #434B5C;\n",
              "      box-shadow: 0px 1px 3px 1px rgba(0, 0, 0, 0.15);\n",
              "      filter: drop-shadow(0px 1px 2px rgba(0, 0, 0, 0.3));\n",
              "      fill: #FFFFFF;\n",
              "    }\n",
              "  </style>\n",
              "\n",
              "      <script>\n",
              "        const buttonEl =\n",
              "          document.querySelector('#df-e87f46f5-67aa-4608-9755-6d7eada3112b button.colab-df-convert');\n",
              "        buttonEl.style.display =\n",
              "          google.colab.kernel.accessAllowed ? 'block' : 'none';\n",
              "\n",
              "        async function convertToInteractive(key) {\n",
              "          const element = document.querySelector('#df-e87f46f5-67aa-4608-9755-6d7eada3112b');\n",
              "          const dataTable =\n",
              "            await google.colab.kernel.invokeFunction('convertToInteractive',\n",
              "                                                     [key], {});\n",
              "          if (!dataTable) return;\n",
              "\n",
              "          const docLinkHtml = 'Like what you see? Visit the ' +\n",
              "            '<a target=\"_blank\" href=https://colab.research.google.com/notebooks/data_table.ipynb>data table notebook</a>'\n",
              "            + ' to learn more about interactive tables.';\n",
              "          element.innerHTML = '';\n",
              "          dataTable['output_type'] = 'display_data';\n",
              "          await google.colab.output.renderOutput(dataTable, element);\n",
              "          const docLink = document.createElement('div');\n",
              "          docLink.innerHTML = docLinkHtml;\n",
              "          element.appendChild(docLink);\n",
              "        }\n",
              "      </script>\n",
              "    </div>\n",
              "  </div>\n",
              "  "
            ]
          },
          "metadata": {},
          "execution_count": 46
        }
      ]
    },
    {
      "cell_type": "code",
      "source": [
        "from sklearn.utils import shuffle\n",
        "tweets =  shuffle(tweets).reset_index(drop=True)"
      ],
      "metadata": {
        "id": "ZGlARmUJiPfg"
      },
      "execution_count": 47,
      "outputs": []
    },
    {
      "cell_type": "code",
      "source": [
        "tokenized_tweet=tweets['text'].apply(lambda x: x.split())\n",
        "tokenized_tweet.head(5)"
      ],
      "metadata": {
        "colab": {
          "base_uri": "https://localhost:8080/"
        },
        "id": "pscnZyR4iRdO",
        "outputId": "404bb17c-fb10-4deb-f366-99cabe04a619"
      },
      "execution_count": 48,
      "outputs": [
        {
          "output_type": "execute_result",
          "data": {
            "text/plain": [
              "0    [𝑳𝒊𝒐𝒏𝒆𝒍, 𝑴𝒆𝒔𝒔𝒊, 1⃣0⃣0⃣0⃣, 7⃣8⃣9⃣, #UCL, #TeamP...\n",
              "1    [#BreakingNews, Argentina, beat, Croatia, reac...\n",
              "2    [front, more, than, 5,400, friends, colleagues...\n",
              "3    [Qatar, Worldcup, 2022:, Match, results, today...\n",
              "4    [France, Morocco, #AtlasLions's, Ounahi, letha...\n",
              "Name: text, dtype: object"
            ]
          },
          "metadata": {},
          "execution_count": 48
        }
      ]
    },
    {
      "cell_type": "code",
      "source": [
        "from sklearn.feature_extraction.text import CountVectorizer\n",
        "from nltk.tokenize import RegexpTokenizer\n",
        "token = RegexpTokenizer(r'[a-zA-Z0-9]+')\n",
        "cv = CountVectorizer(stop_words='english',ngram_range = (1,1),tokenizer = token.tokenize)\n",
        "text_counts = cv.fit_transform(tweets['text'].values.astype('U'))"
      ],
      "metadata": {
        "id": "sUXa1WG2iVt6",
        "colab": {
          "base_uri": "https://localhost:8080/"
        },
        "outputId": "e7dc847d-fadd-4285-e4e9-ac70d72e2fd0"
      },
      "execution_count": 49,
      "outputs": [
        {
          "output_type": "stream",
          "name": "stderr",
          "text": [
            "/usr/local/lib/python3.10/dist-packages/sklearn/feature_extraction/text.py:528: UserWarning: The parameter 'token_pattern' will not be used since 'tokenizer' is not None'\n",
            "  warnings.warn(\n"
          ]
        }
      ]
    },
    {
      "cell_type": "markdown",
      "source": [
        "\n",
        "Train/Test Split¶\n"
      ],
      "metadata": {
        "id": "_QN6lbFyiesu"
      }
    },
    {
      "cell_type": "code",
      "source": [
        "from sklearn.model_selection import train_test_split\n",
        "X=text_counts\n",
        "y=tweets['sentiment']\n",
        "X_train, X_test, y_train, y_test = train_test_split(X, y, test_size=0.20,random_state=19)"
      ],
      "metadata": {
        "id": "KGDOFvFxicYV"
      },
      "execution_count": 50,
      "outputs": []
    },
    {
      "cell_type": "markdown",
      "source": [
        "\n",
        "Naive Bayes"
      ],
      "metadata": {
        "id": "C9AnPUFCifl7"
      }
    },
    {
      "cell_type": "code",
      "source": [
        "from sklearn.naive_bayes import ComplementNB\n",
        "from sklearn.model_selection import GridSearchCV\n",
        "from sklearn.model_selection import cross_val_score\n",
        "from sklearn import metrics\n",
        "from math import *\n",
        "cnb = ComplementNB()\n",
        "cnb.fit(X_train, y_train)\n",
        "cross_cnb = cross_val_score(cnb, X, y,n_jobs = -1)\n",
        "print(\"Cross Validation score = \",cross_cnb)                \n",
        "print (\"Train accuracy ={:.2f}%\".format(cnb.score(X_train,y_train)*100))\n",
        "print (\"Test accuracy ={:.2f}%\".format(cnb.score(X_test,y_test)*100))\n",
        "train_acc_cnb=cnb.score(X_train,y_train)\n",
        "test_acc_cnb=cnb.score(X_test,y_test)"
      ],
      "metadata": {
        "colab": {
          "base_uri": "https://localhost:8080/"
        },
        "id": "CEIPCavlig_8",
        "outputId": "840e6c37-ac92-40b8-dc73-792abecf6340"
      },
      "execution_count": 51,
      "outputs": [
        {
          "output_type": "stream",
          "name": "stdout",
          "text": [
            "Cross Validation score =  [0.57575758 0.63131313 0.62436548 0.5786802  0.5786802 ]\n",
            "Train accuracy =94.55%\n",
            "Test accuracy =58.59%\n"
          ]
        }
      ]
    },
    {
      "cell_type": "code",
      "source": [
        "#plotting the best parameters\n",
        "import matplotlib.patches as mpatches\n",
        "import numpy as np\n",
        "import pandas as pd\n",
        "from pandas import Series, DataFrame\n",
        "import matplotlib.pyplot as plt\n",
        "data_cnb = [train_acc_cnb,test_acc_cnb]\n",
        "labels = ['Train Accuracy','Test Accuracy']\n",
        "plt.xticks(range(len(data_cnb)), labels)\n",
        "plt.ylabel('Accuracy')\n",
        "plt.title('Accuracy plot with best parameters')\n",
        "plt.bar(range(len(data_cnb)), data_cnb,color=['blue','darkorange']) \n",
        "Train_acc = mpatches.Patch(color='blue', label='Train_acc')\n",
        "Test_acc = mpatches.Patch(color='darkorange', label='Test_acc')\n",
        "plt.legend(handles=[Train_acc, Test_acc],loc='best')\n",
        "plt.gcf().set_size_inches(8, 8)\n",
        "plt.show()"
      ],
      "metadata": {
        "colab": {
          "base_uri": "https://localhost:8080/",
          "height": 699
        },
        "id": "A1ID-o4Iipt_",
        "outputId": "fe186265-534b-437f-9344-a0e18136d30c"
      },
      "execution_count": 52,
      "outputs": [
        {
          "output_type": "display_data",
          "data": {
            "text/plain": [
              "<Figure size 800x800 with 1 Axes>"
            ],
            "image/png": "[encoded data removed]"
          },
          "metadata": {}
        }
      ]
    },
    {
      "cell_type": "markdown",
      "source": [
        "\n",
        "Confusion Matrix"
      ],
      "metadata": {
        "id": "W4MrwWSUitz9"
      }
    },
    {
      "cell_type": "code",
      "source": [
        "from sklearn.metrics import *\n",
        "#Predict test data set\n",
        "y_pred_cnb =cnb.predict(X_test)\n",
        "\n",
        "#This is the confusion matrix :\n",
        "from sklearn.metrics import confusion_matrix\n",
        "print(confusion_matrix(y_test,y_pred_cnb))"
      ],
      "metadata": {
        "colab": {
          "base_uri": "https://localhost:8080/"
        },
        "id": "Ojq0Kgc_iuaf",
        "outputId": "d38ea9fa-2c00-4c87-d971-58d2022656d0"
      },
      "execution_count": 53,
      "outputs": [
        {
          "output_type": "stream",
          "name": "stdout",
          "text": [
            "[[14  6  6]\n",
            " [11 38 22]\n",
            " [22 15 64]]\n"
          ]
        }
      ]
    },
    {
      "cell_type": "code",
      "source": [
        "#Checking performance our model with classification report\n",
        "print(classification_report(y_test, y_pred_cnb))"
      ],
      "metadata": {
        "colab": {
          "base_uri": "https://localhost:8080/"
        },
        "id": "wAy-325kiz5b",
        "outputId": "99e69bad-bd71-414e-ec14-d6c3d353d8f4"
      },
      "execution_count": 54,
      "outputs": [
        {
          "output_type": "stream",
          "name": "stdout",
          "text": [
            "              precision    recall  f1-score   support\n",
            "\n",
            "           0       0.30      0.54      0.38        26\n",
            "           1       0.64      0.54      0.58        71\n",
            "           2       0.70      0.63      0.66       101\n",
            "\n",
            "    accuracy                           0.59       198\n",
            "   macro avg       0.55      0.57      0.54       198\n",
            "weighted avg       0.62      0.59      0.60       198\n",
            "\n"
          ]
        }
      ]
    },
    {
      "cell_type": "markdown",
      "source": [
        "\n",
        "Calculating F1, prescision and recall scores"
      ],
      "metadata": {
        "id": "upDfNL4IjUxP"
      }
    },
    {
      "cell_type": "code",
      "source": [
        "from sklearn.metrics import *\n",
        "\n",
        "print(\"F1 score ={:.2f}%\".format(f1_score(y_test, y_pred_cnb, average=\"macro\")*100))\n",
        "f1_cnb=f1_score(y_test, y_pred_cnb, average=\"macro\")\n",
        "print(\"Precision score ={:.2f}%\".format(precision_score(y_test, y_pred_cnb, average=\"macro\")*100))\n",
        "precision_cnb=precision_score(y_test, y_pred_cnb, average=\"macro\")\n",
        "print(\"Recall score ={:.2f}%\".format(recall_score(y_test, y_pred_cnb, average=\"macro\")*100))  \n",
        "recall_cnb=recall_score(y_test, y_pred_cnb, average=\"macro\")"
      ],
      "metadata": {
        "colab": {
          "base_uri": "https://localhost:8080/"
        },
        "id": "ehHvPQqKjVSS",
        "outputId": "54ca5842-e27f-4abf-9e73-7213030b58ea"
      },
      "execution_count": 55,
      "outputs": [
        {
          "output_type": "stream",
          "name": "stdout",
          "text": [
            "F1 score =54.38%\n",
            "Precision score =54.59%\n",
            "Recall score =56.91%\n"
          ]
        }
      ]
    }
  ]
}