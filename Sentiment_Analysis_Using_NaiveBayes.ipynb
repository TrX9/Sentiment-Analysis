{
  "nbformat": 4,
  "nbformat_minor": 0,
  "metadata": {
    "colab": {
      "provenance": []
    },
    "kernelspec": {
      "name": "python3",
      "display_name": "Python 3"
    },
    "language_info": {
      "name": "python"
    }
  },
  "cells": [
    {
      "cell_type": "code",
      "source": [
        "import pandas as pd\n",
        "import numpy as np\n",
        "import matplotlib as nlp\n",
        "import re\n",
        "import nltk"
      ],
      "metadata": {
        "id": "YLP2w9hRdu-g"
      },
      "execution_count": 133,
      "outputs": []
    },
    {
      "cell_type": "code",
      "source": [
        "#read file\n",
        "tweets  = pd.read_csv(\"/content/drive/MyDrive/tweets/World Cup 2022 Tweets.csv\")\n",
        "#display the first tweets\n",
        "tweets.head()"
      ],
      "metadata": {
        "colab": {
          "base_uri": "https://localhost:8080/",
          "height": 206
        },
        "id": "Co0Z3l-1Orji",
        "outputId": "816a8dc6-8730-4651-9c27-7cfb89c6cba0"
      },
      "execution_count": 106,
      "outputs": [
        {
          "output_type": "execute_result",
          "data": {
            "text/plain": [
              "               user_name          user_location               user_created  \\\n",
              "0          Craig Forrest                    NaN  2011-01-14 19:09:55+00:00   \n",
              "1       Hosayni Official                    NaN  2022-06-22 23:22:12+00:00   \n",
              "2  ꧁Jineesh Janardhanan꧂  Harippad (Alappuzha )  2019-08-25 10:32:09+00:00   \n",
              "3                   iLOT                    NaN  2021-07-15 03:20:39+00:00   \n",
              "4         Chanda Dalmiya         Kolkata, India  2020-03-07 10:50:09+00:00   \n",
              "\n",
              "   user_followers user_favourites user_verified                       date  \\\n",
              "0         20346.0           18790          TRUE  2023-01-18 15:49:26+00:00   \n",
              "1             7.0              93         FALSE  2023-01-18 15:33:42+00:00   \n",
              "2          2414.0           15326         FALSE  2023-01-18 14:18:42+00:00   \n",
              "3          3201.0             421         FALSE  2023-01-18 13:46:52+00:00   \n",
              "4           397.0           13600         FALSE  2023-01-18 13:46:34+00:00   \n",
              "\n",
              "                                                text               source  \n",
              "0  Thanks Oso for sharing your experience at the ...   Twitter for iPhone  \n",
              "1  1 month ago at #QatarWorldCup2022 #Davido 001 ...  Twitter for Android  \n",
              "2  It's been exactly a month 🏆\\n#Argentina #Qatar...  Twitter for Android  \n",
              "3  Exactly one month 🏆\\n#QatarWorldCup2022 https:...            TweetDeck  \n",
              "4  @a23_fantasy Answer :- D) 6 Times\\n\\n#ContestA...  Twitter for Android  "
            ],
            "text/html": [
              "\n",
              "  <div id=\"df-bf5eea80-519c-4f92-a163-326060373e91\">\n",
              "    <div class=\"colab-df-container\">\n",
              "      <div>\n",
              "<style scoped>\n",
              "    .dataframe tbody tr th:only-of-type {\n",
              "        vertical-align: middle;\n",
              "    }\n",
              "\n",
              "    .dataframe tbody tr th {\n",
              "        vertical-align: top;\n",
              "    }\n",
              "\n",
              "    .dataframe thead th {\n",
              "        text-align: right;\n",
              "    }\n",
              "</style>\n",
              "<table border=\"1\" class=\"dataframe\">\n",
              "  <thead>\n",
              "    <tr style=\"text-align: right;\">\n",
              "      <th></th>\n",
              "      <th>user_name</th>\n",
              "      <th>user_location</th>\n",
              "      <th>user_created</th>\n",
              "      <th>user_followers</th>\n",
              "      <th>user_favourites</th>\n",
              "      <th>user_verified</th>\n",
              "      <th>date</th>\n",
              "      <th>text</th>\n",
              "      <th>source</th>\n",
              "    </tr>\n",
              "  </thead>\n",
              "  <tbody>\n",
              "    <tr>\n",
              "      <th>0</th>\n",
              "      <td>Craig Forrest</td>\n",
              "      <td>NaN</td>\n",
              "      <td>2011-01-14 19:09:55+00:00</td>\n",
              "      <td>20346.0</td>\n",
              "      <td>18790</td>\n",
              "      <td>TRUE</td>\n",
              "      <td>2023-01-18 15:49:26+00:00</td>\n",
              "      <td>Thanks Oso for sharing your experience at the ...</td>\n",
              "      <td>Twitter for iPhone</td>\n",
              "    </tr>\n",
              "    <tr>\n",
              "      <th>1</th>\n",
              "      <td>Hosayni Official</td>\n",
              "      <td>NaN</td>\n",
              "      <td>2022-06-22 23:22:12+00:00</td>\n",
              "      <td>7.0</td>\n",
              "      <td>93</td>\n",
              "      <td>FALSE</td>\n",
              "      <td>2023-01-18 15:33:42+00:00</td>\n",
              "      <td>1 month ago at #QatarWorldCup2022 #Davido 001 ...</td>\n",
              "      <td>Twitter for Android</td>\n",
              "    </tr>\n",
              "    <tr>\n",
              "      <th>2</th>\n",
              "      <td>꧁Jineesh Janardhanan꧂</td>\n",
              "      <td>Harippad (Alappuzha )</td>\n",
              "      <td>2019-08-25 10:32:09+00:00</td>\n",
              "      <td>2414.0</td>\n",
              "      <td>15326</td>\n",
              "      <td>FALSE</td>\n",
              "      <td>2023-01-18 14:18:42+00:00</td>\n",
              "      <td>It's been exactly a month 🏆\\n#Argentina #Qatar...</td>\n",
              "      <td>Twitter for Android</td>\n",
              "    </tr>\n",
              "    <tr>\n",
              "      <th>3</th>\n",
              "      <td>iLOT</td>\n",
              "      <td>NaN</td>\n",
              "      <td>2021-07-15 03:20:39+00:00</td>\n",
              "      <td>3201.0</td>\n",
              "      <td>421</td>\n",
              "      <td>FALSE</td>\n",
              "      <td>2023-01-18 13:46:52+00:00</td>\n",
              "      <td>Exactly one month 🏆\\n#QatarWorldCup2022 https:...</td>\n",
              "      <td>TweetDeck</td>\n",
              "    </tr>\n",
              "    <tr>\n",
              "      <th>4</th>\n",
              "      <td>Chanda Dalmiya</td>\n",
              "      <td>Kolkata, India</td>\n",
              "      <td>2020-03-07 10:50:09+00:00</td>\n",
              "      <td>397.0</td>\n",
              "      <td>13600</td>\n",
              "      <td>FALSE</td>\n",
              "      <td>2023-01-18 13:46:34+00:00</td>\n",
              "      <td>@a23_fantasy Answer :- D) 6 Times\\n\\n#ContestA...</td>\n",
              "      <td>Twitter for Android</td>\n",
              "    </tr>\n",
              "  </tbody>\n",
              "</table>\n",
              "</div>\n",
              "      <button class=\"colab-df-convert\" onclick=\"convertToInteractive('df-bf5eea80-519c-4f92-a163-326060373e91')\"\n",
              "              title=\"Convert this dataframe to an interactive table.\"\n",
              "              style=\"display:none;\">\n",
              "        \n",
              "  <svg xmlns=\"http://www.w3.org/2000/svg\" height=\"24px\"viewBox=\"0 0 24 24\"\n",
              "       width=\"24px\">\n",
              "    <path d=\"M0 0h24v24H0V0z\" fill=\"none\"/>\n",
              "    <path d=\"M18.56 5.44l.94 2.06.94-2.06 2.06-.94-2.06-.94-.94-2.06-.94 2.06-2.06.94zm-11 1L8.5 8.5l.94-2.06 2.06-.94-2.06-.94L8.5 2.5l-.94 2.06-2.06.94zm10 10l.94 2.06.94-2.06 2.06-.94-2.06-.94-.94-2.06-.94 2.06-2.06.94z\"/><path d=\"M17.41 7.96l-1.37-1.37c-.4-.4-.92-.59-1.43-.59-.52 0-1.04.2-1.43.59L10.3 9.45l-7.72 7.72c-.78.78-.78 2.05 0 2.83L4 21.41c.39.39.9.59 1.41.59.51 0 1.02-.2 1.41-.59l7.78-7.78 2.81-2.81c.8-.78.8-2.07 0-2.86zM5.41 20L4 18.59l7.72-7.72 1.47 1.35L5.41 20z\"/>\n",
              "  </svg>\n",
              "      </button>\n",
              "      \n",
              "  <style>\n",
              "    .colab-df-container {\n",
              "      display:flex;\n",
              "      flex-wrap:wrap;\n",
              "      gap: 12px;\n",
              "    }\n",
              "\n",
              "    .colab-df-convert {\n",
              "      background-color: #E8F0FE;\n",
              "      border: none;\n",
              "      border-radius: 50%;\n",
              "      cursor: pointer;\n",
              "      display: none;\n",
              "      fill: #1967D2;\n",
              "      height: 32px;\n",
              "      padding: 0 0 0 0;\n",
              "      width: 32px;\n",
              "    }\n",
              "\n",
              "    .colab-df-convert:hover {\n",
              "      background-color: #E2EBFA;\n",
              "      box-shadow: 0px 1px 2px rgba(60, 64, 67, 0.3), 0px 1px 3px 1px rgba(60, 64, 67, 0.15);\n",
              "      fill: #174EA6;\n",
              "    }\n",
              "\n",
              "    [theme=dark] .colab-df-convert {\n",
              "      background-color: #3B4455;\n",
              "      fill: #D2E3FC;\n",
              "    }\n",
              "\n",
              "    [theme=dark] .colab-df-convert:hover {\n",
              "      background-color: #434B5C;\n",
              "      box-shadow: 0px 1px 3px 1px rgba(0, 0, 0, 0.15);\n",
              "      filter: drop-shadow(0px 1px 2px rgba(0, 0, 0, 0.3));\n",
              "      fill: #FFFFFF;\n",
              "    }\n",
              "  </style>\n",
              "\n",
              "      <script>\n",
              "        const buttonEl =\n",
              "          document.querySelector('#df-bf5eea80-519c-4f92-a163-326060373e91 button.colab-df-convert');\n",
              "        buttonEl.style.display =\n",
              "          google.colab.kernel.accessAllowed ? 'block' : 'none';\n",
              "\n",
              "        async function convertToInteractive(key) {\n",
              "          const element = document.querySelector('#df-bf5eea80-519c-4f92-a163-326060373e91');\n",
              "          const dataTable =\n",
              "            await google.colab.kernel.invokeFunction('convertToInteractive',\n",
              "                                                     [key], {});\n",
              "          if (!dataTable) return;\n",
              "\n",
              "          const docLinkHtml = 'Like what you see? Visit the ' +\n",
              "            '<a target=\"_blank\" href=https://colab.research.google.com/notebooks/data_table.ipynb>data table notebook</a>'\n",
              "            + ' to learn more about interactive tables.';\n",
              "          element.innerHTML = '';\n",
              "          dataTable['output_type'] = 'display_data';\n",
              "          await google.colab.output.renderOutput(dataTable, element);\n",
              "          const docLink = document.createElement('div');\n",
              "          docLink.innerHTML = docLinkHtml;\n",
              "          element.appendChild(docLink);\n",
              "        }\n",
              "      </script>\n",
              "    </div>\n",
              "  </div>\n",
              "  "
            ]
          },
          "metadata": {},
          "execution_count": 106
        }
      ]
    },
    {
      "cell_type": "markdown",
      "source": [
        "clearing duplicates"
      ],
      "metadata": {
        "id": "UROuVHCXPcv6"
      }
    },
    {
      "cell_type": "code",
      "source": [
        "tweets.drop_duplicates(subset='text',inplace=True)\n",
        "tweets.info()"
      ],
      "metadata": {
        "colab": {
          "base_uri": "https://localhost:8080/"
        },
        "id": "Nah2kZ6JPUyi",
        "outputId": "9f4dca15-1a11-4048-cbe1-a801ac522805"
      },
      "execution_count": 107,
      "outputs": [
        {
          "output_type": "stream",
          "name": "stdout",
          "text": [
            "<class 'pandas.core.frame.DataFrame'>\n",
            "Int64Index: 119970 entries, 0 to 124677\n",
            "Data columns (total 9 columns):\n",
            " #   Column           Non-Null Count   Dtype  \n",
            "---  ------           --------------   -----  \n",
            " 0   user_name        119970 non-null  object \n",
            " 1   user_location    75907 non-null   object \n",
            " 2   user_created     119969 non-null  object \n",
            " 3   user_followers   119969 non-null  float64\n",
            " 4   user_favourites  119969 non-null  object \n",
            " 5   user_verified    119969 non-null  object \n",
            " 6   date             119969 non-null  object \n",
            " 7   text             119969 non-null  object \n",
            " 8   source           119966 non-null  object \n",
            "dtypes: float64(1), object(8)\n",
            "memory usage: 9.2+ MB\n"
          ]
        }
      ]
    },
    {
      "cell_type": "markdown",
      "source": [
        "deep cleaning"
      ],
      "metadata": {
        "id": "V1Nl8CytPttn"
      }
    },
    {
      "cell_type": "code",
      "source": [
        "#replace all NaN values wit an empty string\n",
        "tweets = tweets.replace(np.nan, '')\n",
        "tweets.shape\n",
        "# function for twitter text cleaning\n",
        "def tweet_cleaner(text):\n",
        "    #remove RT\n",
        "    text = re.sub(\"RT @[\\w]*:\",\"\",text)\n",
        "    #remove twitter handles (@user)\n",
        "    text = re.sub(\"(@[A-Za-z0-9_]+)\",\"\", text)\n",
        "    #remove url links\n",
        "    text = re.sub(\"https?://[A-Za-z0-9./]*\",\"\",text)\n",
        "    # remove whitespaces\n",
        "    text = ' '.join(text.split())\n",
        "    return text\n",
        "#Apply text cleaning function to text column in tweets dataframe\n",
        "tweets['text'] = tweets['text'].apply(lambda x:tweet_cleaner(x))\n",
        "tweets.shape"
      ],
      "metadata": {
        "colab": {
          "base_uri": "https://localhost:8080/"
        },
        "id": "SeSRn7TJP1Eb",
        "outputId": "b3cc2b75-185a-454a-c441-759ef05ef7ff"
      },
      "execution_count": 108,
      "outputs": [
        {
          "output_type": "execute_result",
          "data": {
            "text/plain": [
              "(119970, 9)"
            ]
          },
          "metadata": {},
          "execution_count": 108
        }
      ]
    },
    {
      "cell_type": "code",
      "source": [
        "tweets = tweets.sample(frac=1)\n",
        "tweets = tweets[:200000]\n",
        "print(\"Dataset shape:\", tweets.shape)"
      ],
      "metadata": {
        "colab": {
          "base_uri": "https://localhost:8080/"
        },
        "id": "ud3ZpKF0eR31",
        "outputId": "42af89bf-7c59-44e4-af3f-6543af178338"
      },
      "execution_count": 109,
      "outputs": [
        {
          "output_type": "stream",
          "name": "stdout",
          "text": [
            "Dataset shape: (119970, 9)\n"
          ]
        }
      ]
    },
    {
      "cell_type": "code",
      "source": [
        "#downloading the vader lexicon from nltk\n",
        "!pip install vaderSentiment\n",
        "!pip install twython\n",
        "nltk.download('vader_lexicon')#importing sentimentintensityanaylzer\n",
        "from nltk.sentiment.vader import SentimentIntensityAnalyzer\n",
        "sid = SentimentIntensityAnalyzer()"
      ],
      "metadata": {
        "id": "Eh-75iU6edVQ"
      },
      "execution_count": null,
      "outputs": []
    },
    {
      "cell_type": "code",
      "source": [
        "tweets['scores'] = tweets['text'].apply(lambda text: sid.polarity_scores(text))\n",
        "tweets.head(5)"
      ],
      "metadata": {
        "colab": {
          "base_uri": "https://localhost:8080/",
          "height": 337
        },
        "id": "YYjKXS7Bef0W",
        "outputId": "da912f8a-7c71-4863-fc1e-6403e03805fa"
      },
      "execution_count": 113,
      "outputs": [
        {
          "output_type": "execute_result",
          "data": {
            "text/plain": [
              "                  user_name     user_location               user_created  \\\n",
              "74950   Dwaipayan Mukherjee  New Delhi, India  2014-07-22 13:46:48+00:00   \n",
              "119609         ChrisMaguire        North West  2012-01-02 19:21:37+00:00   \n",
              "113122              Roselin             India  2019-10-14 11:37:28+00:00   \n",
              "42582      Hashim Habibzada     Washington DC  2012-04-03 21:12:07+00:00   \n",
              "66928              war news     United States  2022-11-12 22:59:25+00:00   \n",
              "\n",
              "       user_followers user_favourites user_verified  \\\n",
              "74950           158.0            5588         FALSE   \n",
              "119609         8733.0           28328         FALSE   \n",
              "113122          148.0               0         FALSE   \n",
              "42582           572.0             128          TRUE   \n",
              "66928            28.0               3         FALSE   \n",
              "\n",
              "                             date  \\\n",
              "74950   2022-12-06 17:59:50+00:00   \n",
              "119609  2022-11-20 18:46:40+00:00   \n",
              "113122  2022-11-22 11:12:16+00:00   \n",
              "42582   2022-12-14 21:50:09+00:00   \n",
              "66928   2022-12-09 11:57:48+00:00   \n",
              "\n",
              "                                                     text  \\\n",
              "74950   Football grows because of games like this ✨ #Q...   \n",
              "119609  In my humble opinion you’re taking rubbish. Th...   \n",
              "113122  ⚽ Watch Qatar FIFA World Cup 2022 Argentina-vs...   \n",
              "42582   #Morocco played well in #FOOTBALLWORLDCUP #Qat...   \n",
              "66928   Ukraine War: Inside the battle for Bakhmut ##r...   \n",
              "\n",
              "                     source                                             scores  \n",
              "74950    Twitter for iPhone  {'neg': 0.0, 'neu': 0.737, 'pos': 0.263, 'comp...  \n",
              "119609   Twitter for iPhone  {'neg': 0.081, 'neu': 0.858, 'pos': 0.061, 'co...  \n",
              "113122      Twitter Web App  {'neg': 0.0, 'neu': 1.0, 'pos': 0.0, 'compound...  \n",
              "42582       Twitter Web App  {'neg': 0.0, 'neu': 0.523, 'pos': 0.477, 'comp...  \n",
              "66928   Twitter for Android  {'neg': 0.394, 'neu': 0.606, 'pos': 0.0, 'comp...  "
            ],
            "text/html": [
              "\n",
              "  <div id=\"df-1a2a9e0d-fac8-40f9-9990-88e20fc4dbc2\">\n",
              "    <div class=\"colab-df-container\">\n",
              "      <div>\n",
              "<style scoped>\n",
              "    .dataframe tbody tr th:only-of-type {\n",
              "        vertical-align: middle;\n",
              "    }\n",
              "\n",
              "    .dataframe tbody tr th {\n",
              "        vertical-align: top;\n",
              "    }\n",
              "\n",
              "    .dataframe thead th {\n",
              "        text-align: right;\n",
              "    }\n",
              "</style>\n",
              "<table border=\"1\" class=\"dataframe\">\n",
              "  <thead>\n",
              "    <tr style=\"text-align: right;\">\n",
              "      <th></th>\n",
              "      <th>user_name</th>\n",
              "      <th>user_location</th>\n",
              "      <th>user_created</th>\n",
              "      <th>user_followers</th>\n",
              "      <th>user_favourites</th>\n",
              "      <th>user_verified</th>\n",
              "      <th>date</th>\n",
              "      <th>text</th>\n",
              "      <th>source</th>\n",
              "      <th>scores</th>\n",
              "    </tr>\n",
              "  </thead>\n",
              "  <tbody>\n",
              "    <tr>\n",
              "      <th>74950</th>\n",
              "      <td>Dwaipayan Mukherjee</td>\n",
              "      <td>New Delhi, India</td>\n",
              "      <td>2014-07-22 13:46:48+00:00</td>\n",
              "      <td>158.0</td>\n",
              "      <td>5588</td>\n",
              "      <td>FALSE</td>\n",
              "      <td>2022-12-06 17:59:50+00:00</td>\n",
              "      <td>Football grows because of games like this ✨ #Q...</td>\n",
              "      <td>Twitter for iPhone</td>\n",
              "      <td>{'neg': 0.0, 'neu': 0.737, 'pos': 0.263, 'comp...</td>\n",
              "    </tr>\n",
              "    <tr>\n",
              "      <th>119609</th>\n",
              "      <td>ChrisMaguire</td>\n",
              "      <td>North West</td>\n",
              "      <td>2012-01-02 19:21:37+00:00</td>\n",
              "      <td>8733.0</td>\n",
              "      <td>28328</td>\n",
              "      <td>FALSE</td>\n",
              "      <td>2022-11-20 18:46:40+00:00</td>\n",
              "      <td>In my humble opinion you’re taking rubbish. Th...</td>\n",
              "      <td>Twitter for iPhone</td>\n",
              "      <td>{'neg': 0.081, 'neu': 0.858, 'pos': 0.061, 'co...</td>\n",
              "    </tr>\n",
              "    <tr>\n",
              "      <th>113122</th>\n",
              "      <td>Roselin</td>\n",
              "      <td>India</td>\n",
              "      <td>2019-10-14 11:37:28+00:00</td>\n",
              "      <td>148.0</td>\n",
              "      <td>0</td>\n",
              "      <td>FALSE</td>\n",
              "      <td>2022-11-22 11:12:16+00:00</td>\n",
              "      <td>⚽ Watch Qatar FIFA World Cup 2022 Argentina-vs...</td>\n",
              "      <td>Twitter Web App</td>\n",
              "      <td>{'neg': 0.0, 'neu': 1.0, 'pos': 0.0, 'compound...</td>\n",
              "    </tr>\n",
              "    <tr>\n",
              "      <th>42582</th>\n",
              "      <td>Hashim Habibzada</td>\n",
              "      <td>Washington DC</td>\n",
              "      <td>2012-04-03 21:12:07+00:00</td>\n",
              "      <td>572.0</td>\n",
              "      <td>128</td>\n",
              "      <td>TRUE</td>\n",
              "      <td>2022-12-14 21:50:09+00:00</td>\n",
              "      <td>#Morocco played well in #FOOTBALLWORLDCUP #Qat...</td>\n",
              "      <td>Twitter Web App</td>\n",
              "      <td>{'neg': 0.0, 'neu': 0.523, 'pos': 0.477, 'comp...</td>\n",
              "    </tr>\n",
              "    <tr>\n",
              "      <th>66928</th>\n",
              "      <td>war news</td>\n",
              "      <td>United States</td>\n",
              "      <td>2022-11-12 22:59:25+00:00</td>\n",
              "      <td>28.0</td>\n",
              "      <td>3</td>\n",
              "      <td>FALSE</td>\n",
              "      <td>2022-12-09 11:57:48+00:00</td>\n",
              "      <td>Ukraine War: Inside the battle for Bakhmut ##r...</td>\n",
              "      <td>Twitter for Android</td>\n",
              "      <td>{'neg': 0.394, 'neu': 0.606, 'pos': 0.0, 'comp...</td>\n",
              "    </tr>\n",
              "  </tbody>\n",
              "</table>\n",
              "</div>\n",
              "      <button class=\"colab-df-convert\" onclick=\"convertToInteractive('df-1a2a9e0d-fac8-40f9-9990-88e20fc4dbc2')\"\n",
              "              title=\"Convert this dataframe to an interactive table.\"\n",
              "              style=\"display:none;\">\n",
              "        \n",
              "  <svg xmlns=\"http://www.w3.org/2000/svg\" height=\"24px\"viewBox=\"0 0 24 24\"\n",
              "       width=\"24px\">\n",
              "    <path d=\"M0 0h24v24H0V0z\" fill=\"none\"/>\n",
              "    <path d=\"M18.56 5.44l.94 2.06.94-2.06 2.06-.94-2.06-.94-.94-2.06-.94 2.06-2.06.94zm-11 1L8.5 8.5l.94-2.06 2.06-.94-2.06-.94L8.5 2.5l-.94 2.06-2.06.94zm10 10l.94 2.06.94-2.06 2.06-.94-2.06-.94-.94-2.06-.94 2.06-2.06.94z\"/><path d=\"M17.41 7.96l-1.37-1.37c-.4-.4-.92-.59-1.43-.59-.52 0-1.04.2-1.43.59L10.3 9.45l-7.72 7.72c-.78.78-.78 2.05 0 2.83L4 21.41c.39.39.9.59 1.41.59.51 0 1.02-.2 1.41-.59l7.78-7.78 2.81-2.81c.8-.78.8-2.07 0-2.86zM5.41 20L4 18.59l7.72-7.72 1.47 1.35L5.41 20z\"/>\n",
              "  </svg>\n",
              "      </button>\n",
              "      \n",
              "  <style>\n",
              "    .colab-df-container {\n",
              "      display:flex;\n",
              "      flex-wrap:wrap;\n",
              "      gap: 12px;\n",
              "    }\n",
              "\n",
              "    .colab-df-convert {\n",
              "      background-color: #E8F0FE;\n",
              "      border: none;\n",
              "      border-radius: 50%;\n",
              "      cursor: pointer;\n",
              "      display: none;\n",
              "      fill: #1967D2;\n",
              "      height: 32px;\n",
              "      padding: 0 0 0 0;\n",
              "      width: 32px;\n",
              "    }\n",
              "\n",
              "    .colab-df-convert:hover {\n",
              "      background-color: #E2EBFA;\n",
              "      box-shadow: 0px 1px 2px rgba(60, 64, 67, 0.3), 0px 1px 3px 1px rgba(60, 64, 67, 0.15);\n",
              "      fill: #174EA6;\n",
              "    }\n",
              "\n",
              "    [theme=dark] .colab-df-convert {\n",
              "      background-color: #3B4455;\n",
              "      fill: #D2E3FC;\n",
              "    }\n",
              "\n",
              "    [theme=dark] .colab-df-convert:hover {\n",
              "      background-color: #434B5C;\n",
              "      box-shadow: 0px 1px 3px 1px rgba(0, 0, 0, 0.15);\n",
              "      filter: drop-shadow(0px 1px 2px rgba(0, 0, 0, 0.3));\n",
              "      fill: #FFFFFF;\n",
              "    }\n",
              "  </style>\n",
              "\n",
              "      <script>\n",
              "        const buttonEl =\n",
              "          document.querySelector('#df-1a2a9e0d-fac8-40f9-9990-88e20fc4dbc2 button.colab-df-convert');\n",
              "        buttonEl.style.display =\n",
              "          google.colab.kernel.accessAllowed ? 'block' : 'none';\n",
              "\n",
              "        async function convertToInteractive(key) {\n",
              "          const element = document.querySelector('#df-1a2a9e0d-fac8-40f9-9990-88e20fc4dbc2');\n",
              "          const dataTable =\n",
              "            await google.colab.kernel.invokeFunction('convertToInteractive',\n",
              "                                                     [key], {});\n",
              "          if (!dataTable) return;\n",
              "\n",
              "          const docLinkHtml = 'Like what you see? Visit the ' +\n",
              "            '<a target=\"_blank\" href=https://colab.research.google.com/notebooks/data_table.ipynb>data table notebook</a>'\n",
              "            + ' to learn more about interactive tables.';\n",
              "          element.innerHTML = '';\n",
              "          dataTable['output_type'] = 'display_data';\n",
              "          await google.colab.output.renderOutput(dataTable, element);\n",
              "          const docLink = document.createElement('div');\n",
              "          docLink.innerHTML = docLinkHtml;\n",
              "          element.appendChild(docLink);\n",
              "        }\n",
              "      </script>\n",
              "    </div>\n",
              "  </div>\n",
              "  "
            ]
          },
          "metadata": {},
          "execution_count": 113
        }
      ]
    },
    {
      "cell_type": "code",
      "source": [
        "def sentimentPredict(sentiment):\n",
        "    if sentiment['compound'] >= 0.05:\n",
        "      return \"Positive\"\n",
        "    elif sentiment['compound'] <= -0.05: \n",
        "      return \"Negative\"\n",
        "    else:\n",
        "      return \"Neutral\"\n",
        "final_df = tweets\n",
        "tweets['sentiment'] = final_df['scores'].apply(lambda x: sentimentPredict(x))\n",
        "tweets.head(5)"
      ],
      "metadata": {
        "colab": {
          "base_uri": "https://localhost:8080/",
          "height": 337
        },
        "id": "QRHit6MyfYe1",
        "outputId": "b443fcfe-4d74-48f1-e7db-d2c7db93efdc"
      },
      "execution_count": 115,
      "outputs": [
        {
          "output_type": "execute_result",
          "data": {
            "text/plain": [
              "                  user_name     user_location               user_created  \\\n",
              "74950   Dwaipayan Mukherjee  New Delhi, India  2014-07-22 13:46:48+00:00   \n",
              "119609         ChrisMaguire        North West  2012-01-02 19:21:37+00:00   \n",
              "113122              Roselin             India  2019-10-14 11:37:28+00:00   \n",
              "42582      Hashim Habibzada     Washington DC  2012-04-03 21:12:07+00:00   \n",
              "66928              war news     United States  2022-11-12 22:59:25+00:00   \n",
              "\n",
              "       user_followers user_favourites user_verified  \\\n",
              "74950           158.0            5588         FALSE   \n",
              "119609         8733.0           28328         FALSE   \n",
              "113122          148.0               0         FALSE   \n",
              "42582           572.0             128          TRUE   \n",
              "66928            28.0               3         FALSE   \n",
              "\n",
              "                             date  \\\n",
              "74950   2022-12-06 17:59:50+00:00   \n",
              "119609  2022-11-20 18:46:40+00:00   \n",
              "113122  2022-11-22 11:12:16+00:00   \n",
              "42582   2022-12-14 21:50:09+00:00   \n",
              "66928   2022-12-09 11:57:48+00:00   \n",
              "\n",
              "                                                     text  \\\n",
              "74950   Football grows because of games like this ✨ #Q...   \n",
              "119609  In my humble opinion you’re taking rubbish. Th...   \n",
              "113122  ⚽ Watch Qatar FIFA World Cup 2022 Argentina-vs...   \n",
              "42582   #Morocco played well in #FOOTBALLWORLDCUP #Qat...   \n",
              "66928   Ukraine War: Inside the battle for Bakhmut ##r...   \n",
              "\n",
              "                     source  \\\n",
              "74950    Twitter for iPhone   \n",
              "119609   Twitter for iPhone   \n",
              "113122      Twitter Web App   \n",
              "42582       Twitter Web App   \n",
              "66928   Twitter for Android   \n",
              "\n",
              "                                                   scores sentiment  \n",
              "74950   {'neg': 0.0, 'neu': 0.737, 'pos': 0.263, 'comp...  Positive  \n",
              "119609  {'neg': 0.081, 'neu': 0.858, 'pos': 0.061, 'co...  Negative  \n",
              "113122  {'neg': 0.0, 'neu': 1.0, 'pos': 0.0, 'compound...   Neutral  \n",
              "42582   {'neg': 0.0, 'neu': 0.523, 'pos': 0.477, 'comp...  Positive  \n",
              "66928   {'neg': 0.394, 'neu': 0.606, 'pos': 0.0, 'comp...  Negative  "
            ],
            "text/html": [
              "\n",
              "  <div id=\"df-c156f5ee-2fdb-47a2-94ed-2fc51e2be436\">\n",
              "    <div class=\"colab-df-container\">\n",
              "      <div>\n",
              "<style scoped>\n",
              "    .dataframe tbody tr th:only-of-type {\n",
              "        vertical-align: middle;\n",
              "    }\n",
              "\n",
              "    .dataframe tbody tr th {\n",
              "        vertical-align: top;\n",
              "    }\n",
              "\n",
              "    .dataframe thead th {\n",
              "        text-align: right;\n",
              "    }\n",
              "</style>\n",
              "<table border=\"1\" class=\"dataframe\">\n",
              "  <thead>\n",
              "    <tr style=\"text-align: right;\">\n",
              "      <th></th>\n",
              "      <th>user_name</th>\n",
              "      <th>user_location</th>\n",
              "      <th>user_created</th>\n",
              "      <th>user_followers</th>\n",
              "      <th>user_favourites</th>\n",
              "      <th>user_verified</th>\n",
              "      <th>date</th>\n",
              "      <th>text</th>\n",
              "      <th>source</th>\n",
              "      <th>scores</th>\n",
              "      <th>sentiment</th>\n",
              "    </tr>\n",
              "  </thead>\n",
              "  <tbody>\n",
              "    <tr>\n",
              "      <th>74950</th>\n",
              "      <td>Dwaipayan Mukherjee</td>\n",
              "      <td>New Delhi, India</td>\n",
              "      <td>2014-07-22 13:46:48+00:00</td>\n",
              "      <td>158.0</td>\n",
              "      <td>5588</td>\n",
              "      <td>FALSE</td>\n",
              "      <td>2022-12-06 17:59:50+00:00</td>\n",
              "      <td>Football grows because of games like this ✨ #Q...</td>\n",
              "      <td>Twitter for iPhone</td>\n",
              "      <td>{'neg': 0.0, 'neu': 0.737, 'pos': 0.263, 'comp...</td>\n",
              "      <td>Positive</td>\n",
              "    </tr>\n",
              "    <tr>\n",
              "      <th>119609</th>\n",
              "      <td>ChrisMaguire</td>\n",
              "      <td>North West</td>\n",
              "      <td>2012-01-02 19:21:37+00:00</td>\n",
              "      <td>8733.0</td>\n",
              "      <td>28328</td>\n",
              "      <td>FALSE</td>\n",
              "      <td>2022-11-20 18:46:40+00:00</td>\n",
              "      <td>In my humble opinion you’re taking rubbish. Th...</td>\n",
              "      <td>Twitter for iPhone</td>\n",
              "      <td>{'neg': 0.081, 'neu': 0.858, 'pos': 0.061, 'co...</td>\n",
              "      <td>Negative</td>\n",
              "    </tr>\n",
              "    <tr>\n",
              "      <th>113122</th>\n",
              "      <td>Roselin</td>\n",
              "      <td>India</td>\n",
              "      <td>2019-10-14 11:37:28+00:00</td>\n",
              "      <td>148.0</td>\n",
              "      <td>0</td>\n",
              "      <td>FALSE</td>\n",
              "      <td>2022-11-22 11:12:16+00:00</td>\n",
              "      <td>⚽ Watch Qatar FIFA World Cup 2022 Argentina-vs...</td>\n",
              "      <td>Twitter Web App</td>\n",
              "      <td>{'neg': 0.0, 'neu': 1.0, 'pos': 0.0, 'compound...</td>\n",
              "      <td>Neutral</td>\n",
              "    </tr>\n",
              "    <tr>\n",
              "      <th>42582</th>\n",
              "      <td>Hashim Habibzada</td>\n",
              "      <td>Washington DC</td>\n",
              "      <td>2012-04-03 21:12:07+00:00</td>\n",
              "      <td>572.0</td>\n",
              "      <td>128</td>\n",
              "      <td>TRUE</td>\n",
              "      <td>2022-12-14 21:50:09+00:00</td>\n",
              "      <td>#Morocco played well in #FOOTBALLWORLDCUP #Qat...</td>\n",
              "      <td>Twitter Web App</td>\n",
              "      <td>{'neg': 0.0, 'neu': 0.523, 'pos': 0.477, 'comp...</td>\n",
              "      <td>Positive</td>\n",
              "    </tr>\n",
              "    <tr>\n",
              "      <th>66928</th>\n",
              "      <td>war news</td>\n",
              "      <td>United States</td>\n",
              "      <td>2022-11-12 22:59:25+00:00</td>\n",
              "      <td>28.0</td>\n",
              "      <td>3</td>\n",
              "      <td>FALSE</td>\n",
              "      <td>2022-12-09 11:57:48+00:00</td>\n",
              "      <td>Ukraine War: Inside the battle for Bakhmut ##r...</td>\n",
              "      <td>Twitter for Android</td>\n",
              "      <td>{'neg': 0.394, 'neu': 0.606, 'pos': 0.0, 'comp...</td>\n",
              "      <td>Negative</td>\n",
              "    </tr>\n",
              "  </tbody>\n",
              "</table>\n",
              "</div>\n",
              "      <button class=\"colab-df-convert\" onclick=\"convertToInteractive('df-c156f5ee-2fdb-47a2-94ed-2fc51e2be436')\"\n",
              "              title=\"Convert this dataframe to an interactive table.\"\n",
              "              style=\"display:none;\">\n",
              "        \n",
              "  <svg xmlns=\"http://www.w3.org/2000/svg\" height=\"24px\"viewBox=\"0 0 24 24\"\n",
              "       width=\"24px\">\n",
              "    <path d=\"M0 0h24v24H0V0z\" fill=\"none\"/>\n",
              "    <path d=\"M18.56 5.44l.94 2.06.94-2.06 2.06-.94-2.06-.94-.94-2.06-.94 2.06-2.06.94zm-11 1L8.5 8.5l.94-2.06 2.06-.94-2.06-.94L8.5 2.5l-.94 2.06-2.06.94zm10 10l.94 2.06.94-2.06 2.06-.94-2.06-.94-.94-2.06-.94 2.06-2.06.94z\"/><path d=\"M17.41 7.96l-1.37-1.37c-.4-.4-.92-.59-1.43-.59-.52 0-1.04.2-1.43.59L10.3 9.45l-7.72 7.72c-.78.78-.78 2.05 0 2.83L4 21.41c.39.39.9.59 1.41.59.51 0 1.02-.2 1.41-.59l7.78-7.78 2.81-2.81c.8-.78.8-2.07 0-2.86zM5.41 20L4 18.59l7.72-7.72 1.47 1.35L5.41 20z\"/>\n",
              "  </svg>\n",
              "      </button>\n",
              "      \n",
              "  <style>\n",
              "    .colab-df-container {\n",
              "      display:flex;\n",
              "      flex-wrap:wrap;\n",
              "      gap: 12px;\n",
              "    }\n",
              "\n",
              "    .colab-df-convert {\n",
              "      background-color: #E8F0FE;\n",
              "      border: none;\n",
              "      border-radius: 50%;\n",
              "      cursor: pointer;\n",
              "      display: none;\n",
              "      fill: #1967D2;\n",
              "      height: 32px;\n",
              "      padding: 0 0 0 0;\n",
              "      width: 32px;\n",
              "    }\n",
              "\n",
              "    .colab-df-convert:hover {\n",
              "      background-color: #E2EBFA;\n",
              "      box-shadow: 0px 1px 2px rgba(60, 64, 67, 0.3), 0px 1px 3px 1px rgba(60, 64, 67, 0.15);\n",
              "      fill: #174EA6;\n",
              "    }\n",
              "\n",
              "    [theme=dark] .colab-df-convert {\n",
              "      background-color: #3B4455;\n",
              "      fill: #D2E3FC;\n",
              "    }\n",
              "\n",
              "    [theme=dark] .colab-df-convert:hover {\n",
              "      background-color: #434B5C;\n",
              "      box-shadow: 0px 1px 3px 1px rgba(0, 0, 0, 0.15);\n",
              "      filter: drop-shadow(0px 1px 2px rgba(0, 0, 0, 0.3));\n",
              "      fill: #FFFFFF;\n",
              "    }\n",
              "  </style>\n",
              "\n",
              "      <script>\n",
              "        const buttonEl =\n",
              "          document.querySelector('#df-c156f5ee-2fdb-47a2-94ed-2fc51e2be436 button.colab-df-convert');\n",
              "        buttonEl.style.display =\n",
              "          google.colab.kernel.accessAllowed ? 'block' : 'none';\n",
              "\n",
              "        async function convertToInteractive(key) {\n",
              "          const element = document.querySelector('#df-c156f5ee-2fdb-47a2-94ed-2fc51e2be436');\n",
              "          const dataTable =\n",
              "            await google.colab.kernel.invokeFunction('convertToInteractive',\n",
              "                                                     [key], {});\n",
              "          if (!dataTable) return;\n",
              "\n",
              "          const docLinkHtml = 'Like what you see? Visit the ' +\n",
              "            '<a target=\"_blank\" href=https://colab.research.google.com/notebooks/data_table.ipynb>data table notebook</a>'\n",
              "            + ' to learn more about interactive tables.';\n",
              "          element.innerHTML = '';\n",
              "          dataTable['output_type'] = 'display_data';\n",
              "          await google.colab.output.renderOutput(dataTable, element);\n",
              "          const docLink = document.createElement('div');\n",
              "          docLink.innerHTML = docLinkHtml;\n",
              "          element.appendChild(docLink);\n",
              "        }\n",
              "      </script>\n",
              "    </div>\n",
              "  </div>\n",
              "  "
            ]
          },
          "metadata": {},
          "execution_count": 115
        }
      ]
    },
    {
      "cell_type": "code",
      "source": [
        "tweets = tweets.replace(['Positive','Neutral','Negative'],[2, 1, 0])"
      ],
      "metadata": {
        "id": "aONE9tCWe_KA"
      },
      "execution_count": 123,
      "outputs": []
    },
    {
      "cell_type": "code",
      "source": [
        "tweets.head(5)"
      ],
      "metadata": {
        "colab": {
          "base_uri": "https://localhost:8080/",
          "height": 337
        },
        "id": "dzZfS1Ihfi1c",
        "outputId": "9bf3c160-ea4e-4551-a3ec-169bdd8e75c0"
      },
      "execution_count": 124,
      "outputs": [
        {
          "output_type": "execute_result",
          "data": {
            "text/plain": [
              "                  user_name     user_location               user_created  \\\n",
              "74950   Dwaipayan Mukherjee  New Delhi, India  2014-07-22 13:46:48+00:00   \n",
              "119609         ChrisMaguire        North West  2012-01-02 19:21:37+00:00   \n",
              "113122              Roselin             India  2019-10-14 11:37:28+00:00   \n",
              "42582      Hashim Habibzada     Washington DC  2012-04-03 21:12:07+00:00   \n",
              "66928              war news     United States  2022-11-12 22:59:25+00:00   \n",
              "\n",
              "       user_followers user_favourites user_verified  \\\n",
              "74950           158.0            5588         FALSE   \n",
              "119609         8733.0           28328         FALSE   \n",
              "113122          148.0               0         FALSE   \n",
              "42582           572.0             128          TRUE   \n",
              "66928            28.0               3         FALSE   \n",
              "\n",
              "                             date  \\\n",
              "74950   2022-12-06 17:59:50+00:00   \n",
              "119609  2022-11-20 18:46:40+00:00   \n",
              "113122  2022-11-22 11:12:16+00:00   \n",
              "42582   2022-12-14 21:50:09+00:00   \n",
              "66928   2022-12-09 11:57:48+00:00   \n",
              "\n",
              "                                                     text  \\\n",
              "74950   Football grows because of games like this ✨ #Q...   \n",
              "119609  In my humble opinion you’re taking rubbish. Th...   \n",
              "113122  ⚽ Watch Qatar FIFA World Cup 2022 Argentina-vs...   \n",
              "42582   #Morocco played well in #FOOTBALLWORLDCUP #Qat...   \n",
              "66928   Ukraine War: Inside the battle for Bakhmut ##r...   \n",
              "\n",
              "                     source  \\\n",
              "74950    Twitter for iPhone   \n",
              "119609   Twitter for iPhone   \n",
              "113122      Twitter Web App   \n",
              "42582       Twitter Web App   \n",
              "66928   Twitter for Android   \n",
              "\n",
              "                                                   scores  sentiment  \n",
              "74950   {'neg': 0.0, 'neu': 0.737, 'pos': 0.263, 'comp...          2  \n",
              "119609  {'neg': 0.081, 'neu': 0.858, 'pos': 0.061, 'co...          0  \n",
              "113122  {'neg': 0.0, 'neu': 1.0, 'pos': 0.0, 'compound...          1  \n",
              "42582   {'neg': 0.0, 'neu': 0.523, 'pos': 0.477, 'comp...          2  \n",
              "66928   {'neg': 0.394, 'neu': 0.606, 'pos': 0.0, 'comp...          0  "
            ],
            "text/html": [
              "\n",
              "  <div id=\"df-28c48f99-08ab-4275-be10-2daaa8f4d0a6\">\n",
              "    <div class=\"colab-df-container\">\n",
              "      <div>\n",
              "<style scoped>\n",
              "    .dataframe tbody tr th:only-of-type {\n",
              "        vertical-align: middle;\n",
              "    }\n",
              "\n",
              "    .dataframe tbody tr th {\n",
              "        vertical-align: top;\n",
              "    }\n",
              "\n",
              "    .dataframe thead th {\n",
              "        text-align: right;\n",
              "    }\n",
              "</style>\n",
              "<table border=\"1\" class=\"dataframe\">\n",
              "  <thead>\n",
              "    <tr style=\"text-align: right;\">\n",
              "      <th></th>\n",
              "      <th>user_name</th>\n",
              "      <th>user_location</th>\n",
              "      <th>user_created</th>\n",
              "      <th>user_followers</th>\n",
              "      <th>user_favourites</th>\n",
              "      <th>user_verified</th>\n",
              "      <th>date</th>\n",
              "      <th>text</th>\n",
              "      <th>source</th>\n",
              "      <th>scores</th>\n",
              "      <th>sentiment</th>\n",
              "    </tr>\n",
              "  </thead>\n",
              "  <tbody>\n",
              "    <tr>\n",
              "      <th>74950</th>\n",
              "      <td>Dwaipayan Mukherjee</td>\n",
              "      <td>New Delhi, India</td>\n",
              "      <td>2014-07-22 13:46:48+00:00</td>\n",
              "      <td>158.0</td>\n",
              "      <td>5588</td>\n",
              "      <td>FALSE</td>\n",
              "      <td>2022-12-06 17:59:50+00:00</td>\n",
              "      <td>Football grows because of games like this ✨ #Q...</td>\n",
              "      <td>Twitter for iPhone</td>\n",
              "      <td>{'neg': 0.0, 'neu': 0.737, 'pos': 0.263, 'comp...</td>\n",
              "      <td>2</td>\n",
              "    </tr>\n",
              "    <tr>\n",
              "      <th>119609</th>\n",
              "      <td>ChrisMaguire</td>\n",
              "      <td>North West</td>\n",
              "      <td>2012-01-02 19:21:37+00:00</td>\n",
              "      <td>8733.0</td>\n",
              "      <td>28328</td>\n",
              "      <td>FALSE</td>\n",
              "      <td>2022-11-20 18:46:40+00:00</td>\n",
              "      <td>In my humble opinion you’re taking rubbish. Th...</td>\n",
              "      <td>Twitter for iPhone</td>\n",
              "      <td>{'neg': 0.081, 'neu': 0.858, 'pos': 0.061, 'co...</td>\n",
              "      <td>0</td>\n",
              "    </tr>\n",
              "    <tr>\n",
              "      <th>113122</th>\n",
              "      <td>Roselin</td>\n",
              "      <td>India</td>\n",
              "      <td>2019-10-14 11:37:28+00:00</td>\n",
              "      <td>148.0</td>\n",
              "      <td>0</td>\n",
              "      <td>FALSE</td>\n",
              "      <td>2022-11-22 11:12:16+00:00</td>\n",
              "      <td>⚽ Watch Qatar FIFA World Cup 2022 Argentina-vs...</td>\n",
              "      <td>Twitter Web App</td>\n",
              "      <td>{'neg': 0.0, 'neu': 1.0, 'pos': 0.0, 'compound...</td>\n",
              "      <td>1</td>\n",
              "    </tr>\n",
              "    <tr>\n",
              "      <th>42582</th>\n",
              "      <td>Hashim Habibzada</td>\n",
              "      <td>Washington DC</td>\n",
              "      <td>2012-04-03 21:12:07+00:00</td>\n",
              "      <td>572.0</td>\n",
              "      <td>128</td>\n",
              "      <td>TRUE</td>\n",
              "      <td>2022-12-14 21:50:09+00:00</td>\n",
              "      <td>#Morocco played well in #FOOTBALLWORLDCUP #Qat...</td>\n",
              "      <td>Twitter Web App</td>\n",
              "      <td>{'neg': 0.0, 'neu': 0.523, 'pos': 0.477, 'comp...</td>\n",
              "      <td>2</td>\n",
              "    </tr>\n",
              "    <tr>\n",
              "      <th>66928</th>\n",
              "      <td>war news</td>\n",
              "      <td>United States</td>\n",
              "      <td>2022-11-12 22:59:25+00:00</td>\n",
              "      <td>28.0</td>\n",
              "      <td>3</td>\n",
              "      <td>FALSE</td>\n",
              "      <td>2022-12-09 11:57:48+00:00</td>\n",
              "      <td>Ukraine War: Inside the battle for Bakhmut ##r...</td>\n",
              "      <td>Twitter for Android</td>\n",
              "      <td>{'neg': 0.394, 'neu': 0.606, 'pos': 0.0, 'comp...</td>\n",
              "      <td>0</td>\n",
              "    </tr>\n",
              "  </tbody>\n",
              "</table>\n",
              "</div>\n",
              "      <button class=\"colab-df-convert\" onclick=\"convertToInteractive('df-28c48f99-08ab-4275-be10-2daaa8f4d0a6')\"\n",
              "              title=\"Convert this dataframe to an interactive table.\"\n",
              "              style=\"display:none;\">\n",
              "        \n",
              "  <svg xmlns=\"http://www.w3.org/2000/svg\" height=\"24px\"viewBox=\"0 0 24 24\"\n",
              "       width=\"24px\">\n",
              "    <path d=\"M0 0h24v24H0V0z\" fill=\"none\"/>\n",
              "    <path d=\"M18.56 5.44l.94 2.06.94-2.06 2.06-.94-2.06-.94-.94-2.06-.94 2.06-2.06.94zm-11 1L8.5 8.5l.94-2.06 2.06-.94-2.06-.94L8.5 2.5l-.94 2.06-2.06.94zm10 10l.94 2.06.94-2.06 2.06-.94-2.06-.94-.94-2.06-.94 2.06-2.06.94z\"/><path d=\"M17.41 7.96l-1.37-1.37c-.4-.4-.92-.59-1.43-.59-.52 0-1.04.2-1.43.59L10.3 9.45l-7.72 7.72c-.78.78-.78 2.05 0 2.83L4 21.41c.39.39.9.59 1.41.59.51 0 1.02-.2 1.41-.59l7.78-7.78 2.81-2.81c.8-.78.8-2.07 0-2.86zM5.41 20L4 18.59l7.72-7.72 1.47 1.35L5.41 20z\"/>\n",
              "  </svg>\n",
              "      </button>\n",
              "      \n",
              "  <style>\n",
              "    .colab-df-container {\n",
              "      display:flex;\n",
              "      flex-wrap:wrap;\n",
              "      gap: 12px;\n",
              "    }\n",
              "\n",
              "    .colab-df-convert {\n",
              "      background-color: #E8F0FE;\n",
              "      border: none;\n",
              "      border-radius: 50%;\n",
              "      cursor: pointer;\n",
              "      display: none;\n",
              "      fill: #1967D2;\n",
              "      height: 32px;\n",
              "      padding: 0 0 0 0;\n",
              "      width: 32px;\n",
              "    }\n",
              "\n",
              "    .colab-df-convert:hover {\n",
              "      background-color: #E2EBFA;\n",
              "      box-shadow: 0px 1px 2px rgba(60, 64, 67, 0.3), 0px 1px 3px 1px rgba(60, 64, 67, 0.15);\n",
              "      fill: #174EA6;\n",
              "    }\n",
              "\n",
              "    [theme=dark] .colab-df-convert {\n",
              "      background-color: #3B4455;\n",
              "      fill: #D2E3FC;\n",
              "    }\n",
              "\n",
              "    [theme=dark] .colab-df-convert:hover {\n",
              "      background-color: #434B5C;\n",
              "      box-shadow: 0px 1px 3px 1px rgba(0, 0, 0, 0.15);\n",
              "      filter: drop-shadow(0px 1px 2px rgba(0, 0, 0, 0.3));\n",
              "      fill: #FFFFFF;\n",
              "    }\n",
              "  </style>\n",
              "\n",
              "      <script>\n",
              "        const buttonEl =\n",
              "          document.querySelector('#df-28c48f99-08ab-4275-be10-2daaa8f4d0a6 button.colab-df-convert');\n",
              "        buttonEl.style.display =\n",
              "          google.colab.kernel.accessAllowed ? 'block' : 'none';\n",
              "\n",
              "        async function convertToInteractive(key) {\n",
              "          const element = document.querySelector('#df-28c48f99-08ab-4275-be10-2daaa8f4d0a6');\n",
              "          const dataTable =\n",
              "            await google.colab.kernel.invokeFunction('convertToInteractive',\n",
              "                                                     [key], {});\n",
              "          if (!dataTable) return;\n",
              "\n",
              "          const docLinkHtml = 'Like what you see? Visit the ' +\n",
              "            '<a target=\"_blank\" href=https://colab.research.google.com/notebooks/data_table.ipynb>data table notebook</a>'\n",
              "            + ' to learn more about interactive tables.';\n",
              "          element.innerHTML = '';\n",
              "          dataTable['output_type'] = 'display_data';\n",
              "          await google.colab.output.renderOutput(dataTable, element);\n",
              "          const docLink = document.createElement('div');\n",
              "          docLink.innerHTML = docLinkHtml;\n",
              "          element.appendChild(docLink);\n",
              "        }\n",
              "      </script>\n",
              "    </div>\n",
              "  </div>\n",
              "  "
            ]
          },
          "metadata": {},
          "execution_count": 124
        }
      ]
    },
    {
      "cell_type": "code",
      "source": [
        "tweets.drop(['user_name','user_location','user_created','user_followers','user_favourites','user_verified','date','source','scores'], axis=1, inplace=True)"
      ],
      "metadata": {
        "id": "flDBMcNwf7tf"
      },
      "execution_count": null,
      "outputs": []
    },
    {
      "cell_type": "code",
      "source": [
        "tweets['text'] = tweets['text'].astype('str')"
      ],
      "metadata": {
        "id": "Tn5latjVgtm7"
      },
      "execution_count": 131,
      "outputs": []
    },
    {
      "cell_type": "markdown",
      "source": [
        "\n",
        "Check the number of positive vs. negative tagged sentences"
      ],
      "metadata": {
        "id": "AOPqrswSg8r8"
      }
    },
    {
      "cell_type": "code",
      "source": [
        "positives = tweets['sentiment'][tweets.sentiment == 2 ]\n",
        "negatives = tweets['sentiment'][tweets.sentiment == 0 ]\n",
        "\n",
        "print('Total length of the data is:         {}'.format(tweets.shape[0]))\n",
        "print('No. of positve tagged sentences is:  {}'.format(len(positives)))\n",
        "print('No. of negative tagged sentences is: {}'.format(len(negatives)))"
      ],
      "metadata": {
        "colab": {
          "base_uri": "https://localhost:8080/"
        },
        "id": "Q4Iz7Ak7g128",
        "outputId": "c1bca14b-9f0a-4b2e-c295-64b802359f22"
      },
      "execution_count": 132,
      "outputs": [
        {
          "output_type": "stream",
          "name": "stdout",
          "text": [
            "Total length of the data is:         119970\n",
            "No. of positve tagged sentences is:  54577\n",
            "No. of negative tagged sentences is: 20254\n"
          ]
        }
      ]
    },
    {
      "cell_type": "code",
      "source": [
        "from nltk.stem import WordNetLemmatizer\n",
        "from nltk.corpus import stopwords\n",
        "from nltk.tokenize import word_tokenize\n",
        "\n",
        "nltk.download('stopwords')\n",
        "stopword = set(stopwords.words('english'))"
      ],
      "metadata": {
        "colab": {
          "base_uri": "https://localhost:8080/"
        },
        "id": "m6EvRyCPhBYo",
        "outputId": "db6f04c5-2883-4718-c111-6606acebc0f9"
      },
      "execution_count": 134,
      "outputs": [
        {
          "output_type": "stream",
          "name": "stderr",
          "text": [
            "[nltk_data] Downloading package stopwords to /root/nltk_data...\n",
            "[nltk_data]   Unzipping corpora/stopwords.zip.\n"
          ]
        }
      ]
    },
    {
      "cell_type": "code",
      "source": [
        "#removing shortwords\n",
        "tweets['text']=tweets['text'].apply(lambda x: \" \".join([w for w in x.split() if len(w)>3]))\n",
        "tweets.head(5)"
      ],
      "metadata": {
        "colab": {
          "base_uri": "https://localhost:8080/",
          "height": 206
        },
        "id": "Jik6EVzliI7g",
        "outputId": "821dbd4c-bcc5-4cf3-a009-4e4a308e3466"
      },
      "execution_count": 142,
      "outputs": [
        {
          "output_type": "execute_result",
          "data": {
            "text/plain": [
              "                                                     text  sentiment\n",
              "74950   Football grows because games like this #QatarW...          2\n",
              "119609  humble opinion you’re taking rubbish. mouthpie...          0\n",
              "113122  Watch Qatar FIFA World 2022 Argentina-vs-saudi...          1\n",
              "42582   #Morocco played well #FOOTBALLWORLDCUP #Qatar2...          2\n",
              "66928   Ukraine War: Inside battle Bakhmut ##russiaIsA...          0"
            ],
            "text/html": [
              "\n",
              "  <div id=\"df-64962cee-5a34-41ff-8a5b-1f61c22baf52\">\n",
              "    <div class=\"colab-df-container\">\n",
              "      <div>\n",
              "<style scoped>\n",
              "    .dataframe tbody tr th:only-of-type {\n",
              "        vertical-align: middle;\n",
              "    }\n",
              "\n",
              "    .dataframe tbody tr th {\n",
              "        vertical-align: top;\n",
              "    }\n",
              "\n",
              "    .dataframe thead th {\n",
              "        text-align: right;\n",
              "    }\n",
              "</style>\n",
              "<table border=\"1\" class=\"dataframe\">\n",
              "  <thead>\n",
              "    <tr style=\"text-align: right;\">\n",
              "      <th></th>\n",
              "      <th>text</th>\n",
              "      <th>sentiment</th>\n",
              "    </tr>\n",
              "  </thead>\n",
              "  <tbody>\n",
              "    <tr>\n",
              "      <th>74950</th>\n",
              "      <td>Football grows because games like this #QatarW...</td>\n",
              "      <td>2</td>\n",
              "    </tr>\n",
              "    <tr>\n",
              "      <th>119609</th>\n",
              "      <td>humble opinion you’re taking rubbish. mouthpie...</td>\n",
              "      <td>0</td>\n",
              "    </tr>\n",
              "    <tr>\n",
              "      <th>113122</th>\n",
              "      <td>Watch Qatar FIFA World 2022 Argentina-vs-saudi...</td>\n",
              "      <td>1</td>\n",
              "    </tr>\n",
              "    <tr>\n",
              "      <th>42582</th>\n",
              "      <td>#Morocco played well #FOOTBALLWORLDCUP #Qatar2...</td>\n",
              "      <td>2</td>\n",
              "    </tr>\n",
              "    <tr>\n",
              "      <th>66928</th>\n",
              "      <td>Ukraine War: Inside battle Bakhmut ##russiaIsA...</td>\n",
              "      <td>0</td>\n",
              "    </tr>\n",
              "  </tbody>\n",
              "</table>\n",
              "</div>\n",
              "      <button class=\"colab-df-convert\" onclick=\"convertToInteractive('df-64962cee-5a34-41ff-8a5b-1f61c22baf52')\"\n",
              "              title=\"Convert this dataframe to an interactive table.\"\n",
              "              style=\"display:none;\">\n",
              "        \n",
              "  <svg xmlns=\"http://www.w3.org/2000/svg\" height=\"24px\"viewBox=\"0 0 24 24\"\n",
              "       width=\"24px\">\n",
              "    <path d=\"M0 0h24v24H0V0z\" fill=\"none\"/>\n",
              "    <path d=\"M18.56 5.44l.94 2.06.94-2.06 2.06-.94-2.06-.94-.94-2.06-.94 2.06-2.06.94zm-11 1L8.5 8.5l.94-2.06 2.06-.94-2.06-.94L8.5 2.5l-.94 2.06-2.06.94zm10 10l.94 2.06.94-2.06 2.06-.94-2.06-.94-.94-2.06-.94 2.06-2.06.94z\"/><path d=\"M17.41 7.96l-1.37-1.37c-.4-.4-.92-.59-1.43-.59-.52 0-1.04.2-1.43.59L10.3 9.45l-7.72 7.72c-.78.78-.78 2.05 0 2.83L4 21.41c.39.39.9.59 1.41.59.51 0 1.02-.2 1.41-.59l7.78-7.78 2.81-2.81c.8-.78.8-2.07 0-2.86zM5.41 20L4 18.59l7.72-7.72 1.47 1.35L5.41 20z\"/>\n",
              "  </svg>\n",
              "      </button>\n",
              "      \n",
              "  <style>\n",
              "    .colab-df-container {\n",
              "      display:flex;\n",
              "      flex-wrap:wrap;\n",
              "      gap: 12px;\n",
              "    }\n",
              "\n",
              "    .colab-df-convert {\n",
              "      background-color: #E8F0FE;\n",
              "      border: none;\n",
              "      border-radius: 50%;\n",
              "      cursor: pointer;\n",
              "      display: none;\n",
              "      fill: #1967D2;\n",
              "      height: 32px;\n",
              "      padding: 0 0 0 0;\n",
              "      width: 32px;\n",
              "    }\n",
              "\n",
              "    .colab-df-convert:hover {\n",
              "      background-color: #E2EBFA;\n",
              "      box-shadow: 0px 1px 2px rgba(60, 64, 67, 0.3), 0px 1px 3px 1px rgba(60, 64, 67, 0.15);\n",
              "      fill: #174EA6;\n",
              "    }\n",
              "\n",
              "    [theme=dark] .colab-df-convert {\n",
              "      background-color: #3B4455;\n",
              "      fill: #D2E3FC;\n",
              "    }\n",
              "\n",
              "    [theme=dark] .colab-df-convert:hover {\n",
              "      background-color: #434B5C;\n",
              "      box-shadow: 0px 1px 3px 1px rgba(0, 0, 0, 0.15);\n",
              "      filter: drop-shadow(0px 1px 2px rgba(0, 0, 0, 0.3));\n",
              "      fill: #FFFFFF;\n",
              "    }\n",
              "  </style>\n",
              "\n",
              "      <script>\n",
              "        const buttonEl =\n",
              "          document.querySelector('#df-64962cee-5a34-41ff-8a5b-1f61c22baf52 button.colab-df-convert');\n",
              "        buttonEl.style.display =\n",
              "          google.colab.kernel.accessAllowed ? 'block' : 'none';\n",
              "\n",
              "        async function convertToInteractive(key) {\n",
              "          const element = document.querySelector('#df-64962cee-5a34-41ff-8a5b-1f61c22baf52');\n",
              "          const dataTable =\n",
              "            await google.colab.kernel.invokeFunction('convertToInteractive',\n",
              "                                                     [key], {});\n",
              "          if (!dataTable) return;\n",
              "\n",
              "          const docLinkHtml = 'Like what you see? Visit the ' +\n",
              "            '<a target=\"_blank\" href=https://colab.research.google.com/notebooks/data_table.ipynb>data table notebook</a>'\n",
              "            + ' to learn more about interactive tables.';\n",
              "          element.innerHTML = '';\n",
              "          dataTable['output_type'] = 'display_data';\n",
              "          await google.colab.output.renderOutput(dataTable, element);\n",
              "          const docLink = document.createElement('div');\n",
              "          docLink.innerHTML = docLinkHtml;\n",
              "          element.appendChild(docLink);\n",
              "        }\n",
              "      </script>\n",
              "    </div>\n",
              "  </div>\n",
              "  "
            ]
          },
          "metadata": {},
          "execution_count": 142
        }
      ]
    },
    {
      "cell_type": "code",
      "source": [
        "from sklearn.utils import shuffle\n",
        "tweets =  shuffle(tweets).reset_index(drop=True)"
      ],
      "metadata": {
        "id": "ZGlARmUJiPfg"
      },
      "execution_count": 143,
      "outputs": []
    },
    {
      "cell_type": "code",
      "source": [
        "tokenized_tweet=tweets['text'].apply(lambda x: x.split())\n",
        "tokenized_tweet.head(5)"
      ],
      "metadata": {
        "colab": {
          "base_uri": "https://localhost:8080/"
        },
        "id": "pscnZyR4iRdO",
        "outputId": "c5592fba-0ad9-43e4-b181-c05ee6c6f67e"
      },
      "execution_count": 144,
      "outputs": [
        {
          "output_type": "execute_result",
          "data": {
            "text/plain": [
              "0    [#Netherlands, outstanding, game, against, #US...\n",
              "1    [there, Hacking, attempts, your, device?, assi...\n",
              "2    [Argentina, France, World, 2022, Final, Live, ...\n",
              "3    [World, Surprise, Corrupt, Chair,, India, also...\n",
              "4    [prediction, #Qatar2022, Argentina, France, Mo...\n",
              "Name: text, dtype: object"
            ]
          },
          "metadata": {},
          "execution_count": 144
        }
      ]
    },
    {
      "cell_type": "code",
      "source": [
        "from sklearn.feature_extraction.text import CountVectorizer\n",
        "from nltk.tokenize import RegexpTokenizer\n",
        "token = RegexpTokenizer(r'[a-zA-Z0-9]+')\n",
        "cv = CountVectorizer(stop_words='english',ngram_range = (1,1),tokenizer = token.tokenize)\n",
        "text_counts = cv.fit_transform(tweets['text'].values.astype('U'))"
      ],
      "metadata": {
        "id": "sUXa1WG2iVt6"
      },
      "execution_count": 145,
      "outputs": []
    },
    {
      "cell_type": "markdown",
      "source": [
        "\n",
        "Train/Test Split¶\n"
      ],
      "metadata": {
        "id": "_QN6lbFyiesu"
      }
    },
    {
      "cell_type": "code",
      "source": [
        "from sklearn.model_selection import train_test_split\n",
        "X=text_counts\n",
        "y=tweets['sentiment']\n",
        "X_train, X_test, y_train, y_test = train_test_split(X, y, test_size=0.20,random_state=19)"
      ],
      "metadata": {
        "id": "KGDOFvFxicYV"
      },
      "execution_count": 146,
      "outputs": []
    },
    {
      "cell_type": "markdown",
      "source": [
        "\n",
        "Naive Bayes"
      ],
      "metadata": {
        "id": "C9AnPUFCifl7"
      }
    },
    {
      "cell_type": "code",
      "source": [
        "from sklearn.naive_bayes import ComplementNB\n",
        "from sklearn.model_selection import GridSearchCV\n",
        "from sklearn.model_selection import cross_val_score\n",
        "from sklearn import metrics\n",
        "from math import *\n",
        "cnb = ComplementNB()\n",
        "cnb.fit(X_train, y_train)\n",
        "cross_cnb = cross_val_score(cnb, X, y,n_jobs = -1)\n",
        "print(\"Cross Validation score = \",cross_cnb)                \n",
        "print (\"Train accuracy ={:.2f}%\".format(cnb.score(X_train,y_train)*100))\n",
        "print (\"Test accuracy ={:.2f}%\".format(cnb.score(X_test,y_test)*100))\n",
        "train_acc_cnb=cnb.score(X_train,y_train)\n",
        "test_acc_cnb=cnb.score(X_test,y_test)"
      ],
      "metadata": {
        "colab": {
          "base_uri": "https://localhost:8080/"
        },
        "id": "CEIPCavlig_8",
        "outputId": "5315df1e-1114-4302-ea86-4fa627c32189"
      },
      "execution_count": 147,
      "outputs": [
        {
          "output_type": "stream",
          "name": "stdout",
          "text": [
            "Cross Validation score =  [0.72943236 0.72980745 0.72255564 0.7211803  0.72584813]\n",
            "Train accuracy =79.71%\n",
            "Test accuracy =72.85%\n"
          ]
        }
      ]
    },
    {
      "cell_type": "code",
      "source": [
        "#plotting the best parameters\n",
        "import matplotlib.patches as mpatches\n",
        "import numpy as np\n",
        "import pandas as pd\n",
        "from pandas import Series, DataFrame\n",
        "import matplotlib.pyplot as plt\n",
        "data_cnb = [train_acc_cnb,test_acc_cnb]\n",
        "labels = ['Train Accuracy','Test Accuracy']\n",
        "plt.xticks(range(len(data_cnb)), labels)\n",
        "plt.ylabel('Accuracy')\n",
        "plt.title('Accuracy plot with best parameters')\n",
        "plt.bar(range(len(data_cnb)), data_cnb,color=['blue','darkorange']) \n",
        "Train_acc = mpatches.Patch(color='blue', label='Train_acc')\n",
        "Test_acc = mpatches.Patch(color='darkorange', label='Test_acc')\n",
        "plt.legend(handles=[Train_acc, Test_acc],loc='best')\n",
        "plt.gcf().set_size_inches(8, 8)\n",
        "plt.show()"
      ],
      "metadata": {
        "colab": {
          "base_uri": "https://localhost:8080/",
          "height": 585
        },
        "id": "A1ID-o4Iipt_",
        "outputId": "1fab98fa-54b4-4e19-95f9-db30729c60b3"
      },
      "execution_count": 148,
      "outputs": [
        {
          "output_type": "display_data",
          "data": {
            "text/plain": [
              "<Figure size 576x576 with 1 Axes>"
            ],
            "image/png": "[encoded data removed]"
          },
          "metadata": {}
        }
      ]
    },
    {
      "cell_type": "markdown",
      "source": [
        "\n",
        "Confusion Matrix"
      ],
      "metadata": {
        "id": "W4MrwWSUitz9"
      }
    },
    {
      "cell_type": "code",
      "source": [
        "from sklearn.metrics import *\n",
        "#Predict test data set\n",
        "y_pred_cnb =cnb.predict(X_test)\n",
        "\n",
        "#This is the confusion matrix :\n",
        "from sklearn.metrics import confusion_matrix\n",
        "print(confusion_matrix(y_test,y_pred_cnb))"
      ],
      "metadata": {
        "colab": {
          "base_uri": "https://localhost:8080/"
        },
        "id": "Ojq0Kgc_iuaf",
        "outputId": "cfa87279-2d42-4a67-cd4b-611ee1b8e7cc"
      },
      "execution_count": 149,
      "outputs": [
        {
          "output_type": "stream",
          "name": "stdout",
          "text": [
            "[[2812  334  899]\n",
            " [1109 5437 2464]\n",
            " [ 654 1054 9231]]\n"
          ]
        }
      ]
    },
    {
      "cell_type": "code",
      "source": [
        "#Checking performance our model with classification report\n",
        "print(classification_report(y_test, y_pred_cnb))"
      ],
      "metadata": {
        "colab": {
          "base_uri": "https://localhost:8080/"
        },
        "id": "wAy-325kiz5b",
        "outputId": "e89509cf-173a-47ea-a85b-711db086099d"
      },
      "execution_count": 151,
      "outputs": [
        {
          "output_type": "stream",
          "name": "stdout",
          "text": [
            "              precision    recall  f1-score   support\n",
            "\n",
            "           0       0.61      0.70      0.65      4045\n",
            "           1       0.80      0.60      0.69      9010\n",
            "           2       0.73      0.84      0.78     10939\n",
            "\n",
            "    accuracy                           0.73     23994\n",
            "   macro avg       0.71      0.71      0.71     23994\n",
            "weighted avg       0.74      0.73      0.73     23994\n",
            "\n"
          ]
        }
      ]
    },
    {
      "cell_type": "markdown",
      "source": [
        "\n",
        "Calculating F1, prescision and recall scores"
      ],
      "metadata": {
        "id": "upDfNL4IjUxP"
      }
    },
    {
      "cell_type": "code",
      "source": [
        "from sklearn.metrics import *\n",
        "\n",
        "print(\"F1 score ={:.2f}%\".format(f1_score(y_test, y_pred_cnb, average=\"macro\")*100))\n",
        "f1_cnb=f1_score(y_test, y_pred_cnb, average=\"macro\")\n",
        "print(\"Precision score ={:.2f}%\".format(precision_score(y_test, y_pred_cnb, average=\"macro\")*100))\n",
        "precision_cnb=precision_score(y_test, y_pred_cnb, average=\"macro\")\n",
        "print(\"Recall score ={:.2f}%\".format(recall_score(y_test, y_pred_cnb, average=\"macro\")*100))  \n",
        "recall_cnb=recall_score(y_test, y_pred_cnb, average=\"macro\")"
      ],
      "metadata": {
        "colab": {
          "base_uri": "https://localhost:8080/"
        },
        "id": "ehHvPQqKjVSS",
        "outputId": "2217be7d-f267-4ef2-fbdf-2bc5f89124db"
      },
      "execution_count": 152,
      "outputs": [
        {
          "output_type": "stream",
          "name": "stdout",
          "text": [
            "F1 score =70.79%\n",
            "Precision score =71.47%\n",
            "Recall score =71.42%\n"
          ]
        }
      ]
    }
  ]
}