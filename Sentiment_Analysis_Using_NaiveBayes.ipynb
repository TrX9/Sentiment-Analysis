{
  "nbformat": 4,
  "nbformat_minor": 0,
  "metadata": {
    "colab": {
      "provenance": []
    },
    "kernelspec": {
      "name": "python3",
      "display_name": "Python 3"
    },
    "language_info": {
      "name": "python"
    }
  },
  "cells": [
    {
      "cell_type": "code",
      "source": [
        "import pandas as pd\n",
        "import numpy as np\n",
        "import matplotlib as nlp\n",
        "import re\n",
        "import nltk"
      ],
      "metadata": {
        "id": "YLP2w9hRdu-g"
      },
      "execution_count": 53,
      "outputs": []
    },
    {
      "cell_type": "code",
      "source": [
        "#read file\n",
        "tweets  = pd.read_csv(\"/content/drive/MyDrive/tweets/World Cup 2022 Tweets.csv\")\n",
        "#display the first tweets\n",
        "tweets.head()"
      ],
      "metadata": {
        "colab": {
          "base_uri": "https://localhost:8080/",
          "height": 206
        },
        "id": "Co0Z3l-1Orji",
        "outputId": "5222a049-4832-4d41-e3f1-2d00aae95841"
      },
      "execution_count": 54,
      "outputs": [
        {
          "output_type": "execute_result",
          "data": {
            "text/plain": [
              "               user_name          user_location               user_created  \\\n",
              "0          Craig Forrest                    NaN  2011-01-14 19:09:55+00:00   \n",
              "1       Hosayni Official                    NaN  2022-06-22 23:22:12+00:00   \n",
              "2  ꧁Jineesh Janardhanan꧂  Harippad (Alappuzha )  2019-08-25 10:32:09+00:00   \n",
              "3                   iLOT                    NaN  2021-07-15 03:20:39+00:00   \n",
              "4         Chanda Dalmiya         Kolkata, India  2020-03-07 10:50:09+00:00   \n",
              "\n",
              "   user_followers user_favourites user_verified                       date  \\\n",
              "0         20346.0           18790          TRUE  2023-01-18 15:49:26+00:00   \n",
              "1             7.0              93         FALSE  2023-01-18 15:33:42+00:00   \n",
              "2          2414.0           15326         FALSE  2023-01-18 14:18:42+00:00   \n",
              "3          3201.0             421         FALSE  2023-01-18 13:46:52+00:00   \n",
              "4           397.0           13600         FALSE  2023-01-18 13:46:34+00:00   \n",
              "\n",
              "                                                text               source  \n",
              "0  Thanks Oso for sharing your experience at the ...   Twitter for iPhone  \n",
              "1  1 month ago at #QatarWorldCup2022 #Davido 001 ...  Twitter for Android  \n",
              "2  It's been exactly a month 🏆\\n#Argentina #Qatar...  Twitter for Android  \n",
              "3  Exactly one month 🏆\\n#QatarWorldCup2022 https:...            TweetDeck  \n",
              "4  @a23_fantasy Answer :- D) 6 Times\\n\\n#ContestA...  Twitter for Android  "
            ],
            "text/html": [
              "\n",
              "  <div id=\"df-dd548462-c251-45f9-bd36-af05143b54c0\">\n",
              "    <div class=\"colab-df-container\">\n",
              "      <div>\n",
              "<style scoped>\n",
              "    .dataframe tbody tr th:only-of-type {\n",
              "        vertical-align: middle;\n",
              "    }\n",
              "\n",
              "    .dataframe tbody tr th {\n",
              "        vertical-align: top;\n",
              "    }\n",
              "\n",
              "    .dataframe thead th {\n",
              "        text-align: right;\n",
              "    }\n",
              "</style>\n",
              "<table border=\"1\" class=\"dataframe\">\n",
              "  <thead>\n",
              "    <tr style=\"text-align: right;\">\n",
              "      <th></th>\n",
              "      <th>user_name</th>\n",
              "      <th>user_location</th>\n",
              "      <th>user_created</th>\n",
              "      <th>user_followers</th>\n",
              "      <th>user_favourites</th>\n",
              "      <th>user_verified</th>\n",
              "      <th>date</th>\n",
              "      <th>text</th>\n",
              "      <th>source</th>\n",
              "    </tr>\n",
              "  </thead>\n",
              "  <tbody>\n",
              "    <tr>\n",
              "      <th>0</th>\n",
              "      <td>Craig Forrest</td>\n",
              "      <td>NaN</td>\n",
              "      <td>2011-01-14 19:09:55+00:00</td>\n",
              "      <td>20346.0</td>\n",
              "      <td>18790</td>\n",
              "      <td>TRUE</td>\n",
              "      <td>2023-01-18 15:49:26+00:00</td>\n",
              "      <td>Thanks Oso for sharing your experience at the ...</td>\n",
              "      <td>Twitter for iPhone</td>\n",
              "    </tr>\n",
              "    <tr>\n",
              "      <th>1</th>\n",
              "      <td>Hosayni Official</td>\n",
              "      <td>NaN</td>\n",
              "      <td>2022-06-22 23:22:12+00:00</td>\n",
              "      <td>7.0</td>\n",
              "      <td>93</td>\n",
              "      <td>FALSE</td>\n",
              "      <td>2023-01-18 15:33:42+00:00</td>\n",
              "      <td>1 month ago at #QatarWorldCup2022 #Davido 001 ...</td>\n",
              "      <td>Twitter for Android</td>\n",
              "    </tr>\n",
              "    <tr>\n",
              "      <th>2</th>\n",
              "      <td>꧁Jineesh Janardhanan꧂</td>\n",
              "      <td>Harippad (Alappuzha )</td>\n",
              "      <td>2019-08-25 10:32:09+00:00</td>\n",
              "      <td>2414.0</td>\n",
              "      <td>15326</td>\n",
              "      <td>FALSE</td>\n",
              "      <td>2023-01-18 14:18:42+00:00</td>\n",
              "      <td>It's been exactly a month 🏆\\n#Argentina #Qatar...</td>\n",
              "      <td>Twitter for Android</td>\n",
              "    </tr>\n",
              "    <tr>\n",
              "      <th>3</th>\n",
              "      <td>iLOT</td>\n",
              "      <td>NaN</td>\n",
              "      <td>2021-07-15 03:20:39+00:00</td>\n",
              "      <td>3201.0</td>\n",
              "      <td>421</td>\n",
              "      <td>FALSE</td>\n",
              "      <td>2023-01-18 13:46:52+00:00</td>\n",
              "      <td>Exactly one month 🏆\\n#QatarWorldCup2022 https:...</td>\n",
              "      <td>TweetDeck</td>\n",
              "    </tr>\n",
              "    <tr>\n",
              "      <th>4</th>\n",
              "      <td>Chanda Dalmiya</td>\n",
              "      <td>Kolkata, India</td>\n",
              "      <td>2020-03-07 10:50:09+00:00</td>\n",
              "      <td>397.0</td>\n",
              "      <td>13600</td>\n",
              "      <td>FALSE</td>\n",
              "      <td>2023-01-18 13:46:34+00:00</td>\n",
              "      <td>@a23_fantasy Answer :- D) 6 Times\\n\\n#ContestA...</td>\n",
              "      <td>Twitter for Android</td>\n",
              "    </tr>\n",
              "  </tbody>\n",
              "</table>\n",
              "</div>\n",
              "      <button class=\"colab-df-convert\" onclick=\"convertToInteractive('df-dd548462-c251-45f9-bd36-af05143b54c0')\"\n",
              "              title=\"Convert this dataframe to an interactive table.\"\n",
              "              style=\"display:none;\">\n",
              "        \n",
              "  <svg xmlns=\"http://www.w3.org/2000/svg\" height=\"24px\"viewBox=\"0 0 24 24\"\n",
              "       width=\"24px\">\n",
              "    <path d=\"M0 0h24v24H0V0z\" fill=\"none\"/>\n",
              "    <path d=\"M18.56 5.44l.94 2.06.94-2.06 2.06-.94-2.06-.94-.94-2.06-.94 2.06-2.06.94zm-11 1L8.5 8.5l.94-2.06 2.06-.94-2.06-.94L8.5 2.5l-.94 2.06-2.06.94zm10 10l.94 2.06.94-2.06 2.06-.94-2.06-.94-.94-2.06-.94 2.06-2.06.94z\"/><path d=\"M17.41 7.96l-1.37-1.37c-.4-.4-.92-.59-1.43-.59-.52 0-1.04.2-1.43.59L10.3 9.45l-7.72 7.72c-.78.78-.78 2.05 0 2.83L4 21.41c.39.39.9.59 1.41.59.51 0 1.02-.2 1.41-.59l7.78-7.78 2.81-2.81c.8-.78.8-2.07 0-2.86zM5.41 20L4 18.59l7.72-7.72 1.47 1.35L5.41 20z\"/>\n",
              "  </svg>\n",
              "      </button>\n",
              "      \n",
              "  <style>\n",
              "    .colab-df-container {\n",
              "      display:flex;\n",
              "      flex-wrap:wrap;\n",
              "      gap: 12px;\n",
              "    }\n",
              "\n",
              "    .colab-df-convert {\n",
              "      background-color: #E8F0FE;\n",
              "      border: none;\n",
              "      border-radius: 50%;\n",
              "      cursor: pointer;\n",
              "      display: none;\n",
              "      fill: #1967D2;\n",
              "      height: 32px;\n",
              "      padding: 0 0 0 0;\n",
              "      width: 32px;\n",
              "    }\n",
              "\n",
              "    .colab-df-convert:hover {\n",
              "      background-color: #E2EBFA;\n",
              "      box-shadow: 0px 1px 2px rgba(60, 64, 67, 0.3), 0px 1px 3px 1px rgba(60, 64, 67, 0.15);\n",
              "      fill: #174EA6;\n",
              "    }\n",
              "\n",
              "    [theme=dark] .colab-df-convert {\n",
              "      background-color: #3B4455;\n",
              "      fill: #D2E3FC;\n",
              "    }\n",
              "\n",
              "    [theme=dark] .colab-df-convert:hover {\n",
              "      background-color: #434B5C;\n",
              "      box-shadow: 0px 1px 3px 1px rgba(0, 0, 0, 0.15);\n",
              "      filter: drop-shadow(0px 1px 2px rgba(0, 0, 0, 0.3));\n",
              "      fill: #FFFFFF;\n",
              "    }\n",
              "  </style>\n",
              "\n",
              "      <script>\n",
              "        const buttonEl =\n",
              "          document.querySelector('#df-dd548462-c251-45f9-bd36-af05143b54c0 button.colab-df-convert');\n",
              "        buttonEl.style.display =\n",
              "          google.colab.kernel.accessAllowed ? 'block' : 'none';\n",
              "\n",
              "        async function convertToInteractive(key) {\n",
              "          const element = document.querySelector('#df-dd548462-c251-45f9-bd36-af05143b54c0');\n",
              "          const dataTable =\n",
              "            await google.colab.kernel.invokeFunction('convertToInteractive',\n",
              "                                                     [key], {});\n",
              "          if (!dataTable) return;\n",
              "\n",
              "          const docLinkHtml = 'Like what you see? Visit the ' +\n",
              "            '<a target=\"_blank\" href=https://colab.research.google.com/notebooks/data_table.ipynb>data table notebook</a>'\n",
              "            + ' to learn more about interactive tables.';\n",
              "          element.innerHTML = '';\n",
              "          dataTable['output_type'] = 'display_data';\n",
              "          await google.colab.output.renderOutput(dataTable, element);\n",
              "          const docLink = document.createElement('div');\n",
              "          docLink.innerHTML = docLinkHtml;\n",
              "          element.appendChild(docLink);\n",
              "        }\n",
              "      </script>\n",
              "    </div>\n",
              "  </div>\n",
              "  "
            ]
          },
          "metadata": {},
          "execution_count": 54
        }
      ]
    },
    {
      "cell_type": "markdown",
      "source": [
        "clearing duplicates"
      ],
      "metadata": {
        "id": "UROuVHCXPcv6"
      }
    },
    {
      "cell_type": "code",
      "source": [
        "tweets.drop_duplicates(subset='text',inplace=True)\n",
        "tweets.info()"
      ],
      "metadata": {
        "colab": {
          "base_uri": "https://localhost:8080/"
        },
        "id": "Nah2kZ6JPUyi",
        "outputId": "7e09f92c-0ee4-4016-ad5f-c66e471aebee"
      },
      "execution_count": 55,
      "outputs": [
        {
          "output_type": "stream",
          "name": "stdout",
          "text": [
            "<class 'pandas.core.frame.DataFrame'>\n",
            "Int64Index: 119970 entries, 0 to 124677\n",
            "Data columns (total 9 columns):\n",
            " #   Column           Non-Null Count   Dtype  \n",
            "---  ------           --------------   -----  \n",
            " 0   user_name        119970 non-null  object \n",
            " 1   user_location    75907 non-null   object \n",
            " 2   user_created     119969 non-null  object \n",
            " 3   user_followers   119969 non-null  float64\n",
            " 4   user_favourites  119969 non-null  object \n",
            " 5   user_verified    119969 non-null  object \n",
            " 6   date             119969 non-null  object \n",
            " 7   text             119969 non-null  object \n",
            " 8   source           119966 non-null  object \n",
            "dtypes: float64(1), object(8)\n",
            "memory usage: 9.2+ MB\n"
          ]
        }
      ]
    },
    {
      "cell_type": "markdown",
      "source": [
        "deep cleaning"
      ],
      "metadata": {
        "id": "V1Nl8CytPttn"
      }
    },
    {
      "cell_type": "code",
      "source": [
        "#replace all NaN values wit an empty string\n",
        "tweets = tweets.replace(np.nan, '')\n",
        "tweets.shape\n",
        "# function for twitter text cleaning\n",
        "def tweet_cleaner(text):\n",
        "    #remove RT\n",
        "    text = re.sub(\"RT @[\\w]*:\",\"\",text)\n",
        "    #remove twitter handles (@user)\n",
        "    text = re.sub(\"(@[A-Za-z0-9_]+)\",\"\", text)\n",
        "    #remove url links\n",
        "    text = re.sub(\"https?://[A-Za-z0-9./]*\",\"\",text)\n",
        "    # remove whitespaces\n",
        "    text = ' '.join(text.split())\n",
        "    return text\n",
        "#Apply text cleaning function to text column in tweets dataframe\n",
        "tweets['text'] = tweets['text'].apply(lambda x:tweet_cleaner(x))\n",
        "tweets.shape"
      ],
      "metadata": {
        "colab": {
          "base_uri": "https://localhost:8080/"
        },
        "id": "SeSRn7TJP1Eb",
        "outputId": "8b1e4011-5eec-46db-e82d-9400c46f6544"
      },
      "execution_count": 56,
      "outputs": [
        {
          "output_type": "execute_result",
          "data": {
            "text/plain": [
              "(119970, 9)"
            ]
          },
          "metadata": {},
          "execution_count": 56
        }
      ]
    },
    {
      "cell_type": "code",
      "source": [
        "tweets = tweets.sample(frac=1)\n",
        "tweets = tweets[:200000]\n",
        "print(\"Dataset shape:\", tweets.shape)"
      ],
      "metadata": {
        "colab": {
          "base_uri": "https://localhost:8080/"
        },
        "id": "ud3ZpKF0eR31",
        "outputId": "37b6c60d-ac02-467c-ae1e-b039c3a2ed81"
      },
      "execution_count": 57,
      "outputs": [
        {
          "output_type": "stream",
          "name": "stdout",
          "text": [
            "Dataset shape: (119970, 9)\n"
          ]
        }
      ]
    },
    {
      "cell_type": "code",
      "source": [
        "!pip install vaderSentiment\n",
        "!pip install twython\n",
        "nltk.download('vader_lexicon')#importing sentimentintensityanaylzer\n",
        "from nltk.sentiment.vader import SentimentIntensityAnalyzer\n",
        "sid = SentimentIntensityAnalyzer()"
      ],
      "metadata": {
        "id": "Eh-75iU6edVQ",
        "colab": {
          "base_uri": "https://localhost:8080/"
        },
        "outputId": "75ed9b9f-d350-4e3e-f322-fe90abeb7ca5"
      },
      "execution_count": 58,
      "outputs": [
        {
          "output_type": "stream",
          "name": "stdout",
          "text": [
            "Looking in indexes: https://pypi.org/simple, https://us-python.pkg.dev/colab-wheels/public/simple/\n",
            "Requirement already satisfied: vaderSentiment in /usr/local/lib/python3.10/dist-packages (3.3.2)\n",
            "Requirement already satisfied: requests in /usr/local/lib/python3.10/dist-packages (from vaderSentiment) (2.27.1)\n",
            "Requirement already satisfied: idna<4,>=2.5 in /usr/local/lib/python3.10/dist-packages (from requests->vaderSentiment) (3.4)\n",
            "Requirement already satisfied: certifi>=2017.4.17 in /usr/local/lib/python3.10/dist-packages (from requests->vaderSentiment) (2022.12.7)\n",
            "Requirement already satisfied: urllib3<1.27,>=1.21.1 in /usr/local/lib/python3.10/dist-packages (from requests->vaderSentiment) (1.26.15)\n",
            "Requirement already satisfied: charset-normalizer~=2.0.0 in /usr/local/lib/python3.10/dist-packages (from requests->vaderSentiment) (2.0.12)\n",
            "Looking in indexes: https://pypi.org/simple, https://us-python.pkg.dev/colab-wheels/public/simple/\n",
            "Requirement already satisfied: twython in /usr/local/lib/python3.10/dist-packages (3.9.1)\n",
            "Requirement already satisfied: requests>=2.1.0 in /usr/local/lib/python3.10/dist-packages (from twython) (2.27.1)\n",
            "Requirement already satisfied: requests-oauthlib>=0.4.0 in /usr/local/lib/python3.10/dist-packages (from twython) (1.3.1)\n",
            "Requirement already satisfied: urllib3<1.27,>=1.21.1 in /usr/local/lib/python3.10/dist-packages (from requests>=2.1.0->twython) (1.26.15)\n",
            "Requirement already satisfied: charset-normalizer~=2.0.0 in /usr/local/lib/python3.10/dist-packages (from requests>=2.1.0->twython) (2.0.12)\n",
            "Requirement already satisfied: certifi>=2017.4.17 in /usr/local/lib/python3.10/dist-packages (from requests>=2.1.0->twython) (2022.12.7)\n",
            "Requirement already satisfied: idna<4,>=2.5 in /usr/local/lib/python3.10/dist-packages (from requests>=2.1.0->twython) (3.4)\n",
            "Requirement already satisfied: oauthlib>=3.0.0 in /usr/local/lib/python3.10/dist-packages (from requests-oauthlib>=0.4.0->twython) (3.2.2)\n"
          ]
        },
        {
          "output_type": "stream",
          "name": "stderr",
          "text": [
            "[nltk_data] Downloading package vader_lexicon to /root/nltk_data...\n",
            "[nltk_data]   Package vader_lexicon is already up-to-date!\n"
          ]
        }
      ]
    },
    {
      "cell_type": "code",
      "source": [
        "tweets['scores'] = tweets['text'].apply(lambda text: sid.polarity_scores(text))\n",
        "tweets.head(5)"
      ],
      "metadata": {
        "colab": {
          "base_uri": "https://localhost:8080/",
          "height": 206
        },
        "id": "YYjKXS7Bef0W",
        "outputId": "c2a53075-b15a-4606-d980-efb05f64f7d6"
      },
      "execution_count": 59,
      "outputs": [
        {
          "output_type": "execute_result",
          "data": {
            "text/plain": [
              "                  user_name              user_location  \\\n",
              "115177        CapitanoRez              Washington, DC   \n",
              "36845   JP Le Grasse Ⓩ 🇨🇵 💤                     France   \n",
              "62060         Manish chouke                      India   \n",
              "69773         Not Elon Musk  Alive in the Superunknown   \n",
              "97224            Idnan Shah                  Dewsbury    \n",
              "\n",
              "                     user_created user_followers user_favourites  \\\n",
              "115177  2022-02-04 20:54:25+00:00          408.0           10202   \n",
              "36845   2009-10-31 15:47:50+00:00         1885.0            6859   \n",
              "62060   2020-02-06 06:22:03+00:00           75.0           43744   \n",
              "69773   2011-06-07 16:38:49+00:00         2606.0           29677   \n",
              "97224   2010-10-04 00:06:41+00:00           56.0             961   \n",
              "\n",
              "       user_verified                       date  \\\n",
              "115177         FALSE  2022-11-21 07:20:16+00:00   \n",
              "36845          FALSE  2022-12-14 21:52:57+00:00   \n",
              "62060          FALSE  2022-12-09 03:02:10+00:00   \n",
              "69773          FALSE  2022-12-09 02:36:05+00:00   \n",
              "97224          FALSE  2022-11-29 19:47:41+00:00   \n",
              "\n",
              "                                                     text  \\\n",
              "115177   Now let this sink in #QatarWorldCup2022 #England   \n",
              "36845      #FraMar #MarFra Maroc, airport is the way 👉🏻😂😂   \n",
              "62060   Brazil #CroatiaVsBrazil #ChaiKings #QatarWorld...   \n",
              "69773   Almost time.... #FIFAWorldCup #NothingLikeOran...   \n",
              "97224   Why are Wales not allowed to touch the ball???...   \n",
              "\n",
              "                     source                                             scores  \n",
              "115177   Twitter for iPhone  {'neg': 0.0, 'neu': 1.0, 'pos': 0.0, 'compound...  \n",
              "36845       Twitter Web App  {'neg': 0.0, 'neu': 1.0, 'pos': 0.0, 'compound...  \n",
              "62060   Twitter for Android  {'neg': 0.0, 'neu': 0.652, 'pos': 0.348, 'comp...  \n",
              "69773   Twitter for Android  {'neg': 0.0, 'neu': 1.0, 'pos': 0.0, 'compound...  \n",
              "97224   Twitter for Android  {'neg': 0.219, 'neu': 0.781, 'pos': 0.0, 'comp...  "
            ],
            "text/html": [
              "\n",
              "  <div id=\"df-d3cd5acd-5783-4dcb-9e35-3c8e0a76c87b\">\n",
              "    <div class=\"colab-df-container\">\n",
              "      <div>\n",
              "<style scoped>\n",
              "    .dataframe tbody tr th:only-of-type {\n",
              "        vertical-align: middle;\n",
              "    }\n",
              "\n",
              "    .dataframe tbody tr th {\n",
              "        vertical-align: top;\n",
              "    }\n",
              "\n",
              "    .dataframe thead th {\n",
              "        text-align: right;\n",
              "    }\n",
              "</style>\n",
              "<table border=\"1\" class=\"dataframe\">\n",
              "  <thead>\n",
              "    <tr style=\"text-align: right;\">\n",
              "      <th></th>\n",
              "      <th>user_name</th>\n",
              "      <th>user_location</th>\n",
              "      <th>user_created</th>\n",
              "      <th>user_followers</th>\n",
              "      <th>user_favourites</th>\n",
              "      <th>user_verified</th>\n",
              "      <th>date</th>\n",
              "      <th>text</th>\n",
              "      <th>source</th>\n",
              "      <th>scores</th>\n",
              "    </tr>\n",
              "  </thead>\n",
              "  <tbody>\n",
              "    <tr>\n",
              "      <th>115177</th>\n",
              "      <td>CapitanoRez </td>\n",
              "      <td>Washington, DC</td>\n",
              "      <td>2022-02-04 20:54:25+00:00</td>\n",
              "      <td>408.0</td>\n",
              "      <td>10202</td>\n",
              "      <td>FALSE</td>\n",
              "      <td>2022-11-21 07:20:16+00:00</td>\n",
              "      <td>Now let this sink in #QatarWorldCup2022 #England</td>\n",
              "      <td>Twitter for iPhone</td>\n",
              "      <td>{'neg': 0.0, 'neu': 1.0, 'pos': 0.0, 'compound...</td>\n",
              "    </tr>\n",
              "    <tr>\n",
              "      <th>36845</th>\n",
              "      <td>JP Le Grasse Ⓩ 🇨🇵 💤</td>\n",
              "      <td>France</td>\n",
              "      <td>2009-10-31 15:47:50+00:00</td>\n",
              "      <td>1885.0</td>\n",
              "      <td>6859</td>\n",
              "      <td>FALSE</td>\n",
              "      <td>2022-12-14 21:52:57+00:00</td>\n",
              "      <td>#FraMar #MarFra Maroc, airport is the way 👉🏻😂😂</td>\n",
              "      <td>Twitter Web App</td>\n",
              "      <td>{'neg': 0.0, 'neu': 1.0, 'pos': 0.0, 'compound...</td>\n",
              "    </tr>\n",
              "    <tr>\n",
              "      <th>62060</th>\n",
              "      <td>Manish chouke</td>\n",
              "      <td>India</td>\n",
              "      <td>2020-02-06 06:22:03+00:00</td>\n",
              "      <td>75.0</td>\n",
              "      <td>43744</td>\n",
              "      <td>FALSE</td>\n",
              "      <td>2022-12-09 03:02:10+00:00</td>\n",
              "      <td>Brazil #CroatiaVsBrazil #ChaiKings #QatarWorld...</td>\n",
              "      <td>Twitter for Android</td>\n",
              "      <td>{'neg': 0.0, 'neu': 0.652, 'pos': 0.348, 'comp...</td>\n",
              "    </tr>\n",
              "    <tr>\n",
              "      <th>69773</th>\n",
              "      <td>Not Elon Musk</td>\n",
              "      <td>Alive in the Superunknown</td>\n",
              "      <td>2011-06-07 16:38:49+00:00</td>\n",
              "      <td>2606.0</td>\n",
              "      <td>29677</td>\n",
              "      <td>FALSE</td>\n",
              "      <td>2022-12-09 02:36:05+00:00</td>\n",
              "      <td>Almost time.... #FIFAWorldCup #NothingLikeOran...</td>\n",
              "      <td>Twitter for Android</td>\n",
              "      <td>{'neg': 0.0, 'neu': 1.0, 'pos': 0.0, 'compound...</td>\n",
              "    </tr>\n",
              "    <tr>\n",
              "      <th>97224</th>\n",
              "      <td>Idnan Shah</td>\n",
              "      <td>Dewsbury</td>\n",
              "      <td>2010-10-04 00:06:41+00:00</td>\n",
              "      <td>56.0</td>\n",
              "      <td>961</td>\n",
              "      <td>FALSE</td>\n",
              "      <td>2022-11-29 19:47:41+00:00</td>\n",
              "      <td>Why are Wales not allowed to touch the ball???...</td>\n",
              "      <td>Twitter for Android</td>\n",
              "      <td>{'neg': 0.219, 'neu': 0.781, 'pos': 0.0, 'comp...</td>\n",
              "    </tr>\n",
              "  </tbody>\n",
              "</table>\n",
              "</div>\n",
              "      <button class=\"colab-df-convert\" onclick=\"convertToInteractive('df-d3cd5acd-5783-4dcb-9e35-3c8e0a76c87b')\"\n",
              "              title=\"Convert this dataframe to an interactive table.\"\n",
              "              style=\"display:none;\">\n",
              "        \n",
              "  <svg xmlns=\"http://www.w3.org/2000/svg\" height=\"24px\"viewBox=\"0 0 24 24\"\n",
              "       width=\"24px\">\n",
              "    <path d=\"M0 0h24v24H0V0z\" fill=\"none\"/>\n",
              "    <path d=\"M18.56 5.44l.94 2.06.94-2.06 2.06-.94-2.06-.94-.94-2.06-.94 2.06-2.06.94zm-11 1L8.5 8.5l.94-2.06 2.06-.94-2.06-.94L8.5 2.5l-.94 2.06-2.06.94zm10 10l.94 2.06.94-2.06 2.06-.94-2.06-.94-.94-2.06-.94 2.06-2.06.94z\"/><path d=\"M17.41 7.96l-1.37-1.37c-.4-.4-.92-.59-1.43-.59-.52 0-1.04.2-1.43.59L10.3 9.45l-7.72 7.72c-.78.78-.78 2.05 0 2.83L4 21.41c.39.39.9.59 1.41.59.51 0 1.02-.2 1.41-.59l7.78-7.78 2.81-2.81c.8-.78.8-2.07 0-2.86zM5.41 20L4 18.59l7.72-7.72 1.47 1.35L5.41 20z\"/>\n",
              "  </svg>\n",
              "      </button>\n",
              "      \n",
              "  <style>\n",
              "    .colab-df-container {\n",
              "      display:flex;\n",
              "      flex-wrap:wrap;\n",
              "      gap: 12px;\n",
              "    }\n",
              "\n",
              "    .colab-df-convert {\n",
              "      background-color: #E8F0FE;\n",
              "      border: none;\n",
              "      border-radius: 50%;\n",
              "      cursor: pointer;\n",
              "      display: none;\n",
              "      fill: #1967D2;\n",
              "      height: 32px;\n",
              "      padding: 0 0 0 0;\n",
              "      width: 32px;\n",
              "    }\n",
              "\n",
              "    .colab-df-convert:hover {\n",
              "      background-color: #E2EBFA;\n",
              "      box-shadow: 0px 1px 2px rgba(60, 64, 67, 0.3), 0px 1px 3px 1px rgba(60, 64, 67, 0.15);\n",
              "      fill: #174EA6;\n",
              "    }\n",
              "\n",
              "    [theme=dark] .colab-df-convert {\n",
              "      background-color: #3B4455;\n",
              "      fill: #D2E3FC;\n",
              "    }\n",
              "\n",
              "    [theme=dark] .colab-df-convert:hover {\n",
              "      background-color: #434B5C;\n",
              "      box-shadow: 0px 1px 3px 1px rgba(0, 0, 0, 0.15);\n",
              "      filter: drop-shadow(0px 1px 2px rgba(0, 0, 0, 0.3));\n",
              "      fill: #FFFFFF;\n",
              "    }\n",
              "  </style>\n",
              "\n",
              "      <script>\n",
              "        const buttonEl =\n",
              "          document.querySelector('#df-d3cd5acd-5783-4dcb-9e35-3c8e0a76c87b button.colab-df-convert');\n",
              "        buttonEl.style.display =\n",
              "          google.colab.kernel.accessAllowed ? 'block' : 'none';\n",
              "\n",
              "        async function convertToInteractive(key) {\n",
              "          const element = document.querySelector('#df-d3cd5acd-5783-4dcb-9e35-3c8e0a76c87b');\n",
              "          const dataTable =\n",
              "            await google.colab.kernel.invokeFunction('convertToInteractive',\n",
              "                                                     [key], {});\n",
              "          if (!dataTable) return;\n",
              "\n",
              "          const docLinkHtml = 'Like what you see? Visit the ' +\n",
              "            '<a target=\"_blank\" href=https://colab.research.google.com/notebooks/data_table.ipynb>data table notebook</a>'\n",
              "            + ' to learn more about interactive tables.';\n",
              "          element.innerHTML = '';\n",
              "          dataTable['output_type'] = 'display_data';\n",
              "          await google.colab.output.renderOutput(dataTable, element);\n",
              "          const docLink = document.createElement('div');\n",
              "          docLink.innerHTML = docLinkHtml;\n",
              "          element.appendChild(docLink);\n",
              "        }\n",
              "      </script>\n",
              "    </div>\n",
              "  </div>\n",
              "  "
            ]
          },
          "metadata": {},
          "execution_count": 59
        }
      ]
    },
    {
      "cell_type": "code",
      "source": [
        "def sentimentPredict(sentiment):\n",
        "    if sentiment['compound'] >= 0.05:\n",
        "      return \"Positive\"\n",
        "    elif sentiment['compound'] <= -0.05: \n",
        "      return \"Negative\"\n",
        "    else:\n",
        "      return \"Neutral\"\n",
        "final_df = tweets\n",
        "tweets['sentiment'] = final_df['scores'].apply(lambda x: sentimentPredict(x))\n",
        "tweets.head(5)"
      ],
      "metadata": {
        "colab": {
          "base_uri": "https://localhost:8080/",
          "height": 337
        },
        "id": "QRHit6MyfYe1",
        "outputId": "6ccef523-3f81-49c7-dddd-8f4bcb136999"
      },
      "execution_count": 60,
      "outputs": [
        {
          "output_type": "execute_result",
          "data": {
            "text/plain": [
              "                  user_name              user_location  \\\n",
              "115177        CapitanoRez              Washington, DC   \n",
              "36845   JP Le Grasse Ⓩ 🇨🇵 💤                     France   \n",
              "62060         Manish chouke                      India   \n",
              "69773         Not Elon Musk  Alive in the Superunknown   \n",
              "97224            Idnan Shah                  Dewsbury    \n",
              "\n",
              "                     user_created user_followers user_favourites  \\\n",
              "115177  2022-02-04 20:54:25+00:00          408.0           10202   \n",
              "36845   2009-10-31 15:47:50+00:00         1885.0            6859   \n",
              "62060   2020-02-06 06:22:03+00:00           75.0           43744   \n",
              "69773   2011-06-07 16:38:49+00:00         2606.0           29677   \n",
              "97224   2010-10-04 00:06:41+00:00           56.0             961   \n",
              "\n",
              "       user_verified                       date  \\\n",
              "115177         FALSE  2022-11-21 07:20:16+00:00   \n",
              "36845          FALSE  2022-12-14 21:52:57+00:00   \n",
              "62060          FALSE  2022-12-09 03:02:10+00:00   \n",
              "69773          FALSE  2022-12-09 02:36:05+00:00   \n",
              "97224          FALSE  2022-11-29 19:47:41+00:00   \n",
              "\n",
              "                                                     text  \\\n",
              "115177   Now let this sink in #QatarWorldCup2022 #England   \n",
              "36845      #FraMar #MarFra Maroc, airport is the way 👉🏻😂😂   \n",
              "62060   Brazil #CroatiaVsBrazil #ChaiKings #QatarWorld...   \n",
              "69773   Almost time.... #FIFAWorldCup #NothingLikeOran...   \n",
              "97224   Why are Wales not allowed to touch the ball???...   \n",
              "\n",
              "                     source  \\\n",
              "115177   Twitter for iPhone   \n",
              "36845       Twitter Web App   \n",
              "62060   Twitter for Android   \n",
              "69773   Twitter for Android   \n",
              "97224   Twitter for Android   \n",
              "\n",
              "                                                   scores sentiment  \n",
              "115177  {'neg': 0.0, 'neu': 1.0, 'pos': 0.0, 'compound...   Neutral  \n",
              "36845   {'neg': 0.0, 'neu': 1.0, 'pos': 0.0, 'compound...   Neutral  \n",
              "62060   {'neg': 0.0, 'neu': 0.652, 'pos': 0.348, 'comp...  Positive  \n",
              "69773   {'neg': 0.0, 'neu': 1.0, 'pos': 0.0, 'compound...   Neutral  \n",
              "97224   {'neg': 0.219, 'neu': 0.781, 'pos': 0.0, 'comp...  Negative  "
            ],
            "text/html": [
              "\n",
              "  <div id=\"df-4d751773-f1a5-41e5-98a7-aec97cf80ce7\">\n",
              "    <div class=\"colab-df-container\">\n",
              "      <div>\n",
              "<style scoped>\n",
              "    .dataframe tbody tr th:only-of-type {\n",
              "        vertical-align: middle;\n",
              "    }\n",
              "\n",
              "    .dataframe tbody tr th {\n",
              "        vertical-align: top;\n",
              "    }\n",
              "\n",
              "    .dataframe thead th {\n",
              "        text-align: right;\n",
              "    }\n",
              "</style>\n",
              "<table border=\"1\" class=\"dataframe\">\n",
              "  <thead>\n",
              "    <tr style=\"text-align: right;\">\n",
              "      <th></th>\n",
              "      <th>user_name</th>\n",
              "      <th>user_location</th>\n",
              "      <th>user_created</th>\n",
              "      <th>user_followers</th>\n",
              "      <th>user_favourites</th>\n",
              "      <th>user_verified</th>\n",
              "      <th>date</th>\n",
              "      <th>text</th>\n",
              "      <th>source</th>\n",
              "      <th>scores</th>\n",
              "      <th>sentiment</th>\n",
              "    </tr>\n",
              "  </thead>\n",
              "  <tbody>\n",
              "    <tr>\n",
              "      <th>115177</th>\n",
              "      <td>CapitanoRez </td>\n",
              "      <td>Washington, DC</td>\n",
              "      <td>2022-02-04 20:54:25+00:00</td>\n",
              "      <td>408.0</td>\n",
              "      <td>10202</td>\n",
              "      <td>FALSE</td>\n",
              "      <td>2022-11-21 07:20:16+00:00</td>\n",
              "      <td>Now let this sink in #QatarWorldCup2022 #England</td>\n",
              "      <td>Twitter for iPhone</td>\n",
              "      <td>{'neg': 0.0, 'neu': 1.0, 'pos': 0.0, 'compound...</td>\n",
              "      <td>Neutral</td>\n",
              "    </tr>\n",
              "    <tr>\n",
              "      <th>36845</th>\n",
              "      <td>JP Le Grasse Ⓩ 🇨🇵 💤</td>\n",
              "      <td>France</td>\n",
              "      <td>2009-10-31 15:47:50+00:00</td>\n",
              "      <td>1885.0</td>\n",
              "      <td>6859</td>\n",
              "      <td>FALSE</td>\n",
              "      <td>2022-12-14 21:52:57+00:00</td>\n",
              "      <td>#FraMar #MarFra Maroc, airport is the way 👉🏻😂😂</td>\n",
              "      <td>Twitter Web App</td>\n",
              "      <td>{'neg': 0.0, 'neu': 1.0, 'pos': 0.0, 'compound...</td>\n",
              "      <td>Neutral</td>\n",
              "    </tr>\n",
              "    <tr>\n",
              "      <th>62060</th>\n",
              "      <td>Manish chouke</td>\n",
              "      <td>India</td>\n",
              "      <td>2020-02-06 06:22:03+00:00</td>\n",
              "      <td>75.0</td>\n",
              "      <td>43744</td>\n",
              "      <td>FALSE</td>\n",
              "      <td>2022-12-09 03:02:10+00:00</td>\n",
              "      <td>Brazil #CroatiaVsBrazil #ChaiKings #QatarWorld...</td>\n",
              "      <td>Twitter for Android</td>\n",
              "      <td>{'neg': 0.0, 'neu': 0.652, 'pos': 0.348, 'comp...</td>\n",
              "      <td>Positive</td>\n",
              "    </tr>\n",
              "    <tr>\n",
              "      <th>69773</th>\n",
              "      <td>Not Elon Musk</td>\n",
              "      <td>Alive in the Superunknown</td>\n",
              "      <td>2011-06-07 16:38:49+00:00</td>\n",
              "      <td>2606.0</td>\n",
              "      <td>29677</td>\n",
              "      <td>FALSE</td>\n",
              "      <td>2022-12-09 02:36:05+00:00</td>\n",
              "      <td>Almost time.... #FIFAWorldCup #NothingLikeOran...</td>\n",
              "      <td>Twitter for Android</td>\n",
              "      <td>{'neg': 0.0, 'neu': 1.0, 'pos': 0.0, 'compound...</td>\n",
              "      <td>Neutral</td>\n",
              "    </tr>\n",
              "    <tr>\n",
              "      <th>97224</th>\n",
              "      <td>Idnan Shah</td>\n",
              "      <td>Dewsbury</td>\n",
              "      <td>2010-10-04 00:06:41+00:00</td>\n",
              "      <td>56.0</td>\n",
              "      <td>961</td>\n",
              "      <td>FALSE</td>\n",
              "      <td>2022-11-29 19:47:41+00:00</td>\n",
              "      <td>Why are Wales not allowed to touch the ball???...</td>\n",
              "      <td>Twitter for Android</td>\n",
              "      <td>{'neg': 0.219, 'neu': 0.781, 'pos': 0.0, 'comp...</td>\n",
              "      <td>Negative</td>\n",
              "    </tr>\n",
              "  </tbody>\n",
              "</table>\n",
              "</div>\n",
              "      <button class=\"colab-df-convert\" onclick=\"convertToInteractive('df-4d751773-f1a5-41e5-98a7-aec97cf80ce7')\"\n",
              "              title=\"Convert this dataframe to an interactive table.\"\n",
              "              style=\"display:none;\">\n",
              "        \n",
              "  <svg xmlns=\"http://www.w3.org/2000/svg\" height=\"24px\"viewBox=\"0 0 24 24\"\n",
              "       width=\"24px\">\n",
              "    <path d=\"M0 0h24v24H0V0z\" fill=\"none\"/>\n",
              "    <path d=\"M18.56 5.44l.94 2.06.94-2.06 2.06-.94-2.06-.94-.94-2.06-.94 2.06-2.06.94zm-11 1L8.5 8.5l.94-2.06 2.06-.94-2.06-.94L8.5 2.5l-.94 2.06-2.06.94zm10 10l.94 2.06.94-2.06 2.06-.94-2.06-.94-.94-2.06-.94 2.06-2.06.94z\"/><path d=\"M17.41 7.96l-1.37-1.37c-.4-.4-.92-.59-1.43-.59-.52 0-1.04.2-1.43.59L10.3 9.45l-7.72 7.72c-.78.78-.78 2.05 0 2.83L4 21.41c.39.39.9.59 1.41.59.51 0 1.02-.2 1.41-.59l7.78-7.78 2.81-2.81c.8-.78.8-2.07 0-2.86zM5.41 20L4 18.59l7.72-7.72 1.47 1.35L5.41 20z\"/>\n",
              "  </svg>\n",
              "      </button>\n",
              "      \n",
              "  <style>\n",
              "    .colab-df-container {\n",
              "      display:flex;\n",
              "      flex-wrap:wrap;\n",
              "      gap: 12px;\n",
              "    }\n",
              "\n",
              "    .colab-df-convert {\n",
              "      background-color: #E8F0FE;\n",
              "      border: none;\n",
              "      border-radius: 50%;\n",
              "      cursor: pointer;\n",
              "      display: none;\n",
              "      fill: #1967D2;\n",
              "      height: 32px;\n",
              "      padding: 0 0 0 0;\n",
              "      width: 32px;\n",
              "    }\n",
              "\n",
              "    .colab-df-convert:hover {\n",
              "      background-color: #E2EBFA;\n",
              "      box-shadow: 0px 1px 2px rgba(60, 64, 67, 0.3), 0px 1px 3px 1px rgba(60, 64, 67, 0.15);\n",
              "      fill: #174EA6;\n",
              "    }\n",
              "\n",
              "    [theme=dark] .colab-df-convert {\n",
              "      background-color: #3B4455;\n",
              "      fill: #D2E3FC;\n",
              "    }\n",
              "\n",
              "    [theme=dark] .colab-df-convert:hover {\n",
              "      background-color: #434B5C;\n",
              "      box-shadow: 0px 1px 3px 1px rgba(0, 0, 0, 0.15);\n",
              "      filter: drop-shadow(0px 1px 2px rgba(0, 0, 0, 0.3));\n",
              "      fill: #FFFFFF;\n",
              "    }\n",
              "  </style>\n",
              "\n",
              "      <script>\n",
              "        const buttonEl =\n",
              "          document.querySelector('#df-4d751773-f1a5-41e5-98a7-aec97cf80ce7 button.colab-df-convert');\n",
              "        buttonEl.style.display =\n",
              "          google.colab.kernel.accessAllowed ? 'block' : 'none';\n",
              "\n",
              "        async function convertToInteractive(key) {\n",
              "          const element = document.querySelector('#df-4d751773-f1a5-41e5-98a7-aec97cf80ce7');\n",
              "          const dataTable =\n",
              "            await google.colab.kernel.invokeFunction('convertToInteractive',\n",
              "                                                     [key], {});\n",
              "          if (!dataTable) return;\n",
              "\n",
              "          const docLinkHtml = 'Like what you see? Visit the ' +\n",
              "            '<a target=\"_blank\" href=https://colab.research.google.com/notebooks/data_table.ipynb>data table notebook</a>'\n",
              "            + ' to learn more about interactive tables.';\n",
              "          element.innerHTML = '';\n",
              "          dataTable['output_type'] = 'display_data';\n",
              "          await google.colab.output.renderOutput(dataTable, element);\n",
              "          const docLink = document.createElement('div');\n",
              "          docLink.innerHTML = docLinkHtml;\n",
              "          element.appendChild(docLink);\n",
              "        }\n",
              "      </script>\n",
              "    </div>\n",
              "  </div>\n",
              "  "
            ]
          },
          "metadata": {},
          "execution_count": 60
        }
      ]
    },
    {
      "cell_type": "code",
      "source": [
        "tweets = tweets.replace(['Positive','Neutral','Negative'],[2, 1, 0])"
      ],
      "metadata": {
        "id": "aONE9tCWe_KA"
      },
      "execution_count": 61,
      "outputs": []
    },
    {
      "cell_type": "code",
      "source": [
        "tweets.head(5)"
      ],
      "metadata": {
        "colab": {
          "base_uri": "https://localhost:8080/",
          "height": 337
        },
        "id": "dzZfS1Ihfi1c",
        "outputId": "bd43b139-18c8-4d98-e6d9-3c28196e5f67"
      },
      "execution_count": 62,
      "outputs": [
        {
          "output_type": "execute_result",
          "data": {
            "text/plain": [
              "                  user_name              user_location  \\\n",
              "115177        CapitanoRez              Washington, DC   \n",
              "36845   JP Le Grasse Ⓩ 🇨🇵 💤                     France   \n",
              "62060         Manish chouke                      India   \n",
              "69773         Not Elon Musk  Alive in the Superunknown   \n",
              "97224            Idnan Shah                  Dewsbury    \n",
              "\n",
              "                     user_created user_followers user_favourites  \\\n",
              "115177  2022-02-04 20:54:25+00:00          408.0           10202   \n",
              "36845   2009-10-31 15:47:50+00:00         1885.0            6859   \n",
              "62060   2020-02-06 06:22:03+00:00           75.0           43744   \n",
              "69773   2011-06-07 16:38:49+00:00         2606.0           29677   \n",
              "97224   2010-10-04 00:06:41+00:00           56.0             961   \n",
              "\n",
              "       user_verified                       date  \\\n",
              "115177         FALSE  2022-11-21 07:20:16+00:00   \n",
              "36845          FALSE  2022-12-14 21:52:57+00:00   \n",
              "62060          FALSE  2022-12-09 03:02:10+00:00   \n",
              "69773          FALSE  2022-12-09 02:36:05+00:00   \n",
              "97224          FALSE  2022-11-29 19:47:41+00:00   \n",
              "\n",
              "                                                     text  \\\n",
              "115177   Now let this sink in #QatarWorldCup2022 #England   \n",
              "36845      #FraMar #MarFra Maroc, airport is the way 👉🏻😂😂   \n",
              "62060   Brazil #CroatiaVsBrazil #ChaiKings #QatarWorld...   \n",
              "69773   Almost time.... #FIFAWorldCup #NothingLikeOran...   \n",
              "97224   Why are Wales not allowed to touch the ball???...   \n",
              "\n",
              "                     source  \\\n",
              "115177   Twitter for iPhone   \n",
              "36845       Twitter Web App   \n",
              "62060   Twitter for Android   \n",
              "69773   Twitter for Android   \n",
              "97224   Twitter for Android   \n",
              "\n",
              "                                                   scores  sentiment  \n",
              "115177  {'neg': 0.0, 'neu': 1.0, 'pos': 0.0, 'compound...          1  \n",
              "36845   {'neg': 0.0, 'neu': 1.0, 'pos': 0.0, 'compound...          1  \n",
              "62060   {'neg': 0.0, 'neu': 0.652, 'pos': 0.348, 'comp...          2  \n",
              "69773   {'neg': 0.0, 'neu': 1.0, 'pos': 0.0, 'compound...          1  \n",
              "97224   {'neg': 0.219, 'neu': 0.781, 'pos': 0.0, 'comp...          0  "
            ],
            "text/html": [
              "\n",
              "  <div id=\"df-fbb139f3-3c9d-4ebf-8cd1-8d0c04f4b943\">\n",
              "    <div class=\"colab-df-container\">\n",
              "      <div>\n",
              "<style scoped>\n",
              "    .dataframe tbody tr th:only-of-type {\n",
              "        vertical-align: middle;\n",
              "    }\n",
              "\n",
              "    .dataframe tbody tr th {\n",
              "        vertical-align: top;\n",
              "    }\n",
              "\n",
              "    .dataframe thead th {\n",
              "        text-align: right;\n",
              "    }\n",
              "</style>\n",
              "<table border=\"1\" class=\"dataframe\">\n",
              "  <thead>\n",
              "    <tr style=\"text-align: right;\">\n",
              "      <th></th>\n",
              "      <th>user_name</th>\n",
              "      <th>user_location</th>\n",
              "      <th>user_created</th>\n",
              "      <th>user_followers</th>\n",
              "      <th>user_favourites</th>\n",
              "      <th>user_verified</th>\n",
              "      <th>date</th>\n",
              "      <th>text</th>\n",
              "      <th>source</th>\n",
              "      <th>scores</th>\n",
              "      <th>sentiment</th>\n",
              "    </tr>\n",
              "  </thead>\n",
              "  <tbody>\n",
              "    <tr>\n",
              "      <th>115177</th>\n",
              "      <td>CapitanoRez </td>\n",
              "      <td>Washington, DC</td>\n",
              "      <td>2022-02-04 20:54:25+00:00</td>\n",
              "      <td>408.0</td>\n",
              "      <td>10202</td>\n",
              "      <td>FALSE</td>\n",
              "      <td>2022-11-21 07:20:16+00:00</td>\n",
              "      <td>Now let this sink in #QatarWorldCup2022 #England</td>\n",
              "      <td>Twitter for iPhone</td>\n",
              "      <td>{'neg': 0.0, 'neu': 1.0, 'pos': 0.0, 'compound...</td>\n",
              "      <td>1</td>\n",
              "    </tr>\n",
              "    <tr>\n",
              "      <th>36845</th>\n",
              "      <td>JP Le Grasse Ⓩ 🇨🇵 💤</td>\n",
              "      <td>France</td>\n",
              "      <td>2009-10-31 15:47:50+00:00</td>\n",
              "      <td>1885.0</td>\n",
              "      <td>6859</td>\n",
              "      <td>FALSE</td>\n",
              "      <td>2022-12-14 21:52:57+00:00</td>\n",
              "      <td>#FraMar #MarFra Maroc, airport is the way 👉🏻😂😂</td>\n",
              "      <td>Twitter Web App</td>\n",
              "      <td>{'neg': 0.0, 'neu': 1.0, 'pos': 0.0, 'compound...</td>\n",
              "      <td>1</td>\n",
              "    </tr>\n",
              "    <tr>\n",
              "      <th>62060</th>\n",
              "      <td>Manish chouke</td>\n",
              "      <td>India</td>\n",
              "      <td>2020-02-06 06:22:03+00:00</td>\n",
              "      <td>75.0</td>\n",
              "      <td>43744</td>\n",
              "      <td>FALSE</td>\n",
              "      <td>2022-12-09 03:02:10+00:00</td>\n",
              "      <td>Brazil #CroatiaVsBrazil #ChaiKings #QatarWorld...</td>\n",
              "      <td>Twitter for Android</td>\n",
              "      <td>{'neg': 0.0, 'neu': 0.652, 'pos': 0.348, 'comp...</td>\n",
              "      <td>2</td>\n",
              "    </tr>\n",
              "    <tr>\n",
              "      <th>69773</th>\n",
              "      <td>Not Elon Musk</td>\n",
              "      <td>Alive in the Superunknown</td>\n",
              "      <td>2011-06-07 16:38:49+00:00</td>\n",
              "      <td>2606.0</td>\n",
              "      <td>29677</td>\n",
              "      <td>FALSE</td>\n",
              "      <td>2022-12-09 02:36:05+00:00</td>\n",
              "      <td>Almost time.... #FIFAWorldCup #NothingLikeOran...</td>\n",
              "      <td>Twitter for Android</td>\n",
              "      <td>{'neg': 0.0, 'neu': 1.0, 'pos': 0.0, 'compound...</td>\n",
              "      <td>1</td>\n",
              "    </tr>\n",
              "    <tr>\n",
              "      <th>97224</th>\n",
              "      <td>Idnan Shah</td>\n",
              "      <td>Dewsbury</td>\n",
              "      <td>2010-10-04 00:06:41+00:00</td>\n",
              "      <td>56.0</td>\n",
              "      <td>961</td>\n",
              "      <td>FALSE</td>\n",
              "      <td>2022-11-29 19:47:41+00:00</td>\n",
              "      <td>Why are Wales not allowed to touch the ball???...</td>\n",
              "      <td>Twitter for Android</td>\n",
              "      <td>{'neg': 0.219, 'neu': 0.781, 'pos': 0.0, 'comp...</td>\n",
              "      <td>0</td>\n",
              "    </tr>\n",
              "  </tbody>\n",
              "</table>\n",
              "</div>\n",
              "      <button class=\"colab-df-convert\" onclick=\"convertToInteractive('df-fbb139f3-3c9d-4ebf-8cd1-8d0c04f4b943')\"\n",
              "              title=\"Convert this dataframe to an interactive table.\"\n",
              "              style=\"display:none;\">\n",
              "        \n",
              "  <svg xmlns=\"http://www.w3.org/2000/svg\" height=\"24px\"viewBox=\"0 0 24 24\"\n",
              "       width=\"24px\">\n",
              "    <path d=\"M0 0h24v24H0V0z\" fill=\"none\"/>\n",
              "    <path d=\"M18.56 5.44l.94 2.06.94-2.06 2.06-.94-2.06-.94-.94-2.06-.94 2.06-2.06.94zm-11 1L8.5 8.5l.94-2.06 2.06-.94-2.06-.94L8.5 2.5l-.94 2.06-2.06.94zm10 10l.94 2.06.94-2.06 2.06-.94-2.06-.94-.94-2.06-.94 2.06-2.06.94z\"/><path d=\"M17.41 7.96l-1.37-1.37c-.4-.4-.92-.59-1.43-.59-.52 0-1.04.2-1.43.59L10.3 9.45l-7.72 7.72c-.78.78-.78 2.05 0 2.83L4 21.41c.39.39.9.59 1.41.59.51 0 1.02-.2 1.41-.59l7.78-7.78 2.81-2.81c.8-.78.8-2.07 0-2.86zM5.41 20L4 18.59l7.72-7.72 1.47 1.35L5.41 20z\"/>\n",
              "  </svg>\n",
              "      </button>\n",
              "      \n",
              "  <style>\n",
              "    .colab-df-container {\n",
              "      display:flex;\n",
              "      flex-wrap:wrap;\n",
              "      gap: 12px;\n",
              "    }\n",
              "\n",
              "    .colab-df-convert {\n",
              "      background-color: #E8F0FE;\n",
              "      border: none;\n",
              "      border-radius: 50%;\n",
              "      cursor: pointer;\n",
              "      display: none;\n",
              "      fill: #1967D2;\n",
              "      height: 32px;\n",
              "      padding: 0 0 0 0;\n",
              "      width: 32px;\n",
              "    }\n",
              "\n",
              "    .colab-df-convert:hover {\n",
              "      background-color: #E2EBFA;\n",
              "      box-shadow: 0px 1px 2px rgba(60, 64, 67, 0.3), 0px 1px 3px 1px rgba(60, 64, 67, 0.15);\n",
              "      fill: #174EA6;\n",
              "    }\n",
              "\n",
              "    [theme=dark] .colab-df-convert {\n",
              "      background-color: #3B4455;\n",
              "      fill: #D2E3FC;\n",
              "    }\n",
              "\n",
              "    [theme=dark] .colab-df-convert:hover {\n",
              "      background-color: #434B5C;\n",
              "      box-shadow: 0px 1px 3px 1px rgba(0, 0, 0, 0.15);\n",
              "      filter: drop-shadow(0px 1px 2px rgba(0, 0, 0, 0.3));\n",
              "      fill: #FFFFFF;\n",
              "    }\n",
              "  </style>\n",
              "\n",
              "      <script>\n",
              "        const buttonEl =\n",
              "          document.querySelector('#df-fbb139f3-3c9d-4ebf-8cd1-8d0c04f4b943 button.colab-df-convert');\n",
              "        buttonEl.style.display =\n",
              "          google.colab.kernel.accessAllowed ? 'block' : 'none';\n",
              "\n",
              "        async function convertToInteractive(key) {\n",
              "          const element = document.querySelector('#df-fbb139f3-3c9d-4ebf-8cd1-8d0c04f4b943');\n",
              "          const dataTable =\n",
              "            await google.colab.kernel.invokeFunction('convertToInteractive',\n",
              "                                                     [key], {});\n",
              "          if (!dataTable) return;\n",
              "\n",
              "          const docLinkHtml = 'Like what you see? Visit the ' +\n",
              "            '<a target=\"_blank\" href=https://colab.research.google.com/notebooks/data_table.ipynb>data table notebook</a>'\n",
              "            + ' to learn more about interactive tables.';\n",
              "          element.innerHTML = '';\n",
              "          dataTable['output_type'] = 'display_data';\n",
              "          await google.colab.output.renderOutput(dataTable, element);\n",
              "          const docLink = document.createElement('div');\n",
              "          docLink.innerHTML = docLinkHtml;\n",
              "          element.appendChild(docLink);\n",
              "        }\n",
              "      </script>\n",
              "    </div>\n",
              "  </div>\n",
              "  "
            ]
          },
          "metadata": {},
          "execution_count": 62
        }
      ]
    },
    {
      "cell_type": "code",
      "source": [
        "tweets.drop(['user_name','user_location','user_created','user_followers','user_favourites','user_verified','date','source','scores'], axis=1, inplace=True)"
      ],
      "metadata": {
        "id": "flDBMcNwf7tf"
      },
      "execution_count": 63,
      "outputs": []
    },
    {
      "cell_type": "code",
      "source": [
        "tweets['text'] = tweets['text'].astype('str')"
      ],
      "metadata": {
        "id": "Tn5latjVgtm7"
      },
      "execution_count": 64,
      "outputs": []
    },
    {
      "cell_type": "markdown",
      "source": [
        "\n",
        "Check the number of positive vs. negative tagged sentences"
      ],
      "metadata": {
        "id": "AOPqrswSg8r8"
      }
    },
    {
      "cell_type": "code",
      "source": [
        "positives = tweets['sentiment'][tweets.sentiment == 2 ]\n",
        "negatives = tweets['sentiment'][tweets.sentiment == 0 ]\n",
        "\n",
        "print('Total length of the data is:         {}'.format(tweets.shape[0]))\n",
        "print('No. of positve tagged sentences is:  {}'.format(len(positives)))\n",
        "print('No. of negative tagged sentences is: {}'.format(len(negatives)))"
      ],
      "metadata": {
        "colab": {
          "base_uri": "https://localhost:8080/"
        },
        "id": "Q4Iz7Ak7g128",
        "outputId": "ffbb67fa-7ad5-4f97-f929-2954ed1fb202"
      },
      "execution_count": 65,
      "outputs": [
        {
          "output_type": "stream",
          "name": "stdout",
          "text": [
            "Total length of the data is:         119970\n",
            "No. of positve tagged sentences is:  55120\n",
            "No. of negative tagged sentences is: 20564\n"
          ]
        }
      ]
    },
    {
      "cell_type": "code",
      "source": [
        "from nltk.stem import WordNetLemmatizer\n",
        "from nltk.corpus import stopwords\n",
        "from nltk.tokenize import word_tokenize\n",
        "\n",
        "nltk.download('stopwords')\n",
        "stopword = set(stopwords.words('english'))"
      ],
      "metadata": {
        "colab": {
          "base_uri": "https://localhost:8080/"
        },
        "id": "m6EvRyCPhBYo",
        "outputId": "48bcb915-14b3-4e6b-85e6-c2e409fa0f3d"
      },
      "execution_count": 66,
      "outputs": [
        {
          "output_type": "stream",
          "name": "stderr",
          "text": [
            "[nltk_data] Downloading package stopwords to /root/nltk_data...\n",
            "[nltk_data]   Package stopwords is already up-to-date!\n"
          ]
        }
      ]
    },
    {
      "cell_type": "code",
      "source": [
        "#removing shortwords\n",
        "tweets['text']=tweets['text'].apply(lambda x: \" \".join([w for w in x.split() if len(w)>3]))\n",
        "tweets.head(5)"
      ],
      "metadata": {
        "colab": {
          "base_uri": "https://localhost:8080/",
          "height": 206
        },
        "id": "Jik6EVzliI7g",
        "outputId": "6dc6b5b6-5e0a-4f14-92f5-b34279aef88f"
      },
      "execution_count": 67,
      "outputs": [
        {
          "output_type": "execute_result",
          "data": {
            "text/plain": [
              "                                                     text  sentiment\n",
              "115177              this sink #QatarWorldCup2022 #England          1\n",
              "36845                 #FraMar #MarFra Maroc, airport 👉🏻😂😂          1\n",
              "62060   Brazil #CroatiaVsBrazil #ChaiKings #QatarWorld...          2\n",
              "69773   Almost time.... #FIFAWorldCup #NothingLikeOran...          1\n",
              "97224   Wales allowed touch ball??? unfair. #ENGvsWale...          0"
            ],
            "text/html": [
              "\n",
              "  <div id=\"df-819e6514-2b38-483c-a506-e61cf3a2e687\">\n",
              "    <div class=\"colab-df-container\">\n",
              "      <div>\n",
              "<style scoped>\n",
              "    .dataframe tbody tr th:only-of-type {\n",
              "        vertical-align: middle;\n",
              "    }\n",
              "\n",
              "    .dataframe tbody tr th {\n",
              "        vertical-align: top;\n",
              "    }\n",
              "\n",
              "    .dataframe thead th {\n",
              "        text-align: right;\n",
              "    }\n",
              "</style>\n",
              "<table border=\"1\" class=\"dataframe\">\n",
              "  <thead>\n",
              "    <tr style=\"text-align: right;\">\n",
              "      <th></th>\n",
              "      <th>text</th>\n",
              "      <th>sentiment</th>\n",
              "    </tr>\n",
              "  </thead>\n",
              "  <tbody>\n",
              "    <tr>\n",
              "      <th>115177</th>\n",
              "      <td>this sink #QatarWorldCup2022 #England</td>\n",
              "      <td>1</td>\n",
              "    </tr>\n",
              "    <tr>\n",
              "      <th>36845</th>\n",
              "      <td>#FraMar #MarFra Maroc, airport 👉🏻😂😂</td>\n",
              "      <td>1</td>\n",
              "    </tr>\n",
              "    <tr>\n",
              "      <th>62060</th>\n",
              "      <td>Brazil #CroatiaVsBrazil #ChaiKings #QatarWorld...</td>\n",
              "      <td>2</td>\n",
              "    </tr>\n",
              "    <tr>\n",
              "      <th>69773</th>\n",
              "      <td>Almost time.... #FIFAWorldCup #NothingLikeOran...</td>\n",
              "      <td>1</td>\n",
              "    </tr>\n",
              "    <tr>\n",
              "      <th>97224</th>\n",
              "      <td>Wales allowed touch ball??? unfair. #ENGvsWale...</td>\n",
              "      <td>0</td>\n",
              "    </tr>\n",
              "  </tbody>\n",
              "</table>\n",
              "</div>\n",
              "      <button class=\"colab-df-convert\" onclick=\"convertToInteractive('df-819e6514-2b38-483c-a506-e61cf3a2e687')\"\n",
              "              title=\"Convert this dataframe to an interactive table.\"\n",
              "              style=\"display:none;\">\n",
              "        \n",
              "  <svg xmlns=\"http://www.w3.org/2000/svg\" height=\"24px\"viewBox=\"0 0 24 24\"\n",
              "       width=\"24px\">\n",
              "    <path d=\"M0 0h24v24H0V0z\" fill=\"none\"/>\n",
              "    <path d=\"M18.56 5.44l.94 2.06.94-2.06 2.06-.94-2.06-.94-.94-2.06-.94 2.06-2.06.94zm-11 1L8.5 8.5l.94-2.06 2.06-.94-2.06-.94L8.5 2.5l-.94 2.06-2.06.94zm10 10l.94 2.06.94-2.06 2.06-.94-2.06-.94-.94-2.06-.94 2.06-2.06.94z\"/><path d=\"M17.41 7.96l-1.37-1.37c-.4-.4-.92-.59-1.43-.59-.52 0-1.04.2-1.43.59L10.3 9.45l-7.72 7.72c-.78.78-.78 2.05 0 2.83L4 21.41c.39.39.9.59 1.41.59.51 0 1.02-.2 1.41-.59l7.78-7.78 2.81-2.81c.8-.78.8-2.07 0-2.86zM5.41 20L4 18.59l7.72-7.72 1.47 1.35L5.41 20z\"/>\n",
              "  </svg>\n",
              "      </button>\n",
              "      \n",
              "  <style>\n",
              "    .colab-df-container {\n",
              "      display:flex;\n",
              "      flex-wrap:wrap;\n",
              "      gap: 12px;\n",
              "    }\n",
              "\n",
              "    .colab-df-convert {\n",
              "      background-color: #E8F0FE;\n",
              "      border: none;\n",
              "      border-radius: 50%;\n",
              "      cursor: pointer;\n",
              "      display: none;\n",
              "      fill: #1967D2;\n",
              "      height: 32px;\n",
              "      padding: 0 0 0 0;\n",
              "      width: 32px;\n",
              "    }\n",
              "\n",
              "    .colab-df-convert:hover {\n",
              "      background-color: #E2EBFA;\n",
              "      box-shadow: 0px 1px 2px rgba(60, 64, 67, 0.3), 0px 1px 3px 1px rgba(60, 64, 67, 0.15);\n",
              "      fill: #174EA6;\n",
              "    }\n",
              "\n",
              "    [theme=dark] .colab-df-convert {\n",
              "      background-color: #3B4455;\n",
              "      fill: #D2E3FC;\n",
              "    }\n",
              "\n",
              "    [theme=dark] .colab-df-convert:hover {\n",
              "      background-color: #434B5C;\n",
              "      box-shadow: 0px 1px 3px 1px rgba(0, 0, 0, 0.15);\n",
              "      filter: drop-shadow(0px 1px 2px rgba(0, 0, 0, 0.3));\n",
              "      fill: #FFFFFF;\n",
              "    }\n",
              "  </style>\n",
              "\n",
              "      <script>\n",
              "        const buttonEl =\n",
              "          document.querySelector('#df-819e6514-2b38-483c-a506-e61cf3a2e687 button.colab-df-convert');\n",
              "        buttonEl.style.display =\n",
              "          google.colab.kernel.accessAllowed ? 'block' : 'none';\n",
              "\n",
              "        async function convertToInteractive(key) {\n",
              "          const element = document.querySelector('#df-819e6514-2b38-483c-a506-e61cf3a2e687');\n",
              "          const dataTable =\n",
              "            await google.colab.kernel.invokeFunction('convertToInteractive',\n",
              "                                                     [key], {});\n",
              "          if (!dataTable) return;\n",
              "\n",
              "          const docLinkHtml = 'Like what you see? Visit the ' +\n",
              "            '<a target=\"_blank\" href=https://colab.research.google.com/notebooks/data_table.ipynb>data table notebook</a>'\n",
              "            + ' to learn more about interactive tables.';\n",
              "          element.innerHTML = '';\n",
              "          dataTable['output_type'] = 'display_data';\n",
              "          await google.colab.output.renderOutput(dataTable, element);\n",
              "          const docLink = document.createElement('div');\n",
              "          docLink.innerHTML = docLinkHtml;\n",
              "          element.appendChild(docLink);\n",
              "        }\n",
              "      </script>\n",
              "    </div>\n",
              "  </div>\n",
              "  "
            ]
          },
          "metadata": {},
          "execution_count": 67
        }
      ]
    },
    {
      "cell_type": "code",
      "source": [
        "from sklearn.utils import shuffle\n",
        "tweets =  shuffle(tweets).reset_index(drop=True)"
      ],
      "metadata": {
        "id": "ZGlARmUJiPfg"
      },
      "execution_count": 68,
      "outputs": []
    },
    {
      "cell_type": "code",
      "source": [
        "tokenized_tweet=tweets['text'].apply(lambda x: x.split())\n",
        "tokenized_tweet.head(5)"
      ],
      "metadata": {
        "colab": {
          "base_uri": "https://localhost:8080/"
        },
        "id": "pscnZyR4iRdO",
        "outputId": "ada4a16f-09f7-40fc-a8c6-6c93faaae864"
      },
      "execution_count": 69,
      "outputs": [
        {
          "output_type": "execute_result",
          "data": {
            "text/plain": [
              "0    [Dirty, games, theatre....that, sums, #Argenti...\n",
              "1    [decision, take, Angel, Maria?, #FIFAWorldCup2...\n",
              "2    [Among, last, group, stage, matches, been, pla...\n",
              "3    [WATCH:, #BNNQatar, Reports, After, losing, #F...\n",
              "4    [FIFA, World, 2022:, Ramos, scores, hat-trick,...\n",
              "Name: text, dtype: object"
            ]
          },
          "metadata": {},
          "execution_count": 69
        }
      ]
    },
    {
      "cell_type": "code",
      "source": [
        "from sklearn.feature_extraction.text import CountVectorizer\n",
        "from nltk.tokenize import RegexpTokenizer\n",
        "token = RegexpTokenizer(r'[a-zA-Z0-9]+')\n",
        "cv = CountVectorizer(stop_words='english',ngram_range = (1,1),tokenizer = token.tokenize)\n",
        "text_counts = cv.fit_transform(tweets['text'].values.astype('U'))"
      ],
      "metadata": {
        "id": "sUXa1WG2iVt6",
        "colab": {
          "base_uri": "https://localhost:8080/"
        },
        "outputId": "9afa50be-74b8-492f-b988-098d6a543d5f"
      },
      "execution_count": 70,
      "outputs": [
        {
          "output_type": "stream",
          "name": "stderr",
          "text": [
            "/usr/local/lib/python3.10/dist-packages/sklearn/feature_extraction/text.py:528: UserWarning: The parameter 'token_pattern' will not be used since 'tokenizer' is not None'\n",
            "  warnings.warn(\n"
          ]
        }
      ]
    },
    {
      "cell_type": "markdown",
      "source": [
        "\n",
        "Train/Test Split¶\n"
      ],
      "metadata": {
        "id": "_QN6lbFyiesu"
      }
    },
    {
      "cell_type": "code",
      "source": [
        "from sklearn.model_selection import train_test_split\n",
        "X=text_counts\n",
        "y=tweets['sentiment']\n",
        "X_train, X_test, y_train, y_test = train_test_split(X, y, test_size=0.20,random_state=19)"
      ],
      "metadata": {
        "id": "KGDOFvFxicYV"
      },
      "execution_count": 71,
      "outputs": []
    },
    {
      "cell_type": "markdown",
      "source": [
        "\n",
        "Naive Bayes"
      ],
      "metadata": {
        "id": "C9AnPUFCifl7"
      }
    },
    {
      "cell_type": "code",
      "source": [
        "from sklearn.naive_bayes import ComplementNB\n",
        "from sklearn.model_selection import GridSearchCV\n",
        "from sklearn.model_selection import cross_val_score\n",
        "from sklearn import metrics\n",
        "from math import *\n",
        "cnb = ComplementNB()\n",
        "cnb.fit(X_train, y_train)\n",
        "cross_cnb = cross_val_score(cnb, X, y,n_jobs = -1)\n",
        "print(\"Cross Validation score = \",cross_cnb)                \n",
        "print (\"Train accuracy ={:.2f}%\".format(cnb.score(X_train,y_train)*100))\n",
        "print (\"Test accuracy ={:.2f}%\".format(cnb.score(X_test,y_test)*100))\n",
        "train_acc_cnb=cnb.score(X_train,y_train)\n",
        "test_acc_cnb=cnb.score(X_test,y_test)"
      ],
      "metadata": {
        "colab": {
          "base_uri": "https://localhost:8080/"
        },
        "id": "CEIPCavlig_8",
        "outputId": "cfc7928e-35cf-45fb-e677-7e94bcee5cfe"
      },
      "execution_count": 72,
      "outputs": [
        {
          "output_type": "stream",
          "name": "stdout",
          "text": [
            "Cross Validation score =  [0.72793198 0.73030758 0.73155789 0.73014087 0.7257231 ]\n",
            "Train accuracy =79.93%\n",
            "Test accuracy =73.29%\n"
          ]
        }
      ]
    },
    {
      "cell_type": "code",
      "source": [
        "#plotting the best parameters\n",
        "import matplotlib.patches as mpatches\n",
        "import numpy as np\n",
        "import pandas as pd\n",
        "from pandas import Series, DataFrame\n",
        "import matplotlib.pyplot as plt\n",
        "data_cnb = [train_acc_cnb,test_acc_cnb]\n",
        "labels = ['Train Accuracy','Test Accuracy']\n",
        "plt.xticks(range(len(data_cnb)), labels)\n",
        "plt.ylabel('Accuracy')\n",
        "plt.title('Accuracy plot with best parameters')\n",
        "plt.bar(range(len(data_cnb)), data_cnb,color=['blue','darkorange']) \n",
        "Train_acc = mpatches.Patch(color='blue', label='Train_acc')\n",
        "Test_acc = mpatches.Patch(color='darkorange', label='Test_acc')\n",
        "plt.legend(handles=[Train_acc, Test_acc],loc='best')\n",
        "plt.gcf().set_size_inches(8, 8)\n",
        "plt.show()"
      ],
      "metadata": {
        "colab": {
          "base_uri": "https://localhost:8080/",
          "height": 699
        },
        "id": "A1ID-o4Iipt_",
        "outputId": "306a6e9f-8d1f-4126-df0c-909faf35f0d6"
      },
      "execution_count": 73,
      "outputs": [
        {
          "output_type": "display_data",
          "data": {
            "text/plain": [
              "<Figure size 800x800 with 1 Axes>"
            ],
            "image/png": "[encoded data removed]"
          },
          "metadata": {}
        }
      ]
    },
    {
      "cell_type": "markdown",
      "source": [
        "\n",
        "Confusion Matrix"
      ],
      "metadata": {
        "id": "W4MrwWSUitz9"
      }
    },
    {
      "cell_type": "code",
      "source": [
        "from sklearn.metrics import *\n",
        "#Predict test data set\n",
        "y_pred_cnb =cnb.predict(X_test)\n",
        "\n",
        "#This is the confusion matrix :\n",
        "from sklearn.metrics import confusion_matrix\n",
        "print(confusion_matrix(y_test,y_pred_cnb))"
      ],
      "metadata": {
        "colab": {
          "base_uri": "https://localhost:8080/"
        },
        "id": "Ojq0Kgc_iuaf",
        "outputId": "8014f85b-6295-4078-8280-522cfacd7555"
      },
      "execution_count": 74,
      "outputs": [
        {
          "output_type": "stream",
          "name": "stdout",
          "text": [
            "[[2818  311  945]\n",
            " [1038 5383 2352]\n",
            " [ 666 1097 9384]]\n"
          ]
        }
      ]
    },
    {
      "cell_type": "code",
      "source": [
        "#Checking performance our model with classification report\n",
        "print(classification_report(y_test, y_pred_cnb))"
      ],
      "metadata": {
        "colab": {
          "base_uri": "https://localhost:8080/"
        },
        "id": "wAy-325kiz5b",
        "outputId": "e527de57-8ada-481b-a770-30dbc5fccc41"
      },
      "execution_count": 75,
      "outputs": [
        {
          "output_type": "stream",
          "name": "stdout",
          "text": [
            "              precision    recall  f1-score   support\n",
            "\n",
            "           0       0.62      0.69      0.66      4074\n",
            "           1       0.79      0.61      0.69      8773\n",
            "           2       0.74      0.84      0.79     11147\n",
            "\n",
            "    accuracy                           0.73     23994\n",
            "   macro avg       0.72      0.72      0.71     23994\n",
            "weighted avg       0.74      0.73      0.73     23994\n",
            "\n"
          ]
        }
      ]
    },
    {
      "cell_type": "markdown",
      "source": [
        "\n",
        "Calculating F1, prescision and recall scores"
      ],
      "metadata": {
        "id": "upDfNL4IjUxP"
      }
    },
    {
      "cell_type": "code",
      "source": [
        "from sklearn.metrics import *\n",
        "\n",
        "print(\"F1 score ={:.2f}%\".format(f1_score(y_test, y_pred_cnb, average=\"macro\")*100))\n",
        "f1_cnb=f1_score(y_test, y_pred_cnb, average=\"macro\")\n",
        "print(\"Precision score ={:.2f}%\".format(precision_score(y_test, y_pred_cnb, average=\"macro\")*100))\n",
        "precision_cnb=precision_score(y_test, y_pred_cnb, average=\"macro\")\n",
        "print(\"Recall score ={:.2f}%\".format(recall_score(y_test, y_pred_cnb, average=\"macro\")*100))  \n",
        "recall_cnb=recall_score(y_test, y_pred_cnb, average=\"macro\")"
      ],
      "metadata": {
        "colab": {
          "base_uri": "https://localhost:8080/"
        },
        "id": "ehHvPQqKjVSS",
        "outputId": "23d6eb76-3dad-4499-8827-3ffd3c981270"
      },
      "execution_count": 76,
      "outputs": [
        {
          "output_type": "stream",
          "name": "stdout",
          "text": [
            "F1 score =71.17%\n",
            "Precision score =71.86%\n",
            "Recall score =71.57%\n"
          ]
        }
      ]
    },
    {
      "cell_type": "code",
      "source": [
        "tweets = tweets.replace([2,1,0],['Positive', 'Neutral','Negative'])\n",
        "tweets.head()"
      ],
      "metadata": {
        "colab": {
          "base_uri": "https://localhost:8080/",
          "height": 206
        },
        "id": "MNuGlCzr3c-J",
        "outputId": "46a553d1-2402-41d9-b162-89ebbfdc5243"
      },
      "execution_count": 82,
      "outputs": [
        {
          "output_type": "execute_result",
          "data": {
            "text/plain": [
              "                                                text sentiment\n",
              "0  Dirty games theatre....that sums #Argentina's ...  Negative\n",
              "1  decision take Angel Maria? #FIFAWorldCup2022 #...   Neutral\n",
              "2  Among last group stage matches been played far...  Positive\n",
              "3  WATCH: #BNNQatar Reports After losing #France,...  Positive\n",
              "4  FIFA World 2022: Ramos scores hat-trick Portug...  Positive"
            ],
            "text/html": [
              "\n",
              "  <div id=\"df-370d67b1-9e30-4c52-b54a-5ed610e11104\">\n",
              "    <div class=\"colab-df-container\">\n",
              "      <div>\n",
              "<style scoped>\n",
              "    .dataframe tbody tr th:only-of-type {\n",
              "        vertical-align: middle;\n",
              "    }\n",
              "\n",
              "    .dataframe tbody tr th {\n",
              "        vertical-align: top;\n",
              "    }\n",
              "\n",
              "    .dataframe thead th {\n",
              "        text-align: right;\n",
              "    }\n",
              "</style>\n",
              "<table border=\"1\" class=\"dataframe\">\n",
              "  <thead>\n",
              "    <tr style=\"text-align: right;\">\n",
              "      <th></th>\n",
              "      <th>text</th>\n",
              "      <th>sentiment</th>\n",
              "    </tr>\n",
              "  </thead>\n",
              "  <tbody>\n",
              "    <tr>\n",
              "      <th>0</th>\n",
              "      <td>Dirty games theatre....that sums #Argentina's ...</td>\n",
              "      <td>Negative</td>\n",
              "    </tr>\n",
              "    <tr>\n",
              "      <th>1</th>\n",
              "      <td>decision take Angel Maria? #FIFAWorldCup2022 #...</td>\n",
              "      <td>Neutral</td>\n",
              "    </tr>\n",
              "    <tr>\n",
              "      <th>2</th>\n",
              "      <td>Among last group stage matches been played far...</td>\n",
              "      <td>Positive</td>\n",
              "    </tr>\n",
              "    <tr>\n",
              "      <th>3</th>\n",
              "      <td>WATCH: #BNNQatar Reports After losing #France,...</td>\n",
              "      <td>Positive</td>\n",
              "    </tr>\n",
              "    <tr>\n",
              "      <th>4</th>\n",
              "      <td>FIFA World 2022: Ramos scores hat-trick Portug...</td>\n",
              "      <td>Positive</td>\n",
              "    </tr>\n",
              "  </tbody>\n",
              "</table>\n",
              "</div>\n",
              "      <button class=\"colab-df-convert\" onclick=\"convertToInteractive('df-370d67b1-9e30-4c52-b54a-5ed610e11104')\"\n",
              "              title=\"Convert this dataframe to an interactive table.\"\n",
              "              style=\"display:none;\">\n",
              "        \n",
              "  <svg xmlns=\"http://www.w3.org/2000/svg\" height=\"24px\"viewBox=\"0 0 24 24\"\n",
              "       width=\"24px\">\n",
              "    <path d=\"M0 0h24v24H0V0z\" fill=\"none\"/>\n",
              "    <path d=\"M18.56 5.44l.94 2.06.94-2.06 2.06-.94-2.06-.94-.94-2.06-.94 2.06-2.06.94zm-11 1L8.5 8.5l.94-2.06 2.06-.94-2.06-.94L8.5 2.5l-.94 2.06-2.06.94zm10 10l.94 2.06.94-2.06 2.06-.94-2.06-.94-.94-2.06-.94 2.06-2.06.94z\"/><path d=\"M17.41 7.96l-1.37-1.37c-.4-.4-.92-.59-1.43-.59-.52 0-1.04.2-1.43.59L10.3 9.45l-7.72 7.72c-.78.78-.78 2.05 0 2.83L4 21.41c.39.39.9.59 1.41.59.51 0 1.02-.2 1.41-.59l7.78-7.78 2.81-2.81c.8-.78.8-2.07 0-2.86zM5.41 20L4 18.59l7.72-7.72 1.47 1.35L5.41 20z\"/>\n",
              "  </svg>\n",
              "      </button>\n",
              "      \n",
              "  <style>\n",
              "    .colab-df-container {\n",
              "      display:flex;\n",
              "      flex-wrap:wrap;\n",
              "      gap: 12px;\n",
              "    }\n",
              "\n",
              "    .colab-df-convert {\n",
              "      background-color: #E8F0FE;\n",
              "      border: none;\n",
              "      border-radius: 50%;\n",
              "      cursor: pointer;\n",
              "      display: none;\n",
              "      fill: #1967D2;\n",
              "      height: 32px;\n",
              "      padding: 0 0 0 0;\n",
              "      width: 32px;\n",
              "    }\n",
              "\n",
              "    .colab-df-convert:hover {\n",
              "      background-color: #E2EBFA;\n",
              "      box-shadow: 0px 1px 2px rgba(60, 64, 67, 0.3), 0px 1px 3px 1px rgba(60, 64, 67, 0.15);\n",
              "      fill: #174EA6;\n",
              "    }\n",
              "\n",
              "    [theme=dark] .colab-df-convert {\n",
              "      background-color: #3B4455;\n",
              "      fill: #D2E3FC;\n",
              "    }\n",
              "\n",
              "    [theme=dark] .colab-df-convert:hover {\n",
              "      background-color: #434B5C;\n",
              "      box-shadow: 0px 1px 3px 1px rgba(0, 0, 0, 0.15);\n",
              "      filter: drop-shadow(0px 1px 2px rgba(0, 0, 0, 0.3));\n",
              "      fill: #FFFFFF;\n",
              "    }\n",
              "  </style>\n",
              "\n",
              "      <script>\n",
              "        const buttonEl =\n",
              "          document.querySelector('#df-370d67b1-9e30-4c52-b54a-5ed610e11104 button.colab-df-convert');\n",
              "        buttonEl.style.display =\n",
              "          google.colab.kernel.accessAllowed ? 'block' : 'none';\n",
              "\n",
              "        async function convertToInteractive(key) {\n",
              "          const element = document.querySelector('#df-370d67b1-9e30-4c52-b54a-5ed610e11104');\n",
              "          const dataTable =\n",
              "            await google.colab.kernel.invokeFunction('convertToInteractive',\n",
              "                                                     [key], {});\n",
              "          if (!dataTable) return;\n",
              "\n",
              "          const docLinkHtml = 'Like what you see? Visit the ' +\n",
              "            '<a target=\"_blank\" href=https://colab.research.google.com/notebooks/data_table.ipynb>data table notebook</a>'\n",
              "            + ' to learn more about interactive tables.';\n",
              "          element.innerHTML = '';\n",
              "          dataTable['output_type'] = 'display_data';\n",
              "          await google.colab.output.renderOutput(dataTable, element);\n",
              "          const docLink = document.createElement('div');\n",
              "          docLink.innerHTML = docLinkHtml;\n",
              "          element.appendChild(docLink);\n",
              "        }\n",
              "      </script>\n",
              "    </div>\n",
              "  </div>\n",
              "  "
            ]
          },
          "metadata": {},
          "execution_count": 82
        }
      ]
    },
    {
      "cell_type": "code",
      "source": [
        "temp = tweets.groupby('sentiment').count()['text'].reset_index().sort_values(by='text',ascending=False)\n",
        "temp.style.background_gradient(cmap='Purples')"
      ],
      "metadata": {
        "colab": {
          "base_uri": "https://localhost:8080/",
          "height": 144
        },
        "id": "wP9c-smlxSO7",
        "outputId": "3823d198-7a3c-4422-fe68-0e474860af3f"
      },
      "execution_count": 83,
      "outputs": [
        {
          "output_type": "execute_result",
          "data": {
            "text/plain": [
              "<pandas.io.formats.style.Styler at 0x7fc64083b460>"
            ],
            "text/html": [
              "<style type=\"text/css\">\n",
              "#T_eb73d_row0_col1 {\n",
              "  background-color: #3f007d;\n",
              "  color: #f1f1f1;\n",
              "}\n",
              "#T_eb73d_row1_col1 {\n",
              "  background-color: #7567af;\n",
              "  color: #f1f1f1;\n",
              "}\n",
              "#T_eb73d_row2_col1 {\n",
              "  background-color: #fcfbfd;\n",
              "  color: #000000;\n",
              "}\n",
              "</style>\n",
              "<table id=\"T_eb73d\" class=\"dataframe\">\n",
              "  <thead>\n",
              "    <tr>\n",
              "      <th class=\"blank level0\" >&nbsp;</th>\n",
              "      <th id=\"T_eb73d_level0_col0\" class=\"col_heading level0 col0\" >sentiment</th>\n",
              "      <th id=\"T_eb73d_level0_col1\" class=\"col_heading level0 col1\" >text</th>\n",
              "    </tr>\n",
              "  </thead>\n",
              "  <tbody>\n",
              "    <tr>\n",
              "      <th id=\"T_eb73d_level0_row0\" class=\"row_heading level0 row0\" >2</th>\n",
              "      <td id=\"T_eb73d_row0_col0\" class=\"data row0 col0\" >Positive</td>\n",
              "      <td id=\"T_eb73d_row0_col1\" class=\"data row0 col1\" >55120</td>\n",
              "    </tr>\n",
              "    <tr>\n",
              "      <th id=\"T_eb73d_level0_row1\" class=\"row_heading level0 row1\" >1</th>\n",
              "      <td id=\"T_eb73d_row1_col0\" class=\"data row1 col0\" >Neutral</td>\n",
              "      <td id=\"T_eb73d_row1_col1\" class=\"data row1 col1\" >44286</td>\n",
              "    </tr>\n",
              "    <tr>\n",
              "      <th id=\"T_eb73d_level0_row2\" class=\"row_heading level0 row2\" >0</th>\n",
              "      <td id=\"T_eb73d_row2_col0\" class=\"data row2 col0\" >Negative</td>\n",
              "      <td id=\"T_eb73d_row2_col1\" class=\"data row2 col1\" >20564</td>\n",
              "    </tr>\n",
              "  </tbody>\n",
              "</table>\n"
            ]
          },
          "metadata": {},
          "execution_count": 83
        }
      ]
    }
  ]
}